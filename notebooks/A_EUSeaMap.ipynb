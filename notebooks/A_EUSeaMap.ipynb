{
 "cells": [
  {
   "cell_type": "markdown",
   "id": "a4f857f6-1444-44e8-bf8a-ff3e3c4d1079",
   "metadata": {},
   "source": [
    "# EUSeaMap\n",
    "\n",
    "Integrate EUSeaMap Substrate layer with satellite/habitat data cubes."
   ]
  },
  {
   "cell_type": "code",
   "execution_count": null,
   "id": "db27f8ce-fcbc-438d-a1f4-e1e4c4de8d8f",
   "metadata": {},
   "outputs": [],
   "source": []
  }
 ],
 "metadata": {
  "kernelspec": {
   "display_name": "Python 3 (ipykernel)",
   "language": "python",
   "name": "python3"
  },
  "language_info": {
   "codemirror_mode": {
    "name": "ipython",
    "version": 3
   },
   "file_extension": ".py",
   "mimetype": "text/x-python",
   "name": "python",
   "nbconvert_exporter": "python",
   "pygments_lexer": "ipython3",
   "version": "3.10.13"
  }
 },
 "nbformat": 4,
 "nbformat_minor": 5
}
