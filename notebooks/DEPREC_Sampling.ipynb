{
 "cells": [
  {
   "cell_type": "markdown",
   "id": "4e8e5720-7e3a-48a4-ae68-43002522b84e",
   "metadata": {},
   "source": [
    "## Setup"
   ]
  },
  {
   "cell_type": "markdown",
   "id": "9b7014c8-5239-41e1-8e62-0417545f53f5",
   "metadata": {},
   "source": [
    "Files and system"
   ]
  },
  {
   "cell_type": "code",
   "execution_count": 1,
   "id": "b1899b89-8406-4024-9cb2-c36098bf8149",
   "metadata": {},
   "outputs": [],
   "source": [
    "import os\n",
    "import json"
   ]
  },
  {
   "cell_type": "markdown",
   "id": "9e115047-345c-4748-be3d-a92aa3e7a7ea",
   "metadata": {},
   "source": [
    "Arrays and math"
   ]
  },
  {
   "cell_type": "code",
   "execution_count": 2,
   "id": "da6057be-14e4-4b97-acd1-e87ab493e54a",
   "metadata": {},
   "outputs": [],
   "source": [
    "import numpy as np\n",
    "import xarray as xr\n",
    "import pandas as pd\n",
    "import geopandas as gpd"
   ]
  },
  {
   "cell_type": "code",
   "execution_count": 3,
   "id": "9d82dd52-703a-40be-9811-e9dc43337178",
   "metadata": {},
   "outputs": [],
   "source": [
    "import random"
   ]
  },
  {
   "cell_type": "markdown",
   "id": "62ffe81c-108b-4fa7-bd0c-02e54d735ab0",
   "metadata": {},
   "source": [
    "Geometry"
   ]
  },
  {
   "cell_type": "code",
   "execution_count": 4,
   "id": "3a7b21d3-5951-48fd-a4bd-2ec5b94bad56",
   "metadata": {},
   "outputs": [],
   "source": [
    "from shapely.geometry import Point, MultiPoint"
   ]
  },
  {
   "cell_type": "code",
   "execution_count": 5,
   "id": "4d6c972f-3d18-4e11-b8d4-641f380138d6",
   "metadata": {},
   "outputs": [],
   "source": [
    "from shapely.ops import transform as shapely_transform"
   ]
  },
  {
   "cell_type": "code",
   "execution_count": 6,
   "id": "bdb7aaec-2808-4f9e-a9e2-bb5628a244bf",
   "metadata": {},
   "outputs": [],
   "source": [
    "from shapely import from_wkt"
   ]
  },
  {
   "cell_type": "code",
   "execution_count": 7,
   "id": "573dc1c9-8ba3-4a03-8d24-fe945f4e1c5e",
   "metadata": {},
   "outputs": [],
   "source": [
    "import pyproj"
   ]
  },
  {
   "cell_type": "markdown",
   "id": "3f9be8cc-1e73-4a6e-a570-cd7d525e429c",
   "metadata": {},
   "source": [
    "Raster operations"
   ]
  },
  {
   "cell_type": "code",
   "execution_count": 8,
   "id": "01da07b3-2427-4154-ba83-6d76521d905c",
   "metadata": {},
   "outputs": [],
   "source": [
    "from scipy.ndimage import distance_transform_edt"
   ]
  },
  {
   "cell_type": "code",
   "execution_count": 9,
   "id": "d20802eb-f39e-4ea5-9e17-a1dc965150c6",
   "metadata": {},
   "outputs": [],
   "source": [
    "import rasterio\n",
    "import rioxarray\n",
    "from rasterio.features import rasterize"
   ]
  },
  {
   "cell_type": "code",
   "execution_count": 10,
   "id": "b6040704-721c-4b80-8b2f-19906fe1433f",
   "metadata": {},
   "outputs": [],
   "source": [
    "from rasterio.transform import from_origin"
   ]
  },
  {
   "cell_type": "markdown",
   "id": "fca4a916-748c-4762-a422-f54731736a80",
   "metadata": {},
   "source": [
    "Plotting"
   ]
  },
  {
   "cell_type": "code",
   "execution_count": 11,
   "id": "36f85bb4-17db-4f4b-beb4-30e321934bb7",
   "metadata": {},
   "outputs": [],
   "source": [
    "import matplotlib.pyplot as plt"
   ]
  },
  {
   "cell_type": "markdown",
   "id": "93ed0ba6-ccfc-4949-a3dc-e2a52f330fd9",
   "metadata": {},
   "source": [
    "Logging"
   ]
  },
  {
   "cell_type": "code",
   "execution_count": 12,
   "id": "35bb8821-8e22-4f0f-996d-86284bc255c6",
   "metadata": {},
   "outputs": [],
   "source": [
    "import logging\n",
    "from contextlib import redirect_stdout, redirect_stderr"
   ]
  },
  {
   "cell_type": "markdown",
   "id": "84d9eae0-310e-41e2-83f9-a2d496ed2cc4",
   "metadata": {},
   "source": [
    "Directories"
   ]
  },
  {
   "cell_type": "code",
   "execution_count": 13,
   "id": "d800355c-2634-4107-a185-e472b23d98cd",
   "metadata": {},
   "outputs": [],
   "source": [
    "DATA_DIR = '../data/'\n",
    "FIGURES_DIR = '../saved_figures/'"
   ]
  },
  {
   "cell_type": "markdown",
   "id": "084cd090-7336-4678-ba9b-0424b7789205",
   "metadata": {},
   "source": [
    "Habitat data"
   ]
  },
  {
   "cell_type": "code",
   "execution_count": 14,
   "id": "3becc25b-e33a-4407-bbfa-a9068383536d",
   "metadata": {},
   "outputs": [],
   "source": [
    "habitats_shp = os.path.join(DATA_DIR, 'OSPARHabitats2022_Points_clustered/OSPAR2022Points.shp')\n",
    "habitats_gdf = gpd.read_file(habitats_shp)"
   ]
  },
  {
   "cell_type": "markdown",
   "id": "1b8266a1-6375-4906-abf7-752b4aa152fe",
   "metadata": {},
   "source": [
    "Sub-tile grid"
   ]
  },
  {
   "cell_type": "code",
   "execution_count": 15,
   "id": "892c37d1-a5e3-44f7-ab9c-59b31cf706de",
   "metadata": {},
   "outputs": [],
   "source": [
    "with open(os.path.join(DATA_DIR, 'tile_buffer_wkt.json'), 'r') as f:\n",
    "    tiles_wkt_dict = json.load(f)"
   ]
  },
  {
   "cell_type": "code",
   "execution_count": null,
   "id": "71e169bf-5977-4082-a40e-47b5d2d0d3f3",
   "metadata": {},
   "outputs": [],
   "source": []
  },
  {
   "cell_type": "code",
   "execution_count": 52,
   "id": "be5e7695-af7d-4f13-a0ad-db32cac99777",
   "metadata": {},
   "outputs": [],
   "source": [
    "def sample_pixels_from_mask(mask_da, n_samples, seed=None):\n",
    "    valid_y, valid_x = np.where(mask_da.values)\n",
    "    n_samples = min(n_samples, len(valid_x))\n",
    "    rng = np.random.default_rng(seed)\n",
    "    sampled_indices = rng.choice(len(valid_x), size=n_samples, replace=False)\n",
    "\n",
    "    rows = valid_y[sampled_indices]\n",
    "    cols = valid_x[sampled_indices]\n",
    "\n",
    "    return rows, cols"
   ]
  },
  {
   "cell_type": "markdown",
   "id": "459a2ab3-35ca-4e00-9aeb-4ef4ce6e21fa",
   "metadata": {},
   "source": [
    "Example"
   ]
  },
  {
   "cell_type": "code",
   "execution_count": 109,
   "id": "252bb446-45f0-42e4-a90b-6de3176af313",
   "metadata": {},
   "outputs": [],
   "source": [
    "sampled_points = sample_pixels_from_mask(background_mask, n_samples=100, seed=42)"
   ]
  },
  {
   "cell_type": "code",
   "execution_count": 110,
   "id": "31c4448a-c505-48dc-8b0b-974c47ba5e0f",
   "metadata": {},
   "outputs": [
    {
     "data": {
      "text/plain": [
       "(array([ 901, 1259, 1069,  926,  912, 1137,  598,  796,  610, 1098,  628,\n",
       "         954,  898, 1168,  845, 1086, 1174,  649, 1216, 1289,  680, 1243,\n",
       "        1220,  572,  605, 1180, 1149,  635, 1125,  583,  694,  999, 1087,\n",
       "         978,  993,  750, 1230, 1142, 1054, 1130,  540, 1181,  994,  861,\n",
       "         906,  934, 1045,  518, 1126,  679, 1060, 1224, 1077,  842,  908,\n",
       "         922, 1247,  967, 1109, 1114,  874,  846, 1134,  526, 1049, 1077,\n",
       "        1171,  535,  736,  545, 1293, 1124,  491, 1193, 1088,  900, 1193,\n",
       "         641,  839,  514,  542,  956, 1300,  903,  780, 1155, 1046, 1074,\n",
       "         928, 1139,  882,  829, 1115,  573, 1079,  801,  538, 1006,  912,\n",
       "        1175]),\n",
       " array([1333,  779,  909,  762,  912,  713, 1355,  878, 1221,  835, 1268,\n",
       "         761, 1191,  499, 1319,  551, 1075, 1195,  537,  643,  762, 1007,\n",
       "         576,  929, 1299,  597,  537, 1445,  643,  860,  765, 1321, 1221,\n",
       "         979,  772,  792,  463,  802,  546,  781, 1200,  933,  689,  866,\n",
       "        1241,  767, 1153,  950,  462, 1447,  806,  543,  846,  740, 1010,\n",
       "        1304,  733, 1165, 1137, 1015, 1363,  658,  723, 1040, 1267,  601,\n",
       "         824,  945, 1391,  838,  648,  512, 1226, 1102,  516,  911,  978,\n",
       "        1244,  853,  880, 1063,  904,  773,  764,  680,  780, 1225,  767,\n",
       "        1164,  788,  737,  864,  921, 1376,  912, 1371,  906, 1028,  871,\n",
       "         592]))"
      ]
     },
     "execution_count": 110,
     "metadata": {},
     "output_type": "execute_result"
    }
   ],
   "source": [
    "sampled_points"
   ]
  },
  {
   "cell_type": "markdown",
   "id": "e2874e67-9ef8-4e6d-b4e5-0d560268f503",
   "metadata": {},
   "source": [
    "Save"
   ]
  },
  {
   "cell_type": "code",
   "execution_count": null,
   "id": "105dc1fe-94e1-4c71-aa66-332cf9c010e9",
   "metadata": {},
   "outputs": [],
   "source": [
    "# sampled_points_gdf = ..."
   ]
  },
  {
   "cell_type": "code",
   "execution_count": null,
   "id": "68f863a7-ea88-4a72-aa2d-e061dd1a95dc",
   "metadata": {},
   "outputs": [],
   "source": [
    "# sampled_points_gdf.to_file(..."
   ]
  },
  {
   "cell_type": "code",
   "execution_count": 53,
   "id": "7ea0aa39-3110-48c4-b776-fd143edaac02",
   "metadata": {},
   "outputs": [],
   "source": [
    "def sample_point_pixels(gdf, coords_tree, n_samples, seed=None):\n",
    "    n_samples = min(n_samples, len(gdf))\n",
    "    rng = np.random.default_rng(seed)\n",
    "\n",
    "    # sample randomly\n",
    "    sampled_indices = rng.choice(len(gdf), size=n_samples, replace=False)\n",
    "\n",
    "    # find pixel locations\n",
    "    geoms = gdf.loc[sampled_indices, 'geometry']\n",
    "    _, pixel_locs = coords_tree.query(np.column_stack((geoms.values.x, geoms.values.y)))\n",
    "\n",
    "    return pixel_locs"
   ]
  },
  {
   "cell_type": "markdown",
   "id": "3d0a9d63-8c76-4481-8d19-bd4a860fce0b",
   "metadata": {},
   "source": [
    "Example"
   ]
  },
  {
   "cell_type": "code",
   "execution_count": null,
   "id": "e561e1cd-d621-4836-8be2-d8055a928f8d",
   "metadata": {},
   "outputs": [],
   "source": [
    "hab_of_interest = ['Zostera beds', 'Kelp forests']"
   ]
  },
  {
   "cell_type": "code",
   "execution_count": null,
   "id": "8ff9ebf6-2610-46f3-a524-71d43de00aff",
   "metadata": {},
   "outputs": [],
   "source": [
    "other_gdf = gdf[~gdf['HabType'].isin(hab_of_interest)]"
   ]
  },
  {
   "cell_type": "code",
   "execution_count": null,
   "id": "b176b8ef-3f8d-4370-aa10-e2dd2df61b0b",
   "metadata": {},
   "outputs": [],
   "source": [
    "tile_gdf = other_gdf[other_gdf['tileId'] == tileId]"
   ]
  },
  {
   "cell_type": "code",
   "execution_count": null,
   "id": "b9bbc1d4-ca85-4c42-90bc-d9d3366f4fc5",
   "metadata": {},
   "outputs": [],
   "source": [
    "subtile_gdf = tile_gdf[tile_gdf['subtile_index'] == subtile_idx]"
   ]
  },
  {
   "cell_type": "code",
   "execution_count": null,
   "id": "24652764-946d-4afe-a777-0be31669157b",
   "metadata": {},
   "outputs": [],
   "source": [
    "latitudes = template_da['lat'].values.ravel()\n",
    "longitudes = template_da['lon'].values.ravel()\n",
    "\n",
    "coords_tree = cKDTree(np.column_stack((latitudes, longitudes)))\n",
    "\n",
    "other_samples = sample_point_pixels(subtile_gdf, coords_tree, 100, seed=42)"
   ]
  },
  {
   "cell_type": "markdown",
   "id": "48534218-76e6-4a2e-8c90-ed4e90189900",
   "metadata": {},
   "source": [
    "## Loop over tiles and subtiles - test: Zostera only"
   ]
  },
  {
   "cell_type": "code",
   "execution_count": 58,
   "id": "18bd947d-2b46-4377-82f9-1593d4334fef",
   "metadata": {},
   "outputs": [],
   "source": [
    "with open(os.path.join(DATA_DIR, 'unknown_subtiles.json'), 'r') as f:\n",
    "    unknown_subtiles = json.load(f)"
   ]
  },
  {
   "cell_type": "code",
   "execution_count": 56,
   "id": "d19267da-aaab-49e0-98d2-2768bc4a593a",
   "metadata": {},
   "outputs": [
    {
     "data": {
      "text/plain": [
       "<matplotlib.collections.QuadMesh at 0x7ee38add9fc0>"
      ]
     },
     "execution_count": 56,
     "metadata": {},
     "output_type": "execute_result"
    },
    {
     "data": {
      "image/png": "[encoded data removed]",
      "text/plain": [
       "<Figure size 640x480 with 2 Axes>"
      ]
     },
     "metadata": {},
     "output_type": "display_data"
    }
   ],
   "source": [
    "bubbles_mask.plot(x='lon', y='lat')"
   ]
  },
  {
   "cell_type": "code",
   "execution_count": 57,
   "id": "cc97db0b-cbc3-4341-b8b2-c59793245dc2",
   "metadata": {},
   "outputs": [
    {
     "data": {
      "text/plain": [
       "<matplotlib.collections.QuadMesh at 0x7ee38f61f3d0>"
      ]
     },
     "execution_count": 57,
     "metadata": {},
     "output_type": "execute_result"
    },
    {
     "data": {
      "image/png": "[encoded data removed]",
      "text/plain": [
       "<Figure size 640x480 with 2 Axes>"
      ]
     },
     "metadata": {},
     "output_type": "display_data"
    }
   ],
   "source": [
    "background_mask.plot(x='lon', y='lat')"
   ]
  },
  {
   "cell_type": "code",
   "execution_count": 43,
   "id": "15d2e408-0478-4792-b8ec-8314ef0f0069",
   "metadata": {},
   "outputs": [
    {
     "data": {
      "text/html": [
       "<div><svg style=\"position: absolute; width: 0; height: 0; overflow: hidden\">\n",
       "<defs>\n",
       "<symbol id=\"icon-database\" viewBox=\"0 0 32 32\">\n",
       "<path d=\"M16 0c-8.837 0-16 2.239-16 5v4c0 2.761 7.163 5 16 5s16-2.239 16-5v-4c0-2.761-7.163-5-16-5z\"></path>\n",
       "<path d=\"M16 17c-8.837 0-16-2.239-16-5v6c0 2.761 7.163 5 16 5s16-2.239 16-5v-6c0 2.761-7.163 5-16 5z\"></path>\n",
       "<path d=\"M16 26c-8.837 0-16-2.239-16-5v6c0 2.761 7.163 5 16 5s16-2.239 16-5v-6c0 2.761-7.163 5-16 5z\"></path>\n",
       "</symbol>\n",
       "<symbol id=\"icon-file-text2\" viewBox=\"0 0 32 32\">\n",
       "<path d=\"M28.681 7.159c-0.694-0.947-1.662-2.053-2.724-3.116s-2.169-2.030-3.116-2.724c-1.612-1.182-2.393-1.319-2.841-1.319h-15.5c-1.378 0-2.5 1.121-2.5 2.5v27c0 1.378 1.122 2.5 2.5 2.5h23c1.378 0 2.5-1.122 2.5-2.5v-19.5c0-0.448-0.137-1.23-1.319-2.841zM24.543 5.457c0.959 0.959 1.712 1.825 2.268 2.543h-4.811v-4.811c0.718 0.556 1.584 1.309 2.543 2.268zM28 29.5c0 0.271-0.229 0.5-0.5 0.5h-23c-0.271 0-0.5-0.229-0.5-0.5v-27c0-0.271 0.229-0.5 0.5-0.5 0 0 15.499-0 15.5 0v7c0 0.552 0.448 1 1 1h7v19.5z\"></path>\n",
       "<path d=\"M23 26h-14c-0.552 0-1-0.448-1-1s0.448-1 1-1h14c0.552 0 1 0.448 1 1s-0.448 1-1 1z\"></path>\n",
       "<path d=\"M23 22h-14c-0.552 0-1-0.448-1-1s0.448-1 1-1h14c0.552 0 1 0.448 1 1s-0.448 1-1 1z\"></path>\n",
       "<path d=\"M23 18h-14c-0.552 0-1-0.448-1-1s0.448-1 1-1h14c0.552 0 1 0.448 1 1s-0.448 1-1 1z\"></path>\n",
       "</symbol>\n",
       "</defs>\n",
       "</svg>\n",
       "<style>/* CSS stylesheet for displaying xarray objects in jupyterlab.\n",
       " *\n",
       " */\n",
       "\n",
       ":root {\n",
       "  --xr-font-color0: var(--jp-content-font-color0, rgba(0, 0, 0, 1));\n",
       "  --xr-font-color2: var(--jp-content-font-color2, rgba(0, 0, 0, 0.54));\n",
       "  --xr-font-color3: var(--jp-content-font-color3, rgba(0, 0, 0, 0.38));\n",
       "  --xr-border-color: var(--jp-border-color2, #e0e0e0);\n",
       "  --xr-disabled-color: var(--jp-layout-color3, #bdbdbd);\n",
       "  --xr-background-color: var(--jp-layout-color0, white);\n",
       "  --xr-background-color-row-even: var(--jp-layout-color1, white);\n",
       "  --xr-background-color-row-odd: var(--jp-layout-color2, #eeeeee);\n",
       "}\n",
       "\n",
       "html[theme=\"dark\"],\n",
       "html[data-theme=\"dark\"],\n",
       "body[data-theme=\"dark\"],\n",
       "body.vscode-dark {\n",
       "  --xr-font-color0: rgba(255, 255, 255, 1);\n",
       "  --xr-font-color2: rgba(255, 255, 255, 0.54);\n",
       "  --xr-font-color3: rgba(255, 255, 255, 0.38);\n",
       "  --xr-border-color: #1f1f1f;\n",
       "  --xr-disabled-color: #515151;\n",
       "  --xr-background-color: #111111;\n",
       "  --xr-background-color-row-even: #111111;\n",
       "  --xr-background-color-row-odd: #313131;\n",
       "}\n",
       "\n",
       ".xr-wrap {\n",
       "  display: block !important;\n",
       "  min-width: 300px;\n",
       "  max-width: 700px;\n",
       "}\n",
       "\n",
       ".xr-text-repr-fallback {\n",
       "  /* fallback to plain text repr when CSS is not injected (untrusted notebook) */\n",
       "  display: none;\n",
       "}\n",
       "\n",
       ".xr-header {\n",
       "  padding-top: 6px;\n",
       "  padding-bottom: 6px;\n",
       "  margin-bottom: 4px;\n",
       "  border-bottom: solid 1px var(--xr-border-color);\n",
       "}\n",
       "\n",
       ".xr-header > div,\n",
       ".xr-header > ul {\n",
       "  display: inline;\n",
       "  margin-top: 0;\n",
       "  margin-bottom: 0;\n",
       "}\n",
       "\n",
       ".xr-obj-type,\n",
       ".xr-array-name {\n",
       "  margin-left: 2px;\n",
       "  margin-right: 10px;\n",
       "}\n",
       "\n",
       ".xr-obj-type {\n",
       "  color: var(--xr-font-color2);\n",
       "}\n",
       "\n",
       ".xr-sections {\n",
       "  padding-left: 0 !important;\n",
       "  display: grid;\n",
       "  grid-template-columns: 150px auto auto 1fr 0 20px 0 20px;\n",
       "}\n",
       "\n",
       ".xr-section-item {\n",
       "  display: contents;\n",
       "}\n",
       "\n",
       ".xr-section-item input {\n",
       "  display: inline-block;\n",
       "  opacity: 0;\n",
       "  height: 0;\n",
       "}\n",
       "\n",
       ".xr-section-item input + label {\n",
       "  color: var(--xr-disabled-color);\n",
       "}\n",
       "\n",
       ".xr-section-item input:enabled + label {\n",
       "  cursor: pointer;\n",
       "  color: var(--xr-font-color2);\n",
       "}\n",
       "\n",
       ".xr-section-item input:focus + label {\n",
       "  border: 2px solid var(--xr-font-color0);\n",
       "}\n",
       "\n",
       ".xr-section-item input:enabled + label:hover {\n",
       "  color: var(--xr-font-color0);\n",
       "}\n",
       "\n",
       ".xr-section-summary {\n",
       "  grid-column: 1;\n",
       "  color: var(--xr-font-color2);\n",
       "  font-weight: 500;\n",
       "}\n",
       "\n",
       ".xr-section-summary > span {\n",
       "  display: inline-block;\n",
       "  padding-left: 0.5em;\n",
       "}\n",
       "\n",
       ".xr-section-summary-in:disabled + label {\n",
       "  color: var(--xr-font-color2);\n",
       "}\n",
       "\n",
       ".xr-section-summary-in + label:before {\n",
       "  display: inline-block;\n",
       "  content: \"►\";\n",
       "  font-size: 11px;\n",
       "  width: 15px;\n",
       "  text-align: center;\n",
       "}\n",
       "\n",
       ".xr-section-summary-in:disabled + label:before {\n",
       "  color: var(--xr-disabled-color);\n",
       "}\n",
       "\n",
       ".xr-section-summary-in:checked + label:before {\n",
       "  content: \"▼\";\n",
       "}\n",
       "\n",
       ".xr-section-summary-in:checked + label > span {\n",
       "  display: none;\n",
       "}\n",
       "\n",
       ".xr-section-summary,\n",
       ".xr-section-inline-details {\n",
       "  padding-top: 4px;\n",
       "  padding-bottom: 4px;\n",
       "}\n",
       "\n",
       ".xr-section-inline-details {\n",
       "  grid-column: 2 / -1;\n",
       "}\n",
       "\n",
       ".xr-section-details {\n",
       "  display: none;\n",
       "  grid-column: 1 / -1;\n",
       "  margin-bottom: 5px;\n",
       "}\n",
       "\n",
       ".xr-section-summary-in:checked ~ .xr-section-details {\n",
       "  display: contents;\n",
       "}\n",
       "\n",
       ".xr-array-wrap {\n",
       "  grid-column: 1 / -1;\n",
       "  display: grid;\n",
       "  grid-template-columns: 20px auto;\n",
       "}\n",
       "\n",
       ".xr-array-wrap > label {\n",
       "  grid-column: 1;\n",
       "  vertical-align: top;\n",
       "}\n",
       "\n",
       ".xr-preview {\n",
       "  color: var(--xr-font-color3);\n",
       "}\n",
       "\n",
       ".xr-array-preview,\n",
       ".xr-array-data {\n",
       "  padding: 0 5px !important;\n",
       "  grid-column: 2;\n",
       "}\n",
       "\n",
       ".xr-array-data,\n",
       ".xr-array-in:checked ~ .xr-array-preview {\n",
       "  display: none;\n",
       "}\n",
       "\n",
       ".xr-array-in:checked ~ .xr-array-data,\n",
       ".xr-array-preview {\n",
       "  display: inline-block;\n",
       "}\n",
       "\n",
       ".xr-dim-list {\n",
       "  display: inline-block !important;\n",
       "  list-style: none;\n",
       "  padding: 0 !important;\n",
       "  margin: 0;\n",
       "}\n",
       "\n",
       ".xr-dim-list li {\n",
       "  display: inline-block;\n",
       "  padding: 0;\n",
       "  margin: 0;\n",
       "}\n",
       "\n",
       ".xr-dim-list:before {\n",
       "  content: \"(\";\n",
       "}\n",
       "\n",
       ".xr-dim-list:after {\n",
       "  content: \")\";\n",
       "}\n",
       "\n",
       ".xr-dim-list li:not(:last-child):after {\n",
       "  content: \",\";\n",
       "  padding-right: 5px;\n",
       "}\n",
       "\n",
       ".xr-has-index {\n",
       "  font-weight: bold;\n",
       "}\n",
       "\n",
       ".xr-var-list,\n",
       ".xr-var-item {\n",
       "  display: contents;\n",
       "}\n",
       "\n",
       ".xr-var-item > div,\n",
       ".xr-var-item label,\n",
       ".xr-var-item > .xr-var-name span {\n",
       "  background-color: var(--xr-background-color-row-even);\n",
       "  margin-bottom: 0;\n",
       "}\n",
       "\n",
       ".xr-var-item > .xr-var-name:hover span {\n",
       "  padding-right: 5px;\n",
       "}\n",
       "\n",
       ".xr-var-list > li:nth-child(odd) > div,\n",
       ".xr-var-list > li:nth-child(odd) > label,\n",
       ".xr-var-list > li:nth-child(odd) > .xr-var-name span {\n",
       "  background-color: var(--xr-background-color-row-odd);\n",
       "}\n",
       "\n",
       ".xr-var-name {\n",
       "  grid-column: 1;\n",
       "}\n",
       "\n",
       ".xr-var-dims {\n",
       "  grid-column: 2;\n",
       "}\n",
       "\n",
       ".xr-var-dtype {\n",
       "  grid-column: 3;\n",
       "  text-align: right;\n",
       "  color: var(--xr-font-color2);\n",
       "}\n",
       "\n",
       ".xr-var-preview {\n",
       "  grid-column: 4;\n",
       "}\n",
       "\n",
       ".xr-index-preview {\n",
       "  grid-column: 2 / 5;\n",
       "  color: var(--xr-font-color2);\n",
       "}\n",
       "\n",
       ".xr-var-name,\n",
       ".xr-var-dims,\n",
       ".xr-var-dtype,\n",
       ".xr-preview,\n",
       ".xr-attrs dt {\n",
       "  white-space: nowrap;\n",
       "  overflow: hidden;\n",
       "  text-overflow: ellipsis;\n",
       "  padding-right: 10px;\n",
       "}\n",
       "\n",
       ".xr-var-name:hover,\n",
       ".xr-var-dims:hover,\n",
       ".xr-var-dtype:hover,\n",
       ".xr-attrs dt:hover {\n",
       "  overflow: visible;\n",
       "  width: auto;\n",
       "  z-index: 1;\n",
       "}\n",
       "\n",
       ".xr-var-attrs,\n",
       ".xr-var-data,\n",
       ".xr-index-data {\n",
       "  display: none;\n",
       "  background-color: var(--xr-background-color) !important;\n",
       "  padding-bottom: 5px !important;\n",
       "}\n",
       "\n",
       ".xr-var-attrs-in:checked ~ .xr-var-attrs,\n",
       ".xr-var-data-in:checked ~ .xr-var-data,\n",
       ".xr-index-data-in:checked ~ .xr-index-data {\n",
       "  display: block;\n",
       "}\n",
       "\n",
       ".xr-var-data > table {\n",
       "  float: right;\n",
       "}\n",
       "\n",
       ".xr-var-name span,\n",
       ".xr-var-data,\n",
       ".xr-index-name div,\n",
       ".xr-index-data,\n",
       ".xr-attrs {\n",
       "  padding-left: 25px !important;\n",
       "}\n",
       "\n",
       ".xr-attrs,\n",
       ".xr-var-attrs,\n",
       ".xr-var-data,\n",
       ".xr-index-data {\n",
       "  grid-column: 1 / -1;\n",
       "}\n",
       "\n",
       "dl.xr-attrs {\n",
       "  padding: 0;\n",
       "  margin: 0;\n",
       "  display: grid;\n",
       "  grid-template-columns: 125px auto;\n",
       "}\n",
       "\n",
       ".xr-attrs dt,\n",
       ".xr-attrs dd {\n",
       "  padding: 0;\n",
       "  margin: 0;\n",
       "  float: left;\n",
       "  padding-right: 10px;\n",
       "  width: auto;\n",
       "}\n",
       "\n",
       ".xr-attrs dt {\n",
       "  font-weight: normal;\n",
       "  grid-column: 1;\n",
       "}\n",
       "\n",
       ".xr-attrs dt:hover span {\n",
       "  display: inline-block;\n",
       "  background: var(--xr-background-color);\n",
       "  padding-right: 10px;\n",
       "}\n",
       "\n",
       ".xr-attrs dd {\n",
       "  grid-column: 2;\n",
       "  white-space: pre-wrap;\n",
       "  word-break: break-all;\n",
       "}\n",
       "\n",
       ".xr-icon-database,\n",
       ".xr-icon-file-text2,\n",
       ".xr-no-icon {\n",
       "  display: inline-block;\n",
       "  vertical-align: middle;\n",
       "  width: 1em;\n",
       "  height: 1.5em !important;\n",
       "  stroke-width: 0;\n",
       "  stroke: currentColor;\n",
       "  fill: currentColor;\n",
       "}\n",
       "</style><pre class='xr-text-repr-fallback'>&lt;xarray.DataArray &#x27;background_mask&#x27; (y: 3599, x: 5490)&gt; Size: 20MB\n",
       "array([[False, False, False, ..., False, False, False],\n",
       "       [False, False, False, ..., False, False, False],\n",
       "       [False, False, False, ..., False, False, False],\n",
       "       ...,\n",
       "       [False, False, False, ..., False, False, False],\n",
       "       [False, False, False, ..., False, False, False],\n",
       "       [False, False, False, ..., False, False, False]])\n",
       "Coordinates:\n",
       "    lat          (y, x) float64 158MB 50.52 50.52 50.52 50.52 ... 49.9 49.9 49.9\n",
       "    lon          (y, x) float64 158MB -5.821 -5.821 -5.821 ... -4.256 -4.256\n",
       "    spatial_ref  int64 8B 0\n",
       "Dimensions without coordinates: y, x</pre><div class='xr-wrap' style='display:none'><div class='xr-header'><div class='xr-obj-type'>xarray.DataArray</div><div class='xr-array-name'>'background_mask'</div><ul class='xr-dim-list'><li><span>y</span>: 3599</li><li><span>x</span>: 5490</li></ul></div><ul class='xr-sections'><li class='xr-section-item'><div class='xr-array-wrap'><input id='section-0a02ca87-eea1-4c84-bbca-60934f09491d' class='xr-array-in' type='checkbox' checked><label for='section-0a02ca87-eea1-4c84-bbca-60934f09491d' title='Show/hide data repr'><svg class='icon xr-icon-database'><use xlink:href='#icon-database'></use></svg></label><div class='xr-array-preview xr-preview'><span>False False False False False False ... False False False False False</span></div><div class='xr-array-data'><pre>array([[False, False, False, ..., False, False, False],\n",
       "       [False, False, False, ..., False, False, False],\n",
       "       [False, False, False, ..., False, False, False],\n",
       "       ...,\n",
       "       [False, False, False, ..., False, False, False],\n",
       "       [False, False, False, ..., False, False, False],\n",
       "       [False, False, False, ..., False, False, False]])</pre></div></div></li><li class='xr-section-item'><input id='section-e272945a-a088-4ccc-8403-9bd04cbadcfe' class='xr-section-summary-in' type='checkbox'  checked><label for='section-e272945a-a088-4ccc-8403-9bd04cbadcfe' class='xr-section-summary' >Coordinates: <span>(3)</span></label><div class='xr-section-inline-details'></div><div class='xr-section-details'><ul class='xr-var-list'><li class='xr-var-item'><div class='xr-var-name'><span>lat</span></div><div class='xr-var-dims'>(y, x)</div><div class='xr-var-dtype'>float64</div><div class='xr-var-preview xr-preview'>50.52 50.52 50.52 ... 49.9 49.9</div><input id='attrs-3c18da76-5a12-4909-9599-46cfc0d6dded' class='xr-var-attrs-in' type='checkbox' ><label for='attrs-3c18da76-5a12-4909-9599-46cfc0d6dded' title='Show/Hide attributes'><svg class='icon xr-icon-file-text2'><use xlink:href='#icon-file-text2'></use></svg></label><input id='data-6364c177-0179-43ae-8cbd-148e517f91d2' class='xr-var-data-in' type='checkbox'><label for='data-6364c177-0179-43ae-8cbd-148e517f91d2' title='Show/Hide data repr'><svg class='icon xr-icon-database'><use xlink:href='#icon-database'></use></svg></label><div class='xr-var-attrs'><dl class='xr-attrs'><dt><span>long_name :</span></dt><dd>latitude coordinate</dd><dt><span>units :</span></dt><dd>degree</dd></dl></div><div class='xr-var-data'><pre>array([[50.51801363, 50.51802046, 50.5180273 , ..., 50.54523553,\n",
       "        50.54523862, 50.54524171],\n",
       "       [50.51783398, 50.51784082, 50.51784765, ..., 50.54505571,\n",
       "        50.5450588 , 50.54506189],\n",
       "       [50.51765434, 50.51766117, 50.517668  , ..., 50.54487589,\n",
       "        50.54487898, 50.54488207],\n",
       "       ...,\n",
       "       [49.87195743, 49.87196411, 49.87197078, ..., 49.89856591,\n",
       "        49.89856893, 49.89857194],\n",
       "       [49.87177775, 49.87178443, 49.87179111, ..., 49.89838607,\n",
       "        49.89838909, 49.8983921 ],\n",
       "       [49.87159808, 49.87160476, 49.87161144, ..., 49.89820623,\n",
       "        49.89820924, 49.89821226]])</pre></div></li><li class='xr-var-item'><div class='xr-var-name'><span>lon</span></div><div class='xr-var-dims'>(y, x)</div><div class='xr-var-dtype'>float64</div><div class='xr-var-preview xr-preview'>-5.821 -5.821 ... -4.256 -4.256</div><input id='attrs-c1a8e460-92bb-4fd8-ab88-e45690af4bc8' class='xr-var-attrs-in' type='checkbox' ><label for='attrs-c1a8e460-92bb-4fd8-ab88-e45690af4bc8' title='Show/Hide attributes'><svg class='icon xr-icon-file-text2'><use xlink:href='#icon-file-text2'></use></svg></label><input id='data-a473ccaf-1dd0-4559-accb-c3766e3095b9' class='xr-var-data-in' type='checkbox'><label for='data-a473ccaf-1dd0-4559-accb-c3766e3095b9' title='Show/Hide data repr'><svg class='icon xr-icon-database'><use xlink:href='#icon-database'></use></svg></label><div class='xr-var-attrs'><dl class='xr-attrs'><dt><span>long_name :</span></dt><dd>longitude coordinate</dd><dt><span>units :</span></dt><dd>degree</dd></dl></div><div class='xr-var-data'><pre>array([[-5.82118624, -5.82090447, -5.8206227 , ..., -4.27377867,\n",
       "        -4.27349647, -4.27321426],\n",
       "       [-5.82117552, -5.82089376, -5.82061199, ..., -4.27377383,\n",
       "        -4.27349162, -4.27320942],\n",
       "       [-5.82116481, -5.82088304, -5.82060127, ..., -4.27376898,\n",
       "        -4.27348678, -4.27320458],\n",
       "       ...,\n",
       "       [-5.78334189, -5.78306389, -5.78278589, ..., -4.2566702 ,\n",
       "        -4.25639179, -4.25611337],\n",
       "       [-5.78333156, -5.78305356, -5.78277556, ..., -4.25666553,\n",
       "        -4.25638712, -4.2561087 ],\n",
       "       [-5.78332123, -5.78304323, -5.78276523, ..., -4.25666086,\n",
       "        -4.25638245, -4.25610403]])</pre></div></li><li class='xr-var-item'><div class='xr-var-name'><span>spatial_ref</span></div><div class='xr-var-dims'>()</div><div class='xr-var-dtype'>int64</div><div class='xr-var-preview xr-preview'>0</div><input id='attrs-224539d1-1cbe-4782-826c-2d145c10691c' class='xr-var-attrs-in' type='checkbox' ><label for='attrs-224539d1-1cbe-4782-826c-2d145c10691c' title='Show/Hide attributes'><svg class='icon xr-icon-file-text2'><use xlink:href='#icon-file-text2'></use></svg></label><input id='data-bc4e9679-5ea6-46b0-a930-52dd581808c6' class='xr-var-data-in' type='checkbox'><label for='data-bc4e9679-5ea6-46b0-a930-52dd581808c6' title='Show/Hide data repr'><svg class='icon xr-icon-database'><use xlink:href='#icon-database'></use></svg></label><div class='xr-var-attrs'><dl class='xr-attrs'><dt><span>crs_wkt :</span></dt><dd>GEOGCS[&quot;WGS 84&quot;,DATUM[&quot;WGS_1984&quot;,SPHEROID[&quot;WGS 84&quot;,6378137,298.257223563,AUTHORITY[&quot;EPSG&quot;,&quot;7030&quot;]],AUTHORITY[&quot;EPSG&quot;,&quot;6326&quot;]],PRIMEM[&quot;Greenwich&quot;,0,AUTHORITY[&quot;EPSG&quot;,&quot;8901&quot;]],UNIT[&quot;degree&quot;,0.0174532925199433,AUTHORITY[&quot;EPSG&quot;,&quot;9122&quot;]],AXIS[&quot;Latitude&quot;,NORTH],AXIS[&quot;Longitude&quot;,EAST],AUTHORITY[&quot;EPSG&quot;,&quot;4326&quot;]]</dd><dt><span>semi_major_axis :</span></dt><dd>6378137.0</dd><dt><span>semi_minor_axis :</span></dt><dd>6356752.314245179</dd><dt><span>inverse_flattening :</span></dt><dd>298.257223563</dd><dt><span>reference_ellipsoid_name :</span></dt><dd>WGS 84</dd><dt><span>longitude_of_prime_meridian :</span></dt><dd>0.0</dd><dt><span>prime_meridian_name :</span></dt><dd>Greenwich</dd><dt><span>geographic_crs_name :</span></dt><dd>WGS 84</dd><dt><span>horizontal_datum_name :</span></dt><dd>World Geodetic System 1984</dd><dt><span>grid_mapping_name :</span></dt><dd>latitude_longitude</dd><dt><span>spatial_ref :</span></dt><dd>GEOGCS[&quot;WGS 84&quot;,DATUM[&quot;WGS_1984&quot;,SPHEROID[&quot;WGS 84&quot;,6378137,298.257223563,AUTHORITY[&quot;EPSG&quot;,&quot;7030&quot;]],AUTHORITY[&quot;EPSG&quot;,&quot;6326&quot;]],PRIMEM[&quot;Greenwich&quot;,0,AUTHORITY[&quot;EPSG&quot;,&quot;8901&quot;]],UNIT[&quot;degree&quot;,0.0174532925199433,AUTHORITY[&quot;EPSG&quot;,&quot;9122&quot;]],AXIS[&quot;Latitude&quot;,NORTH],AXIS[&quot;Longitude&quot;,EAST],AUTHORITY[&quot;EPSG&quot;,&quot;4326&quot;]]</dd></dl></div><div class='xr-var-data'><pre>array(0)</pre></div></li></ul></div></li><li class='xr-section-item'><input id='section-8b4ec23b-4644-429a-88d5-c13b7e655b59' class='xr-section-summary-in' type='checkbox' disabled ><label for='section-8b4ec23b-4644-429a-88d5-c13b7e655b59' class='xr-section-summary'  title='Expand/collapse section'>Indexes: <span>(0)</span></label><div class='xr-section-inline-details'></div><div class='xr-section-details'><ul class='xr-var-list'></ul></div></li><li class='xr-section-item'><input id='section-899b5ba1-fd81-409e-a315-d19d221cc6bf' class='xr-section-summary-in' type='checkbox' disabled ><label for='section-899b5ba1-fd81-409e-a315-d19d221cc6bf' class='xr-section-summary'  title='Expand/collapse section'>Attributes: <span>(0)</span></label><div class='xr-section-inline-details'></div><div class='xr-section-details'><dl class='xr-attrs'></dl></div></li></ul></div></div>"
      ],
      "text/plain": [
       "<xarray.DataArray 'background_mask' (y: 3599, x: 5490)> Size: 20MB\n",
       "array([[False, False, False, ..., False, False, False],\n",
       "       [False, False, False, ..., False, False, False],\n",
       "       [False, False, False, ..., False, False, False],\n",
       "       ...,\n",
       "       [False, False, False, ..., False, False, False],\n",
       "       [False, False, False, ..., False, False, False],\n",
       "       [False, False, False, ..., False, False, False]])\n",
       "Coordinates:\n",
       "    lat          (y, x) float64 158MB 50.52 50.52 50.52 50.52 ... 49.9 49.9 49.9\n",
       "    lon          (y, x) float64 158MB -5.821 -5.821 -5.821 ... -4.256 -4.256\n",
       "    spatial_ref  int64 8B 0\n",
       "Dimensions without coordinates: y, x"
      ]
     },
     "execution_count": 43,
     "metadata": {},
     "output_type": "execute_result"
    }
   ],
   "source": [
    "background_mask"
   ]
  },
  {
   "cell_type": "code",
   "execution_count": 46,
   "id": "288434b2-2a03-47d7-b3ed-397500b35d14",
   "metadata": {},
   "outputs": [],
   "source": [
    "def rasterize_with_origin(geoms, lon_origin, lat_origin, out_shape, burn_value=1, fill=0, res=20, original_crs=\"EPSG:4326\", metric_crs=\"EPSG:32630\"):\n",
    "    # Get transform and shape from template raster\n",
    "    reproj = pyproj.Transformer.from_crs(original_crs, metric_crs, always_xy=True).transform\n",
    "    x_origin, y_origin = reproj(lon_origin, lat_origin)\n",
    "    transform = from_origin(x_origin, y_origin, res, res)\n",
    "\n",
    "    # Rasterize\n",
    "    raster = rasterize(\n",
    "        [(shapely_transform(reproj, geom), burn_value) for geom in geoms],\n",
    "        out_shape=out_shape,\n",
    "        transform=transform,\n",
    "        fill=fill,\n",
    "        dtype='uint8'\n",
    "    )\n",
    "\n",
    "    return raster"
   ]
  },
  {
   "cell_type": "code",
   "execution_count": null,
   "id": "485dabda-f6df-41df-8e36-017b98ac6db6",
   "metadata": {},
   "outputs": [],
   "source": [
    "log_file = 'background_sampling.log'\n",
    "logging.basicConfig(\n",
    "    level=logging.INFO,\n",
    "    format='%(asctime)s - %(levelname)s - %(message)s',\n",
    "    handlers=[logging.FileHandler(log_file, mode='a')]\n",
    ")\n",
    "logger = logging.getLogger(__name__)"
   ]
  },
  {
   "cell_type": "code",
   "execution_count": 76,
   "id": "21818853-0148-49ef-a258-345962cc150a",
   "metadata": {},
   "outputs": [],
   "source": [
    "sample_bkg_dicts = []"
   ]
  },
  {
   "cell_type": "code",
   "execution_count": null,
   "id": "35489a76-77b2-4dc4-b355-a3b4eb3fc4b8",
   "metadata": {},
   "outputs": [],
   "source": [
    "for tileId, subtiles in tiles_wkt_dict.items():\n",
    "    if tileId != '30UUA':\n",
    "        continue\n",
    "    \n",
    "    # Sentinel-2 derivations\n",
    "    print(f\"[{tileId}] Loading Sentinel-2 derivations...\")\n",
    "    idepix_df = os.path.join(DATA_DIR, f's2_processed/{tileId}/idepix-{tileId}.nc')\n",
    "    idepix_ds = xr.open_dataset(idepix_df)\n",
    "    polymer_fp = os.path.join(DATA_DIR, f's2_processed/{tileId}/polymer-{tileId}.nc')\n",
    "    polymer_ds = xr.open_dataset(polymer_fp)\n",
    "\n",
    "    # Masks\n",
    "    print(f\"[{tileId}] Creating masks...\")\n",
    "    logger.info(f\"[{tileId}] Creating masks...\")\n",
    "    polymer_mask = np.isnan(polymer_ds['Rw665'].values)\n",
    "    template_da = idepix_ds['pixel_classif_flags']\n",
    "    land_mask = (template_da.astype('int32') & 2**10) != 0\n",
    "    land_mask = land_mask | polymer_mask\n",
    "    \n",
    "    # Coastal buffer\n",
    "    coastal_buffer_da = coastal_buffer(tileId, land_mask).astype(bool)\n",
    "\n",
    "    # Habitats dataframe\n",
    "    tile_habitats_gdf = habitats_gdf[(habitats_gdf['utm_tile'] == tileId) & (habitats_gdf['HabStatus'] == 'Present')]\n",
    "    target_gdf = tile_habitats_gdf[tile_habitats_gdf['HabType'] == TARGET_HABTYPE]\n",
    "\n",
    "    # Point bubbles\n",
    "    bubbles_mask = point_bubbles(target_gdf, template_da).astype(bool)\n",
    "\n",
    "    # Combined mask\n",
    "    background_mask = coastal_buffer_da & ~bubbles_mask\n",
    "    background_mask.name = \"background_mask\"\n",
    "\n",
    "    print(f\"[{tileId}] Masks created. Sampling background...\")\n",
    "    logger.info(f\"[{tileId}] Masks created. Sampling background...\")\n",
    "\n",
    "    for subtile_in, subtile_wkt in enumerate(subtiles):\n",
    "        if subtile_in in unknown_subtiles[tileId]:  # don't sample from unknown subtiles\n",
    "            continue\n",
    "        \n",
    "        # Setup sampling region\n",
    "        latitudes = template_da['lat'].values.ravel()\n",
    "        longitudes = template_da['lon'].values.ravel()\n",
    "        subtile_geom = from_wkt(subtile_wkt)\n",
    "        subtile_mask = rasterize_with_origin(\n",
    "            [subtile_geom],\n",
    "            longitudes[0],\n",
    "            latitudes[0],\n",
    "            template_da.shape\n",
    "        )\n",
    "\n",
    "        subtile_bkg_mask = background_mask & subtile_mask\n",
    "\n",
    "        # Sample background\n",
    "        sample_background = sample_pixels_from_mask(subtile_bkg_mask, n_samples=N_BACKGROUND, seed=42)\n",
    "        sample_bkg_dicts.extend([\n",
    "            {'tileId': tileId, 'subtile_in': subtile_in, 'x': x, 'y': y}\n",
    "            for y, x in zip(*sample_background)\n",
    "        ])\n",
    "\n",
    "        # # Setup sampling from gdf\n",
    "        # coords_tree = cKDTree(np.column_stack((latitudes, longitudes)))\n",
    "        # subtile_habitats_gdf = tile_habitats_gdf[tile_habitats_gdf['subtile_in'] == subtile_in]\n",
    "        # subtile_target_gdf = target_gdf[target_gdf['subtile_in'] == subtile_in]\n",
    "        # subtile_other_gdf = subtile_habitats_gdf[subtile_habitats_gdf['HabType'] != TARGET_HABTYPE]\n",
    "\n",
    "        # # Sample other\n",
    "        # other_samples = sample_point_pixels(subtile_habitats_gdf, coords_tree, n_samples=N_OTHER, seed=42)\n",
    "\n",
    "        # # Sample target...\n",
    "\n",
    "    print(f\"[{tileId}] Done.\")\n",
    "    logger.info(f\"[{tileId}] Done.\")"
   ]
  },
  {
   "cell_type": "code",
   "execution_count": 74,
   "id": "0c24435c-21aa-4939-9a6a-e9813117e11f",
   "metadata": {},
   "outputs": [],
   "source": [
    "sample_bkg_df = pd.DataFrame.from_dict(sample_bkg_dicts)"
   ]
  },
  {
   "cell_type": "code",
   "execution_count": 75,
   "id": "ee54e04a-c738-4b94-b5ab-359df6f5fd0b",
   "metadata": {},
   "outputs": [
    {
     "data": {
      "text/html": [
       "<div>\n",
       "<style scoped>\n",
       "    .dataframe tbody tr th:only-of-type {\n",
       "        vertical-align: middle;\n",
       "    }\n",
       "\n",
       "    .dataframe tbody tr th {\n",
       "        vertical-align: top;\n",
       "    }\n",
       "\n",
       "    .dataframe thead th {\n",
       "        text-align: right;\n",
       "    }\n",
       "</style>\n",
       "<table border=\"1\" class=\"dataframe\">\n",
       "  <thead>\n",
       "    <tr style=\"text-align: right;\">\n",
       "      <th></th>\n",
       "      <th>tileId</th>\n",
       "      <th>subtile_in</th>\n",
       "      <th>x</th>\n",
       "      <th>y</th>\n",
       "    </tr>\n",
       "  </thead>\n",
       "  <tbody>\n",
       "    <tr>\n",
       "      <th>0</th>\n",
       "      <td>30UUA</td>\n",
       "      <td>0</td>\n",
       "      <td>310</td>\n",
       "      <td>2756</td>\n",
       "    </tr>\n",
       "    <tr>\n",
       "      <th>1</th>\n",
       "      <td>30UUA</td>\n",
       "      <td>0</td>\n",
       "      <td>199</td>\n",
       "      <td>2639</td>\n",
       "    </tr>\n",
       "    <tr>\n",
       "      <th>2</th>\n",
       "      <td>30UUA</td>\n",
       "      <td>0</td>\n",
       "      <td>303</td>\n",
       "      <td>2716</td>\n",
       "    </tr>\n",
       "    <tr>\n",
       "      <th>3</th>\n",
       "      <td>30UUA</td>\n",
       "      <td>0</td>\n",
       "      <td>140</td>\n",
       "      <td>2531</td>\n",
       "    </tr>\n",
       "    <tr>\n",
       "      <th>4</th>\n",
       "      <td>30UUA</td>\n",
       "      <td>0</td>\n",
       "      <td>265</td>\n",
       "      <td>2637</td>\n",
       "    </tr>\n",
       "  </tbody>\n",
       "</table>\n",
       "</div>"
      ],
      "text/plain": [
       "  tileId  subtile_in    x     y\n",
       "0  30UUA           0  310  2756\n",
       "1  30UUA           0  199  2639\n",
       "2  30UUA           0  303  2716\n",
       "3  30UUA           0  140  2531\n",
       "4  30UUA           0  265  2637"
      ]
     },
     "execution_count": 75,
     "metadata": {},
     "output_type": "execute_result"
    }
   ],
   "source": [
    "sample_bkg_df"
   ]
  },
  {
   "cell_type": "markdown",
   "id": "0ef671aa-4021-40d7-b350-1257e707cc83",
   "metadata": {},
   "source": [
    "Different approach!! Store rasters of subtiles stacked together to create data cube!\n",
    "\n",
    "Just save the background masks, labelled by subtile index, as well as habitat point bubble layers.\n",
    "\n",
    "N_tiles x N_subtiles x (1 + N_habitats) x height x width"
   ]
  },
  {
   "cell_type": "code",
   "execution_count": 51,
   "id": "dfb4b345-7dcf-44c1-98a0-f5e706adfa6a",
   "metadata": {},
   "outputs": [
    {
     "data": {
      "text/plain": [
       "<matplotlib.collections.QuadMesh at 0x7ee38ad21540>"
      ]
     },
     "execution_count": 51,
     "metadata": {},
     "output_type": "execute_result"
    },
    {
     "data": {
      "image/png": "[encoded data removed]",
      "text/plain": [
       "<Figure size 640x480 with 2 Axes>"
      ]
     },
     "metadata": {},
     "output_type": "display_data"
    }
   ],
   "source": [
    "subtile_bkg_mask.plot(x='lon', y='lat')"
   ]
  },
  {
   "cell_type": "code",
   "execution_count": 100,
   "id": "0f7d36b6-d057-4f11-95aa-006c54586343",
   "metadata": {},
   "outputs": [
    {
     "data": {
      "text/plain": [
       "<matplotlib.collections.QuadMesh at 0x77dd42b58430>"
      ]
     },
     "execution_count": 100,
     "metadata": {},
     "output_type": "execute_result"
    },
    {
     "data": {
      "image/png": "[encoded data removed]",
      "text/plain": [
       "<Figure size 1000x800 with 1 Axes>"
      ]
     },
     "metadata": {},
     "output_type": "display_data"
    }
   ],
   "source": [
    "fig, ax = plt.subplots(figsize=(10, 8))\n",
    "land_mask.plot(ax=ax, x='lon', y='lat', cmap='gray', add_colorbar=False)\n",
    "background_mask.where(background_mask > 0).plot(\n",
    "    ax=ax,\n",
    "    x='lon',\n",
    "    y='lat',\n",
    "    cmap='Reds',\n",
    "    alpha=0.4,\n",
    "    add_colorbar=False\n",
    ")"
   ]
  }
 ],
 "metadata": {
  "kernelspec": {
   "display_name": "Python 3 (ipykernel)",
   "language": "python",
   "name": "python3"
  },
  "language_info": {
   "codemirror_mode": {
    "name": "ipython",
    "version": 3
   },
   "file_extension": ".py",
   "mimetype": "text/x-python",
   "name": "python",
   "nbconvert_exporter": "python",
   "pygments_lexer": "ipython3",
   "version": "3.10.13"
  }
 },
 "nbformat": 4,
 "nbformat_minor": 5
}
