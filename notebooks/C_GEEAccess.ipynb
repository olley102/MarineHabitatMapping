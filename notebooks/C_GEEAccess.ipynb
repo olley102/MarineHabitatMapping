{
 "cells": [
  {
   "cell_type": "markdown",
   "id": "9ee2666f-b287-43b0-9b6a-0043dee0ff82",
   "metadata": {},
   "source": [
    "# Google Earth Engine Access\n",
    "\n",
    "Access Sentinel-2 from Google Earth Engine with spectral indices (NDVI, NDTI), mask with coastline buffer and download cropped images with subtile geometries."
   ]
  },
  {
   "cell_type": "markdown",
   "id": "755d8e82-6c8d-4077-a6bb-7e35979dcd68",
   "metadata": {},
   "source": [
    "## Setup"
   ]
  },
  {
   "cell_type": "markdown",
   "id": "a27814a4-6fc9-4d90-ace7-c5712af8c33d",
   "metadata": {},
   "source": [
    "Files and system"
   ]
  },
  {
   "cell_type": "code",
   "execution_count": 2,
   "id": "723afb73-0b2f-4d1b-9707-41924b8dc323",
   "metadata": {},
   "outputs": [],
   "source": [
    "import os\n",
    "import json"
   ]
  },
  {
   "cell_type": "markdown",
   "id": "ed429cfb-ecd1-43b3-9478-2fea79be9c07",
   "metadata": {},
   "source": [
    "Arrays and math"
   ]
  },
  {
   "cell_type": "code",
   "execution_count": 3,
   "id": "9763ee8b-5c5f-4acc-86df-412e6e6352c2",
   "metadata": {},
   "outputs": [],
   "source": [
    "import numpy as np\n",
    "import xarray as xr\n",
    "import pandas as pd\n",
    "import geopandas as gpd"
   ]
  },
  {
   "cell_type": "code",
   "execution_count": 50,
   "id": "c94792b5-273e-4361-a73a-52327de7a4b6",
   "metadata": {},
   "outputs": [],
   "source": [
    "import datetime\n",
    "import calendar"
   ]
  },
  {
   "cell_type": "markdown",
   "id": "57d9cb16-c9e8-4f9b-808e-d5da39de24c8",
   "metadata": {},
   "source": [
    "Plotting"
   ]
  },
  {
   "cell_type": "code",
   "execution_count": 4,
   "id": "9cdddfb9-62c5-41b6-a39d-c0fe233cc7fa",
   "metadata": {},
   "outputs": [],
   "source": [
    "import matplotlib.pyplot as plt"
   ]
  },
  {
   "cell_type": "markdown",
   "id": "bb234a53-e8d1-4963-bb47-24c93bb891a5",
   "metadata": {},
   "source": [
    "Geometry"
   ]
  },
  {
   "cell_type": "code",
   "execution_count": 30,
   "id": "d3def0af-43b2-40e8-add7-f3030758f360",
   "metadata": {},
   "outputs": [],
   "source": [
    "from shapely import wkt"
   ]
  },
  {
   "cell_type": "markdown",
   "id": "b9699c03-6f47-400a-9c2a-144360568702",
   "metadata": {},
   "source": [
    "Google Earth Engine"
   ]
  },
  {
   "cell_type": "code",
   "execution_count": 5,
   "id": "3efa3758-b16c-4219-8e72-9dbb4c6e683f",
   "metadata": {},
   "outputs": [],
   "source": [
    "import ee"
   ]
  },
  {
   "cell_type": "code",
   "execution_count": 6,
   "id": "58610629-703e-4735-87ad-bcfea139c853",
   "metadata": {},
   "outputs": [],
   "source": [
    "ee.Initialize()"
   ]
  },
  {
   "cell_type": "markdown",
   "id": "a9002adc-5149-4b6e-802f-560a161c8886",
   "metadata": {},
   "source": [
    "Directories"
   ]
  },
  {
   "cell_type": "code",
   "execution_count": 7,
   "id": "045d887d-ae86-42a3-9ab8-eac1c363cb1d",
   "metadata": {},
   "outputs": [],
   "source": [
    "DATA_DIR = '../data/'\n",
    "FIGURES_DIR = '../saved_figures/'"
   ]
  },
  {
   "cell_type": "markdown",
   "id": "2a4311c8-8704-48fc-8303-c39f2c1d9436",
   "metadata": {},
   "source": [
    "Habitat data"
   ]
  },
  {
   "cell_type": "code",
   "execution_count": 17,
   "id": "03b8a723-3143-4bd7-b81c-1c57c6dcee78",
   "metadata": {},
   "outputs": [],
   "source": [
    "habitats_shp = os.path.join(DATA_DIR, 'OSPARHabitats2022_Points_clustered/OSPAR2022Points.shp')\n",
    "habitats_gdf = gpd.read_file(habitats_shp)"
   ]
  },
  {
   "cell_type": "markdown",
   "id": "286d96be-e781-422d-bd5d-902acb4ca710",
   "metadata": {},
   "source": [
    "Sub-tile grid"
   ]
  },
  {
   "cell_type": "code",
   "execution_count": 9,
   "id": "76be089f-f3c6-41bb-aa88-6852f7f8435a",
   "metadata": {},
   "outputs": [],
   "source": [
    "with open(os.path.join(DATA_DIR, 'tile_buffer_wkt.json'), 'r') as f:\n",
    "    tiles_wkt_dict = json.load(f)"
   ]
  },
  {
   "cell_type": "markdown",
   "id": "213c3d6a-61ab-4969-adc5-02ff694b5cf5",
   "metadata": {},
   "source": [
    "## Get habitat months, tiles and subtiles"
   ]
  },
  {
   "cell_type": "code",
   "execution_count": 18,
   "id": "62441f8a-1210-4e6c-b72d-f1c755a45888",
   "metadata": {
    "scrolled": true
   },
   "outputs": [],
   "source": [
    "habitats_gdf['SurveyMonth'] = pd.to_datetime(habitats_gdf['SurveyDate']).dt.month"
   ]
  },
  {
   "cell_type": "code",
   "execution_count": 20,
   "id": "552060ad-c45b-4450-b386-85f6c3a8db3e",
   "metadata": {},
   "outputs": [],
   "source": [
    "habitats_sel = habitats_gdf[habitats_gdf['HabType'].isin(('Zostera beds', 'Kelp forests'))].reset_index()"
   ]
  },
  {
   "cell_type": "code",
   "execution_count": 22,
   "id": "1f67bb62-7a52-4f7c-ba24-498ae499212e",
   "metadata": {},
   "outputs": [],
   "source": [
    "tiles = habitats_sel['utm_tile'].unique()"
   ]
  },
  {
   "cell_type": "code",
   "execution_count": 24,
   "id": "7375844f-ffba-4806-8263-74e44c04bb87",
   "metadata": {},
   "outputs": [
    {
     "data": {
      "text/plain": [
       "array([2003, 2010, 2011, 2013, 2009, 2012, 2014, 2019, 2017, 2008, 2016,\n",
       "       2018, 2020, 2002, 2000, 2005, 2001, 2004, 2006, 2015, 2021, 2007,\n",
       "       2022, 2023], dtype=int32)"
      ]
     },
     "execution_count": 24,
     "metadata": {},
     "output_type": "execute_result"
    }
   ],
   "source": [
    "habitats_sel['SurveyYear'].unique()"
   ]
  },
  {
   "cell_type": "code",
   "execution_count": 58,
   "id": "0ea21591-f427-433e-89e8-495ef8fad827",
   "metadata": {},
   "outputs": [],
   "source": [
    "habitats_sel = habitats_sel[(habitats_sel['SurveyYear'] >= 2016)].reset_index(drop=True)"
   ]
  },
  {
   "cell_type": "code",
   "execution_count": 60,
   "id": "967ba2c7-1060-4d1a-9645-7630ea69f8a9",
   "metadata": {},
   "outputs": [],
   "source": [
    "subsets_df = habitats_sel.groupby(['utm_tile', 'subtile_in', 'SurveyYear', 'SurveyMonth']).size().reset_index().rename(columns={0: 'count'})"
   ]
  },
  {
   "cell_type": "code",
   "execution_count": 63,
   "id": "00b365fc-ed5e-463f-addd-345c1aef9e9b",
   "metadata": {},
   "outputs": [
    {
     "data": {
      "text/html": [
       "<div>\n",
       "<style scoped>\n",
       "    .dataframe tbody tr th:only-of-type {\n",
       "        vertical-align: middle;\n",
       "    }\n",
       "\n",
       "    .dataframe tbody tr th {\n",
       "        vertical-align: top;\n",
       "    }\n",
       "\n",
       "    .dataframe thead th {\n",
       "        text-align: right;\n",
       "    }\n",
       "</style>\n",
       "<table border=\"1\" class=\"dataframe\">\n",
       "  <thead>\n",
       "    <tr style=\"text-align: right;\">\n",
       "      <th></th>\n",
       "      <th>utm_tile</th>\n",
       "      <th>subtile_in</th>\n",
       "      <th>SurveyYear</th>\n",
       "      <th>SurveyMonth</th>\n",
       "      <th>count</th>\n",
       "    </tr>\n",
       "  </thead>\n",
       "  <tbody>\n",
       "    <tr>\n",
       "      <th>0</th>\n",
       "      <td>29UPB</td>\n",
       "      <td>19</td>\n",
       "      <td>2017</td>\n",
       "      <td>5</td>\n",
       "      <td>2</td>\n",
       "    </tr>\n",
       "    <tr>\n",
       "      <th>1</th>\n",
       "      <td>29UPB</td>\n",
       "      <td>19</td>\n",
       "      <td>2017</td>\n",
       "      <td>9</td>\n",
       "      <td>2</td>\n",
       "    </tr>\n",
       "    <tr>\n",
       "      <th>2</th>\n",
       "      <td>29UPB</td>\n",
       "      <td>19</td>\n",
       "      <td>2021</td>\n",
       "      <td>8</td>\n",
       "      <td>6</td>\n",
       "    </tr>\n",
       "    <tr>\n",
       "      <th>3</th>\n",
       "      <td>29UPB</td>\n",
       "      <td>20</td>\n",
       "      <td>2018</td>\n",
       "      <td>6</td>\n",
       "      <td>2</td>\n",
       "    </tr>\n",
       "    <tr>\n",
       "      <th>4</th>\n",
       "      <td>29UPB</td>\n",
       "      <td>25</td>\n",
       "      <td>2016</td>\n",
       "      <td>7</td>\n",
       "      <td>2</td>\n",
       "    </tr>\n",
       "    <tr>\n",
       "      <th>...</th>\n",
       "      <td>...</td>\n",
       "      <td>...</td>\n",
       "      <td>...</td>\n",
       "      <td>...</td>\n",
       "      <td>...</td>\n",
       "    </tr>\n",
       "    <tr>\n",
       "      <th>1046</th>\n",
       "      <td>32VPK</td>\n",
       "      <td>34</td>\n",
       "      <td>2018</td>\n",
       "      <td>7</td>\n",
       "      <td>6</td>\n",
       "    </tr>\n",
       "    <tr>\n",
       "      <th>1047</th>\n",
       "      <td>32VPK</td>\n",
       "      <td>34</td>\n",
       "      <td>2018</td>\n",
       "      <td>8</td>\n",
       "      <td>4</td>\n",
       "    </tr>\n",
       "    <tr>\n",
       "      <th>1048</th>\n",
       "      <td>32VPK</td>\n",
       "      <td>35</td>\n",
       "      <td>2016</td>\n",
       "      <td>10</td>\n",
       "      <td>5</td>\n",
       "    </tr>\n",
       "    <tr>\n",
       "      <th>1049</th>\n",
       "      <td>32VPK</td>\n",
       "      <td>7</td>\n",
       "      <td>2016</td>\n",
       "      <td>8</td>\n",
       "      <td>1</td>\n",
       "    </tr>\n",
       "    <tr>\n",
       "      <th>1050</th>\n",
       "      <td>32VPK</td>\n",
       "      <td>7</td>\n",
       "      <td>2018</td>\n",
       "      <td>7</td>\n",
       "      <td>6</td>\n",
       "    </tr>\n",
       "  </tbody>\n",
       "</table>\n",
       "<p>1051 rows × 5 columns</p>\n",
       "</div>"
      ],
      "text/plain": [
       "     utm_tile subtile_in  SurveyYear  SurveyMonth  count\n",
       "0       29UPB         19        2017            5      2\n",
       "1       29UPB         19        2017            9      2\n",
       "2       29UPB         19        2021            8      6\n",
       "3       29UPB         20        2018            6      2\n",
       "4       29UPB         25        2016            7      2\n",
       "...       ...        ...         ...          ...    ...\n",
       "1046    32VPK         34        2018            7      6\n",
       "1047    32VPK         34        2018            8      4\n",
       "1048    32VPK         35        2016           10      5\n",
       "1049    32VPK          7        2016            8      1\n",
       "1050    32VPK          7        2018            7      6\n",
       "\n",
       "[1051 rows x 5 columns]"
      ]
     },
     "execution_count": 63,
     "metadata": {},
     "output_type": "execute_result"
    }
   ],
   "source": [
    "subsets_df"
   ]
  },
  {
   "cell_type": "markdown",
   "id": "0a65c4de-3b7c-4da9-b012-bf74330277b4",
   "metadata": {},
   "source": [
    "## Access Sentinel-2 from GEE"
   ]
  },
  {
   "cell_type": "code",
   "execution_count": 48,
   "id": "9efb2ca7-a3c9-4416-83bd-0b8842e145bf",
   "metadata": {},
   "outputs": [],
   "source": [
    "def mask_s2_clouds(image):\n",
    "    \"\"\"Masks clouds in a Sentinel-2 image using the QA band.\n",
    "    \n",
    "    Args:\n",
    "      image (ee.Image): A Sentinel-2 image.\n",
    "    \n",
    "    Returns:\n",
    "      ee.Image: A cloud-masked Sentinel-2 image.\n",
    "    \"\"\"\n",
    "    qa = image.select('QA60')\n",
    "    \n",
    "    # Bits 10 and 11 are clouds and cirrus, respectively.\n",
    "    cloud_bit_mask = 1 << 10\n",
    "    cirrus_bit_mask = 1 << 11\n",
    "    \n",
    "    # Both flags should be set to zero, indicating clear conditions.\n",
    "    mask = (\n",
    "        qa.bitwiseAnd(cloud_bit_mask)\n",
    "        .eq(0)\n",
    "        .And(qa.bitwiseAnd(cirrus_bit_mask).eq(0))\n",
    "    )\n",
    "    \n",
    "    return image.updateMask(mask).divide(10000)"
   ]
  },
  {
   "cell_type": "code",
   "execution_count": 54,
   "id": "570df8ee-45ae-4253-9d09-043f0fae3d85",
   "metadata": {},
   "outputs": [],
   "source": [
    "def add_indices(image):\n",
    "    # NDVI = (NIR - Red) / (NIR + Red)\n",
    "    ndvi = image.normalizedDifference(['B8', 'B4']).rename('NDVI')\n",
    "    \n",
    "    # NDTI = (Red - SWIR1) / (Red + SWIR1)\n",
    "    # Using B4 (Red) and B11 (SWIR1)\n",
    "    ndti = image.normalizedDifference(['B4', 'B11']).rename('NDTI')\n",
    "    \n",
    "    return image.addBands([ndvi, ndti])"
   ]
  },
  {
   "cell_type": "code",
   "execution_count": 62,
   "id": "e6e2f9dc-5c76-4439-a8c5-5d4a9f94b364",
   "metadata": {},
   "outputs": [],
   "source": [
    "def s2_dataset_from_region(startdate, enddate, region, cloud_threshold=20):\n",
    "    dataset = (\n",
    "        ee.ImageCollection('COPERNICUS/S2_SR_HARMONIZED')\n",
    "        .filterDate(startdate, enddate)\n",
    "        .filterBounds(region)\n",
    "        .filter(ee.Filter.lt('CLOUDY_PIXEL_PERCENTAGE', cloud_threshold))\n",
    "        .map(mask_s2_clouds)\n",
    "        .map(add_indices)\n",
    "    )\n",
    "\n",
    "    return dataset"
   ]
  },
  {
   "cell_type": "code",
   "execution_count": 51,
   "id": "acd35478-3831-468d-871b-21ca5028d786",
   "metadata": {},
   "outputs": [],
   "source": [
    "def month_date_range(year, month):\n",
    "    # First day of the month\n",
    "    startdate = datetime.date(year, month, 1)\n",
    "    \n",
    "    # Last day of the month\n",
    "    last_day = calendar.monthrange(year, month)[1]\n",
    "    enddate = datetime.date(year, month, last_day)\n",
    "    \n",
    "    # Return as strings\n",
    "    return startdate.isoformat(), enddate.isoformat()\n"
   ]
  },
  {
   "cell_type": "code",
   "execution_count": 52,
   "id": "8de4d15d-d829-4a19-8bea-e5c30d5ebe76",
   "metadata": {},
   "outputs": [],
   "source": [
    "def export_s2_image_to_drive(image, region, description, folder='EarthEngine', scale=10):\n",
    "    task = ee.batch.Export.image.toDrive(\n",
    "        image=image.clip(region),\n",
    "        description=description,\n",
    "        folder=folder,\n",
    "        fileNamePrefix=description,\n",
    "        region=region,\n",
    "        scale=scale,\n",
    "        crs='EPSG:4326',\n",
    "        maxPixels=1e13\n",
    "    )\n",
    "    task.start()\n",
    "    return task"
   ]
  },
  {
   "cell_type": "code",
   "execution_count": null,
   "id": "fe819e9c-4c95-4d22-b2d7-9dbb7eb34057",
   "metadata": {},
   "outputs": [],
   "source": [
    "for _, row in subsets_df.iterrows():\n",
    "    year = row['SurveyYear']\n",
    "    month = row['SurveyMonth']\n",
    "    startdate, enddate = month_date_range(year, month)\n",
    "    wkt_string = tiles_wkt_dict[row['utm_tile']][row['subtile_in']]\n",
    "    shapely_geom = wkt.loads(wkt_string)\n",
    "    region = ee.Geometry.Polygon(shapely.__geo_interface__['coordinates'])\n",
    "    s2_col = s2_dataset_from_region(startdate, enddate, region)\n",
    "\n",
    "    bands = ['B2', 'B3', 'B4', 'B8', 'B11', 'NDVI', 'NDTI']\n",
    "    image = s2_col.median().select(bands)\n",
    "    description = f\"s2_{row['utm_tile']}_{row['subtile_in']}_{year}_{month:02d}\"\n",
    "\n",
    "    export_task = export_s2_image_to_drive(image, region, description=description)\n",
    "    print(f\"Export started for {description}\")"
   ]
  }
 ],
 "metadata": {
  "kernelspec": {
   "display_name": "Python 3 (ipykernel)",
   "language": "python",
   "name": "python3"
  },
  "language_info": {
   "codemirror_mode": {
    "name": "ipython",
    "version": 3
   },
   "file_extension": ".py",
   "mimetype": "text/x-python",
   "name": "python",
   "nbconvert_exporter": "python",
   "pygments_lexer": "ipython3",
   "version": "3.10.13"
  }
 },
 "nbformat": 4,
 "nbformat_minor": 5
}
