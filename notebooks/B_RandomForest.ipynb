{
 "cells": [
  {
   "cell_type": "markdown",
   "id": "2060be22-e827-42d7-a356-5d76c412470a",
   "metadata": {},
   "source": [
    "# Random Forest"
   ]
  },
  {
   "cell_type": "markdown",
   "id": "36a55418-4ac7-4d31-b595-89df0b6d3473",
   "metadata": {},
   "source": [
    "## Setup"
   ]
  },
  {
   "cell_type": "markdown",
   "id": "74f058c0-e140-4f0f-8a19-b30f91cfd795",
   "metadata": {},
   "source": [
    "Files and system"
   ]
  },
  {
   "cell_type": "code",
   "execution_count": 1,
   "id": "9e26e3c0-7064-4705-9bfb-f4751e651ac7",
   "metadata": {},
   "outputs": [],
   "source": [
    "import os\n",
    "import json"
   ]
  },
  {
   "cell_type": "markdown",
   "id": "6a60ec38-bb89-41e3-b6fd-af20ba31eecc",
   "metadata": {},
   "source": [
    "Arrays and math"
   ]
  },
  {
   "cell_type": "code",
   "execution_count": 2,
   "id": "e512b5b0-8c50-4169-9061-f0ca9e0b5993",
   "metadata": {},
   "outputs": [],
   "source": [
    "import numpy as np\n",
    "import xarray as xr\n",
    "import pandas as pd\n",
    "import geopandas as gpd"
   ]
  },
  {
   "cell_type": "code",
   "execution_count": 3,
   "id": "7d152c6c-6042-4daf-9eb9-47600b3f0ecd",
   "metadata": {},
   "outputs": [],
   "source": [
    "import random"
   ]
  },
  {
   "cell_type": "markdown",
   "id": "425798b8-8923-4f9a-9231-d31b9b96a8cb",
   "metadata": {},
   "source": [
    "Plotting"
   ]
  },
  {
   "cell_type": "code",
   "execution_count": 4,
   "id": "a28b5de5-ca5a-4b87-bf7f-1ad514cebce6",
   "metadata": {},
   "outputs": [],
   "source": [
    "import matplotlib.pyplot as plt"
   ]
  },
  {
   "cell_type": "markdown",
   "id": "221bda8b-35c0-43f1-820c-6b896e676cb6",
   "metadata": {},
   "source": [
    "Raster operations"
   ]
  },
  {
   "cell_type": "code",
   "execution_count": 5,
   "id": "9bbc425d-2c38-4e85-8165-b270cad2fe34",
   "metadata": {},
   "outputs": [],
   "source": [
    "import rasterio\n",
    "import rioxarray"
   ]
  },
  {
   "cell_type": "markdown",
   "id": "48f3e8e2-86dd-4103-bc00-fd29afa79036",
   "metadata": {},
   "source": [
    "Modelling"
   ]
  },
  {
   "cell_type": "code",
   "execution_count": 32,
   "id": "63663a6e-1b8c-4d51-b8a6-5f7a96e905d8",
   "metadata": {},
   "outputs": [],
   "source": [
    "from sklearn.ensemble import RandomForestClassifier\n",
    "from sklearn.model_selection import train_test_split\n",
    "from sklearn.metrics import classification_report, confusion_matrix"
   ]
  },
  {
   "cell_type": "markdown",
   "id": "093e2b7f-7a90-4098-bd9e-aefb752d046a",
   "metadata": {},
   "source": [
    "Directories"
   ]
  },
  {
   "cell_type": "code",
   "execution_count": 6,
   "id": "4551b6e0-4032-486f-a5ab-715457db65c4",
   "metadata": {},
   "outputs": [],
   "source": [
    "DATA_DIR = '../data/'\n",
    "FIGURES_DIR = '../saved_figures/'"
   ]
  },
  {
   "cell_type": "markdown",
   "id": "e4a64597-23b0-40e4-a735-79f13b4e0148",
   "metadata": {},
   "source": [
    "Habitat label code"
   ]
  },
  {
   "cell_type": "code",
   "execution_count": 7,
   "id": "317f4037-5aa6-4020-b26c-8cb543311868",
   "metadata": {},
   "outputs": [],
   "source": [
    "habtype_code = pd.read_csv(os.path.join(DATA_DIR, 'habtype_ids.csv'))[['id', 'HabType']]"
   ]
  },
  {
   "cell_type": "markdown",
   "id": "f35f70c1-20c8-4d40-beed-10d3f7b4ff34",
   "metadata": {},
   "source": [
    "Tile ID list"
   ]
  },
  {
   "cell_type": "code",
   "execution_count": 8,
   "id": "007811a5-05b5-4f7f-8a9d-f96823e35a44",
   "metadata": {},
   "outputs": [],
   "source": [
    "with open(os.path.join(DATA_DIR, 'tile_buffer_wkt.json'), 'r') as f:\n",
    "    tile_list = list(json.load(f).keys())"
   ]
  },
  {
   "cell_type": "markdown",
   "id": "b88175c4-6868-4fce-9422-f4c1ad316798",
   "metadata": {},
   "source": [
    "Class sampling stratification: number of samples per class per tile"
   ]
  },
  {
   "cell_type": "code",
   "execution_count": 9,
   "id": "4afb6ce6-68f4-4990-a4d4-9df5b811cbba",
   "metadata": {},
   "outputs": [],
   "source": [
    "N_CLASS_SAMPLES = 5"
   ]
  },
  {
   "cell_type": "markdown",
   "id": "a244a8d3-b216-4e9b-82a3-9b6348a5082b",
   "metadata": {},
   "source": [
    "## Prepare dataset"
   ]
  },
  {
   "cell_type": "code",
   "execution_count": 18,
   "id": "6845b688-fc75-44e3-8df8-217c961c398d",
   "metadata": {},
   "outputs": [],
   "source": [
    "def stratified_sample(g, n_class_samples, background_multiplier):\n",
    "    class_id = g.name[1] if isinstance(g.name, tuple) else g.name\n",
    "    n = int(background_multiplier * n_class_samples) if class_id == -1 else n_class_samples\n",
    "    return g.sample(n=min(n, len(g)), random_state=42)"
   ]
  },
  {
   "cell_type": "code",
   "execution_count": 19,
   "id": "8b801835-74f1-4979-a15c-d3ceca438839",
   "metadata": {},
   "outputs": [],
   "source": [
    "def process_tile(tile_ds, n_class_samples, background_multiplier=0.5):\n",
    "    tile_ds = tile_ds.drop_vars(['bitmask'])\n",
    "    \n",
    "    # filter based on unknown_flag\n",
    "    valid_subtiles = (\n",
    "        tile_ds['subtile_in']\n",
    "        .where(~tile_ds['unknown_flag'])\n",
    "        .dropna(dim='subtile_in')\n",
    "        .values.flatten()\n",
    "    )\n",
    "    tile_ds = tile_ds.sel(subtile_in=valid_subtiles)\n",
    "\n",
    "    # get habitat class map\n",
    "    habitat_vars = [f\"habitat_{i}\" for i in habtype_code['id'].values]\n",
    "    habitat_stack = tile_ds[habitat_vars].to_array(dim='habitat_class').fillna(0)\n",
    "\n",
    "    # define presence and background\n",
    "    presence_mask = habitat_stack.any(dim='habitat_class')\n",
    "    class_map = xr.where(presence_mask, habitat_stack.argmax(dim='habitat_class'), -1)\n",
    "\n",
    "    # apply coastal buffer\n",
    "    mask = tile_ds['coastal_buffer'] == 1\n",
    "    features = tile_ds.drop_vars(habitat_vars).where(mask)\n",
    "    features['habitat_class'] = class_map.where(mask)\n",
    "\n",
    "    # flatten\n",
    "    flat = features.stack(pixel=('subtile_in', 'y', 'x')).dropna(dim='pixel', how='any')\n",
    "    df = flat.to_dataframe().drop(columns=['y', 'x', 'subtile_in']).reset_index()\n",
    "\n",
    "    # sample pixels for each habitat class\n",
    "    df_sampled = (\n",
    "        df.groupby(['subtile_in', 'habitat_class'])\n",
    "        .apply(stratified_sample,\n",
    "               include_groups=False,\n",
    "               n_class_samples=n_class_samples,\n",
    "               background_multiplier=background_multiplier)\n",
    "    ).drop(columns=['y', 'x', 'lat', 'lon', 'unknown_flag', 'coastal_buffer']).reset_index()\n",
    "\n",
    "    return df_sampled"
   ]
  },
  {
   "cell_type": "code",
   "execution_count": 20,
   "id": "1853df00-653e-4191-a633-84a362758a48",
   "metadata": {},
   "outputs": [],
   "source": [
    "habitat_vars = [f\"habitat_{i}\" for i in habtype_code['id'].values]"
   ]
  },
  {
   "cell_type": "code",
   "execution_count": 21,
   "id": "77f5ca09-6836-4597-9c02-cb4ce3b2d140",
   "metadata": {},
   "outputs": [],
   "source": [
    "tile_samples = []"
   ]
  },
  {
   "cell_type": "code",
   "execution_count": 22,
   "id": "2bb7cdf5-5f5d-4fcc-baf1-d8dcc408f8a7",
   "metadata": {
    "scrolled": true
   },
   "outputs": [
    {
     "name": "stdout",
     "output_type": "stream",
     "text": [
      "Processing tile 29UPR\n",
      "Sampled tile 29UPR\n",
      "Processing tile 30UUA\n",
      "Sampled tile 30UUA\n",
      "Processing tile 30UVA\n",
      "Sampled tile 30UVA\n",
      "Processing tile 30UVB\n",
      "Sampled tile 30UVB\n",
      "Processing tile 30UWB\n",
      "Sampled tile 30UWB\n",
      "Processing tile 30UXA\n",
      "Sampled tile 30UXA\n",
      "Processing tile 30UVC\n",
      "Sampled tile 30UVC\n",
      "Processing tile 30UUC\n",
      "Sampled tile 30UUC\n",
      "Processing tile 30UUD\n",
      "Sampled tile 30UUD\n",
      "Processing tile 30UUE\n",
      "Sampled tile 30UUE\n",
      "Processing tile 30UVE\n",
      "Sampled tile 30UVE\n",
      "Processing tile 30UUF\n",
      "Sampled tile 30UUF\n",
      "Processing tile 30UVF\n",
      "Sampled tile 30UVF\n",
      "Processing tile 30UUG\n",
      "Sampled tile 30UUG\n",
      "Processing tile 29UPB\n",
      "Sampled tile 29UPB\n",
      "Processing tile 30VUH\n",
      "Sampled tile 30VUH\n",
      "Processing tile 30VUJ\n",
      "Sampled tile 30VUJ\n",
      "Processing tile 30VUK\n",
      "Sampled tile 30VUK\n",
      "Processing tile 30VVK\n",
      "Sampled tile 30VVK\n",
      "Processing tile 30VVL\n",
      "Sampled tile 30VVL\n",
      "Processing tile 30VWL\n",
      "Sampled tile 30VWL\n",
      "Processing tile 29VPC\n",
      "Sampled tile 29VPC\n",
      "Processing tile 29VPE\n",
      "Sampled tile 29VPE\n",
      "Processing tile 32UMF\n",
      "Sampled tile 32UMF\n",
      "Processing tile 32UNF\n",
      "Sampled tile 32UNF\n",
      "Processing tile 32UNG\n",
      "Sampled tile 32UNG\n",
      "Processing tile 32UPG\n",
      "Sampled tile 32UPG\n",
      "Processing tile 32VPK\n",
      "Sampled tile 32VPK\n"
     ]
    }
   ],
   "source": [
    "for tileId in tile_list:\n",
    "    ds_fp = os.path.join(DATA_DIR, f's2_processed/{tileId}/data_cube.nc')\n",
    "    if not os.path.exists(ds_fp):\n",
    "        continue\n",
    "\n",
    "    print(f\"Processing tile {tileId}\")\n",
    "\n",
    "    # Load dataset\n",
    "    tile_ds = xr.open_dataset(ds_fp)\n",
    "\n",
    "    # Process tile\n",
    "    df_sampled = process_tile(tile_ds, N_CLASS_SAMPLES)\n",
    "    df_sampled = df_sampled.drop(columns=['level_2', 'tileId', 'subtile_in'])\n",
    "    tile_samples.append(df_sampled)\n",
    "\n",
    "    print(f\"Sampled tile {tileId}\")"
   ]
  },
  {
   "cell_type": "code",
   "execution_count": 23,
   "id": "0881b169-6890-43ba-adef-47d2a5620089",
   "metadata": {},
   "outputs": [],
   "source": [
    "combined_samples = pd.concat(tile_samples, ignore_index=True)"
   ]
  },
  {
   "cell_type": "code",
   "execution_count": 24,
   "id": "28560488-3333-4773-9aea-7af08c3b1773",
   "metadata": {},
   "outputs": [],
   "source": [
    "combined_samples['habitat_class'] = combined_samples['habitat_class'].astype(int)"
   ]
  },
  {
   "cell_type": "code",
   "execution_count": 27,
   "id": "9b13e7d2-53fe-488e-b658-64bd1bd80a78",
   "metadata": {},
   "outputs": [
    {
     "data": {
      "text/plain": [
       "habitat_class\n",
       "-1     8674\n",
       " 6     1570\n",
       " 0     1156\n",
       " 4      663\n",
       " 8      627\n",
       " 11     467\n",
       " 7      455\n",
       " 10     256\n",
       " 13     135\n",
       " 9       20\n",
       " 1       10\n",
       " 5       10\n",
       " 14       5\n",
       "Name: count, dtype: int64"
      ]
     },
     "execution_count": 27,
     "metadata": {},
     "output_type": "execute_result"
    }
   ],
   "source": [
    "combined_samples['habitat_class'].value_counts()"
   ]
  },
  {
   "cell_type": "markdown",
   "id": "930307eb-efda-4641-909d-09206a9ad5ca",
   "metadata": {},
   "source": [
    "Too few samples for habitat classes 9, 1 and 5."
   ]
  },
  {
   "cell_type": "code",
   "execution_count": 41,
   "id": "14c3aabe-5b0c-4f69-bd4a-e2f3a2f8a839",
   "metadata": {},
   "outputs": [
    {
     "data": {
      "text/html": [
       "<div>\n",
       "<style scoped>\n",
       "    .dataframe tbody tr th:only-of-type {\n",
       "        vertical-align: middle;\n",
       "    }\n",
       "\n",
       "    .dataframe tbody tr th {\n",
       "        vertical-align: top;\n",
       "    }\n",
       "\n",
       "    .dataframe thead th {\n",
       "        text-align: right;\n",
       "    }\n",
       "</style>\n",
       "<table border=\"1\" class=\"dataframe\">\n",
       "  <thead>\n",
       "    <tr style=\"text-align: right;\">\n",
       "      <th></th>\n",
       "      <th>id</th>\n",
       "      <th>HabType</th>\n",
       "    </tr>\n",
       "  </thead>\n",
       "  <tbody>\n",
       "    <tr>\n",
       "      <th>1</th>\n",
       "      <td>1</td>\n",
       "      <td>Lophelia pertusa reefs</td>\n",
       "    </tr>\n",
       "    <tr>\n",
       "      <th>5</th>\n",
       "      <td>5</td>\n",
       "      <td>Deep-sea sponge aggregations</td>\n",
       "    </tr>\n",
       "    <tr>\n",
       "      <th>9</th>\n",
       "      <td>9</td>\n",
       "      <td>Ostrea edulis beds</td>\n",
       "    </tr>\n",
       "  </tbody>\n",
       "</table>\n",
       "</div>"
      ],
      "text/plain": [
       "   id                       HabType\n",
       "1   1        Lophelia pertusa reefs\n",
       "5   5  Deep-sea sponge aggregations\n",
       "9   9            Ostrea edulis beds"
      ]
     },
     "execution_count": 41,
     "metadata": {},
     "output_type": "execute_result"
    }
   ],
   "source": [
    "habtype_code[habtype_code['id'].isin((9, 1, 5))]"
   ]
  },
  {
   "cell_type": "code",
   "execution_count": 45,
   "id": "d1a2a13d-d7fa-4b27-a6d6-02e697e1a58c",
   "metadata": {},
   "outputs": [],
   "source": [
    "combined_samples = combined_samples[~combined_samples['habitat_class'].isin((9, 1, 5, 14))]"
   ]
  },
  {
   "cell_type": "code",
   "execution_count": 46,
   "id": "c5d3247a-a25a-4d63-bba3-02279b22f89a",
   "metadata": {},
   "outputs": [
    {
     "data": {
      "text/plain": [
       "habitat_class\n",
       "-1     8674\n",
       " 6     1570\n",
       " 0     1156\n",
       " 4      663\n",
       " 8      627\n",
       " 11     467\n",
       " 7      455\n",
       " 10     256\n",
       " 13     135\n",
       "Name: count, dtype: int64"
      ]
     },
     "execution_count": 46,
     "metadata": {},
     "output_type": "execute_result"
    }
   ],
   "source": [
    "combined_samples['habitat_class'].value_counts()"
   ]
  },
  {
   "cell_type": "code",
   "execution_count": 47,
   "id": "90bc172a-dc42-4da4-8eca-b8380c128212",
   "metadata": {},
   "outputs": [],
   "source": [
    "combined_samples.to_csv(os.path.join(DATA_DIR, 'multi_class_dataset.csv'))"
   ]
  },
  {
   "cell_type": "markdown",
   "id": "8dfb4e00-6a3c-4844-ab21-4627caa2545c",
   "metadata": {},
   "source": [
    "Close any datasets"
   ]
  },
  {
   "cell_type": "code",
   "execution_count": 48,
   "id": "431374ac-9a3d-40f3-b919-eb2cf0c1148b",
   "metadata": {},
   "outputs": [],
   "source": [
    "tile_ds.close()"
   ]
  },
  {
   "cell_type": "markdown",
   "id": "fd2533a3-1e93-46a1-b57a-2b66221b020f",
   "metadata": {},
   "source": [
    "## Random Forest model"
   ]
  },
  {
   "cell_type": "code",
   "execution_count": 49,
   "id": "39ee8093-3539-474c-a7ff-86ad8af37561",
   "metadata": {},
   "outputs": [
    {
     "data": {
      "text/html": [
       "<div>\n",
       "<style scoped>\n",
       "    .dataframe tbody tr th:only-of-type {\n",
       "        vertical-align: middle;\n",
       "    }\n",
       "\n",
       "    .dataframe tbody tr th {\n",
       "        vertical-align: top;\n",
       "    }\n",
       "\n",
       "    .dataframe thead th {\n",
       "        text-align: right;\n",
       "    }\n",
       "</style>\n",
       "<table border=\"1\" class=\"dataframe\">\n",
       "  <thead>\n",
       "    <tr style=\"text-align: right;\">\n",
       "      <th></th>\n",
       "      <th>habitat_class</th>\n",
       "      <th>Rnir</th>\n",
       "      <th>Rgli</th>\n",
       "      <th>logchl</th>\n",
       "      <th>logfb</th>\n",
       "      <th>Rw443</th>\n",
       "      <th>Rw490</th>\n",
       "      <th>Rw560</th>\n",
       "      <th>Rw665</th>\n",
       "      <th>Rw705</th>\n",
       "      <th>Rw740</th>\n",
       "      <th>Rw783</th>\n",
       "      <th>Rw842</th>\n",
       "      <th>Rw865</th>\n",
       "      <th>Rw1610</th>\n",
       "    </tr>\n",
       "  </thead>\n",
       "  <tbody>\n",
       "    <tr>\n",
       "      <th>0</th>\n",
       "      <td>-1</td>\n",
       "      <td>0.031737</td>\n",
       "      <td>0.029720</td>\n",
       "      <td>-0.064695</td>\n",
       "      <td>0.691891</td>\n",
       "      <td>0.031351</td>\n",
       "      <td>0.038182</td>\n",
       "      <td>0.023841</td>\n",
       "      <td>0.005025</td>\n",
       "      <td>0.002126</td>\n",
       "      <td>-0.001619</td>\n",
       "      <td>-0.000183</td>\n",
       "      <td>0.004902</td>\n",
       "      <td>0.001417</td>\n",
       "      <td>0.009790</td>\n",
       "    </tr>\n",
       "    <tr>\n",
       "      <th>1</th>\n",
       "      <td>-1</td>\n",
       "      <td>0.036553</td>\n",
       "      <td>0.030647</td>\n",
       "      <td>0.001470</td>\n",
       "      <td>0.767847</td>\n",
       "      <td>0.033966</td>\n",
       "      <td>0.042742</td>\n",
       "      <td>0.030115</td>\n",
       "      <td>0.005528</td>\n",
       "      <td>0.002342</td>\n",
       "      <td>-0.001360</td>\n",
       "      <td>0.001626</td>\n",
       "      <td>0.002456</td>\n",
       "      <td>0.000558</td>\n",
       "      <td>-0.004591</td>\n",
       "    </tr>\n",
       "    <tr>\n",
       "      <th>2</th>\n",
       "      <td>-1</td>\n",
       "      <td>0.034345</td>\n",
       "      <td>0.030222</td>\n",
       "      <td>-0.041288</td>\n",
       "      <td>0.727521</td>\n",
       "      <td>0.033409</td>\n",
       "      <td>0.039947</td>\n",
       "      <td>0.027236</td>\n",
       "      <td>0.005010</td>\n",
       "      <td>0.000764</td>\n",
       "      <td>-0.000352</td>\n",
       "      <td>0.001592</td>\n",
       "      <td>0.001467</td>\n",
       "      <td>0.000243</td>\n",
       "      <td>-0.000133</td>\n",
       "    </tr>\n",
       "    <tr>\n",
       "      <th>3</th>\n",
       "      <td>-1</td>\n",
       "      <td>0.040351</td>\n",
       "      <td>0.029758</td>\n",
       "      <td>0.199620</td>\n",
       "      <td>0.667138</td>\n",
       "      <td>0.021745</td>\n",
       "      <td>0.030908</td>\n",
       "      <td>0.026212</td>\n",
       "      <td>0.006919</td>\n",
       "      <td>0.001078</td>\n",
       "      <td>-0.001130</td>\n",
       "      <td>0.002220</td>\n",
       "      <td>0.006179</td>\n",
       "      <td>0.000556</td>\n",
       "      <td>0.010109</td>\n",
       "    </tr>\n",
       "    <tr>\n",
       "      <th>4</th>\n",
       "      <td>-1</td>\n",
       "      <td>0.046465</td>\n",
       "      <td>0.030413</td>\n",
       "      <td>0.056508</td>\n",
       "      <td>0.663881</td>\n",
       "      <td>0.025654</td>\n",
       "      <td>0.032844</td>\n",
       "      <td>0.024881</td>\n",
       "      <td>0.004800</td>\n",
       "      <td>0.001852</td>\n",
       "      <td>-0.000233</td>\n",
       "      <td>0.000246</td>\n",
       "      <td>0.000205</td>\n",
       "      <td>0.000867</td>\n",
       "      <td>0.003403</td>\n",
       "    </tr>\n",
       "  </tbody>\n",
       "</table>\n",
       "</div>"
      ],
      "text/plain": [
       "   habitat_class      Rnir      Rgli    logchl     logfb     Rw443     Rw490  \\\n",
       "0             -1  0.031737  0.029720 -0.064695  0.691891  0.031351  0.038182   \n",
       "1             -1  0.036553  0.030647  0.001470  0.767847  0.033966  0.042742   \n",
       "2             -1  0.034345  0.030222 -0.041288  0.727521  0.033409  0.039947   \n",
       "3             -1  0.040351  0.029758  0.199620  0.667138  0.021745  0.030908   \n",
       "4             -1  0.046465  0.030413  0.056508  0.663881  0.025654  0.032844   \n",
       "\n",
       "      Rw560     Rw665     Rw705     Rw740     Rw783     Rw842     Rw865  \\\n",
       "0  0.023841  0.005025  0.002126 -0.001619 -0.000183  0.004902  0.001417   \n",
       "1  0.030115  0.005528  0.002342 -0.001360  0.001626  0.002456  0.000558   \n",
       "2  0.027236  0.005010  0.000764 -0.000352  0.001592  0.001467  0.000243   \n",
       "3  0.026212  0.006919  0.001078 -0.001130  0.002220  0.006179  0.000556   \n",
       "4  0.024881  0.004800  0.001852 -0.000233  0.000246  0.000205  0.000867   \n",
       "\n",
       "     Rw1610  \n",
       "0  0.009790  \n",
       "1 -0.004591  \n",
       "2 -0.000133  \n",
       "3  0.010109  \n",
       "4  0.003403  "
      ]
     },
     "execution_count": 49,
     "metadata": {},
     "output_type": "execute_result"
    }
   ],
   "source": [
    "combined_samples.head()"
   ]
  },
  {
   "cell_type": "code",
   "execution_count": 62,
   "id": "f87ad25d-1c95-4949-b141-03e3ddd1b043",
   "metadata": {},
   "outputs": [],
   "source": [
    "feature_cols = list(combined_samples.columns)[1:]"
   ]
  },
  {
   "cell_type": "code",
   "execution_count": 64,
   "id": "dff0bd46-9ef7-4936-8f40-d7835e9b4b8b",
   "metadata": {},
   "outputs": [],
   "source": [
    "X = combined_samples[feature_cols]\n",
    "y = combined_samples['habitat_class']"
   ]
  },
  {
   "cell_type": "code",
   "execution_count": 67,
   "id": "7a220aae-b80f-4319-a53b-40a99990d657",
   "metadata": {},
   "outputs": [],
   "source": [
    "X_train, X_test, y_train, y_test = train_test_split(\n",
    "    X, y, stratify=y, test_size=0.2, random_state=42\n",
    ")"
   ]
  },
  {
   "cell_type": "code",
   "execution_count": 69,
   "id": "3264bfd8-20fe-4faf-a61a-ce2836ec956f",
   "metadata": {},
   "outputs": [],
   "source": [
    "clf = RandomForestClassifier(\n",
    "    n_estimators=100,\n",
    "    max_depth=None,\n",
    "    class_weight='balanced',\n",
    "    random_state=42,\n",
    "    n_jobs=-1\n",
    ")"
   ]
  },
  {
   "cell_type": "code",
   "execution_count": 70,
   "id": "b978f09b-353f-43c0-9422-54ceaad19aff",
   "metadata": {},
   "outputs": [
    {
     "data": {
      "text/html": [
       "<style>#sk-container-id-1 {\n",
       "  /* Definition of color scheme common for light and dark mode */\n",
       "  --sklearn-color-text: #000;\n",
       "  --sklearn-color-text-muted: #666;\n",
       "  --sklearn-color-line: gray;\n",
       "  /* Definition of color scheme for unfitted estimators */\n",
       "  --sklearn-color-unfitted-level-0: #fff5e6;\n",
       "  --sklearn-color-unfitted-level-1: #f6e4d2;\n",
       "  --sklearn-color-unfitted-level-2: #ffe0b3;\n",
       "  --sklearn-color-unfitted-level-3: chocolate;\n",
       "  /* Definition of color scheme for fitted estimators */\n",
       "  --sklearn-color-fitted-level-0: #f0f8ff;\n",
       "  --sklearn-color-fitted-level-1: #d4ebff;\n",
       "  --sklearn-color-fitted-level-2: #b3dbfd;\n",
       "  --sklearn-color-fitted-level-3: cornflowerblue;\n",
       "\n",
       "  /* Specific color for light theme */\n",
       "  --sklearn-color-text-on-default-background: var(--sg-text-color, var(--theme-code-foreground, var(--jp-content-font-color1, black)));\n",
       "  --sklearn-color-background: var(--sg-background-color, var(--theme-background, var(--jp-layout-color0, white)));\n",
       "  --sklearn-color-border-box: var(--sg-text-color, var(--theme-code-foreground, var(--jp-content-font-color1, black)));\n",
       "  --sklearn-color-icon: #696969;\n",
       "\n",
       "  @media (prefers-color-scheme: dark) {\n",
       "    /* Redefinition of color scheme for dark theme */\n",
       "    --sklearn-color-text-on-default-background: var(--sg-text-color, var(--theme-code-foreground, var(--jp-content-font-color1, white)));\n",
       "    --sklearn-color-background: var(--sg-background-color, var(--theme-background, var(--jp-layout-color0, #111)));\n",
       "    --sklearn-color-border-box: var(--sg-text-color, var(--theme-code-foreground, var(--jp-content-font-color1, white)));\n",
       "    --sklearn-color-icon: #878787;\n",
       "  }\n",
       "}\n",
       "\n",
       "#sk-container-id-1 {\n",
       "  color: var(--sklearn-color-text);\n",
       "}\n",
       "\n",
       "#sk-container-id-1 pre {\n",
       "  padding: 0;\n",
       "}\n",
       "\n",
       "#sk-container-id-1 input.sk-hidden--visually {\n",
       "  border: 0;\n",
       "  clip: rect(1px 1px 1px 1px);\n",
       "  clip: rect(1px, 1px, 1px, 1px);\n",
       "  height: 1px;\n",
       "  margin: -1px;\n",
       "  overflow: hidden;\n",
       "  padding: 0;\n",
       "  position: absolute;\n",
       "  width: 1px;\n",
       "}\n",
       "\n",
       "#sk-container-id-1 div.sk-dashed-wrapped {\n",
       "  border: 1px dashed var(--sklearn-color-line);\n",
       "  margin: 0 0.4em 0.5em 0.4em;\n",
       "  box-sizing: border-box;\n",
       "  padding-bottom: 0.4em;\n",
       "  background-color: var(--sklearn-color-background);\n",
       "}\n",
       "\n",
       "#sk-container-id-1 div.sk-container {\n",
       "  /* jupyter's `normalize.less` sets `[hidden] { display: none; }`\n",
       "     but bootstrap.min.css set `[hidden] { display: none !important; }`\n",
       "     so we also need the `!important` here to be able to override the\n",
       "     default hidden behavior on the sphinx rendered scikit-learn.org.\n",
       "     See: https://github.com/scikit-learn/scikit-learn/issues/21755 */\n",
       "  display: inline-block !important;\n",
       "  position: relative;\n",
       "}\n",
       "\n",
       "#sk-container-id-1 div.sk-text-repr-fallback {\n",
       "  display: none;\n",
       "}\n",
       "\n",
       "div.sk-parallel-item,\n",
       "div.sk-serial,\n",
       "div.sk-item {\n",
       "  /* draw centered vertical line to link estimators */\n",
       "  background-image: linear-gradient(var(--sklearn-color-text-on-default-background), var(--sklearn-color-text-on-default-background));\n",
       "  background-size: 2px 100%;\n",
       "  background-repeat: no-repeat;\n",
       "  background-position: center center;\n",
       "}\n",
       "\n",
       "/* Parallel-specific style estimator block */\n",
       "\n",
       "#sk-container-id-1 div.sk-parallel-item::after {\n",
       "  content: \"\";\n",
       "  width: 100%;\n",
       "  border-bottom: 2px solid var(--sklearn-color-text-on-default-background);\n",
       "  flex-grow: 1;\n",
       "}\n",
       "\n",
       "#sk-container-id-1 div.sk-parallel {\n",
       "  display: flex;\n",
       "  align-items: stretch;\n",
       "  justify-content: center;\n",
       "  background-color: var(--sklearn-color-background);\n",
       "  position: relative;\n",
       "}\n",
       "\n",
       "#sk-container-id-1 div.sk-parallel-item {\n",
       "  display: flex;\n",
       "  flex-direction: column;\n",
       "}\n",
       "\n",
       "#sk-container-id-1 div.sk-parallel-item:first-child::after {\n",
       "  align-self: flex-end;\n",
       "  width: 50%;\n",
       "}\n",
       "\n",
       "#sk-container-id-1 div.sk-parallel-item:last-child::after {\n",
       "  align-self: flex-start;\n",
       "  width: 50%;\n",
       "}\n",
       "\n",
       "#sk-container-id-1 div.sk-parallel-item:only-child::after {\n",
       "  width: 0;\n",
       "}\n",
       "\n",
       "/* Serial-specific style estimator block */\n",
       "\n",
       "#sk-container-id-1 div.sk-serial {\n",
       "  display: flex;\n",
       "  flex-direction: column;\n",
       "  align-items: center;\n",
       "  background-color: var(--sklearn-color-background);\n",
       "  padding-right: 1em;\n",
       "  padding-left: 1em;\n",
       "}\n",
       "\n",
       "\n",
       "/* Toggleable style: style used for estimator/Pipeline/ColumnTransformer box that is\n",
       "clickable and can be expanded/collapsed.\n",
       "- Pipeline and ColumnTransformer use this feature and define the default style\n",
       "- Estimators will overwrite some part of the style using the `sk-estimator` class\n",
       "*/\n",
       "\n",
       "/* Pipeline and ColumnTransformer style (default) */\n",
       "\n",
       "#sk-container-id-1 div.sk-toggleable {\n",
       "  /* Default theme specific background. It is overwritten whether we have a\n",
       "  specific estimator or a Pipeline/ColumnTransformer */\n",
       "  background-color: var(--sklearn-color-background);\n",
       "}\n",
       "\n",
       "/* Toggleable label */\n",
       "#sk-container-id-1 label.sk-toggleable__label {\n",
       "  cursor: pointer;\n",
       "  display: flex;\n",
       "  width: 100%;\n",
       "  margin-bottom: 0;\n",
       "  padding: 0.5em;\n",
       "  box-sizing: border-box;\n",
       "  text-align: center;\n",
       "  align-items: start;\n",
       "  justify-content: space-between;\n",
       "  gap: 0.5em;\n",
       "}\n",
       "\n",
       "#sk-container-id-1 label.sk-toggleable__label .caption {\n",
       "  font-size: 0.6rem;\n",
       "  font-weight: lighter;\n",
       "  color: var(--sklearn-color-text-muted);\n",
       "}\n",
       "\n",
       "#sk-container-id-1 label.sk-toggleable__label-arrow:before {\n",
       "  /* Arrow on the left of the label */\n",
       "  content: \"▸\";\n",
       "  float: left;\n",
       "  margin-right: 0.25em;\n",
       "  color: var(--sklearn-color-icon);\n",
       "}\n",
       "\n",
       "#sk-container-id-1 label.sk-toggleable__label-arrow:hover:before {\n",
       "  color: var(--sklearn-color-text);\n",
       "}\n",
       "\n",
       "/* Toggleable content - dropdown */\n",
       "\n",
       "#sk-container-id-1 div.sk-toggleable__content {\n",
       "  max-height: 0;\n",
       "  max-width: 0;\n",
       "  overflow: hidden;\n",
       "  text-align: left;\n",
       "  /* unfitted */\n",
       "  background-color: var(--sklearn-color-unfitted-level-0);\n",
       "}\n",
       "\n",
       "#sk-container-id-1 div.sk-toggleable__content.fitted {\n",
       "  /* fitted */\n",
       "  background-color: var(--sklearn-color-fitted-level-0);\n",
       "}\n",
       "\n",
       "#sk-container-id-1 div.sk-toggleable__content pre {\n",
       "  margin: 0.2em;\n",
       "  border-radius: 0.25em;\n",
       "  color: var(--sklearn-color-text);\n",
       "  /* unfitted */\n",
       "  background-color: var(--sklearn-color-unfitted-level-0);\n",
       "}\n",
       "\n",
       "#sk-container-id-1 div.sk-toggleable__content.fitted pre {\n",
       "  /* unfitted */\n",
       "  background-color: var(--sklearn-color-fitted-level-0);\n",
       "}\n",
       "\n",
       "#sk-container-id-1 input.sk-toggleable__control:checked~div.sk-toggleable__content {\n",
       "  /* Expand drop-down */\n",
       "  max-height: 200px;\n",
       "  max-width: 100%;\n",
       "  overflow: auto;\n",
       "}\n",
       "\n",
       "#sk-container-id-1 input.sk-toggleable__control:checked~label.sk-toggleable__label-arrow:before {\n",
       "  content: \"▾\";\n",
       "}\n",
       "\n",
       "/* Pipeline/ColumnTransformer-specific style */\n",
       "\n",
       "#sk-container-id-1 div.sk-label input.sk-toggleable__control:checked~label.sk-toggleable__label {\n",
       "  color: var(--sklearn-color-text);\n",
       "  background-color: var(--sklearn-color-unfitted-level-2);\n",
       "}\n",
       "\n",
       "#sk-container-id-1 div.sk-label.fitted input.sk-toggleable__control:checked~label.sk-toggleable__label {\n",
       "  background-color: var(--sklearn-color-fitted-level-2);\n",
       "}\n",
       "\n",
       "/* Estimator-specific style */\n",
       "\n",
       "/* Colorize estimator box */\n",
       "#sk-container-id-1 div.sk-estimator input.sk-toggleable__control:checked~label.sk-toggleable__label {\n",
       "  /* unfitted */\n",
       "  background-color: var(--sklearn-color-unfitted-level-2);\n",
       "}\n",
       "\n",
       "#sk-container-id-1 div.sk-estimator.fitted input.sk-toggleable__control:checked~label.sk-toggleable__label {\n",
       "  /* fitted */\n",
       "  background-color: var(--sklearn-color-fitted-level-2);\n",
       "}\n",
       "\n",
       "#sk-container-id-1 div.sk-label label.sk-toggleable__label,\n",
       "#sk-container-id-1 div.sk-label label {\n",
       "  /* The background is the default theme color */\n",
       "  color: var(--sklearn-color-text-on-default-background);\n",
       "}\n",
       "\n",
       "/* On hover, darken the color of the background */\n",
       "#sk-container-id-1 div.sk-label:hover label.sk-toggleable__label {\n",
       "  color: var(--sklearn-color-text);\n",
       "  background-color: var(--sklearn-color-unfitted-level-2);\n",
       "}\n",
       "\n",
       "/* Label box, darken color on hover, fitted */\n",
       "#sk-container-id-1 div.sk-label.fitted:hover label.sk-toggleable__label.fitted {\n",
       "  color: var(--sklearn-color-text);\n",
       "  background-color: var(--sklearn-color-fitted-level-2);\n",
       "}\n",
       "\n",
       "/* Estimator label */\n",
       "\n",
       "#sk-container-id-1 div.sk-label label {\n",
       "  font-family: monospace;\n",
       "  font-weight: bold;\n",
       "  display: inline-block;\n",
       "  line-height: 1.2em;\n",
       "}\n",
       "\n",
       "#sk-container-id-1 div.sk-label-container {\n",
       "  text-align: center;\n",
       "}\n",
       "\n",
       "/* Estimator-specific */\n",
       "#sk-container-id-1 div.sk-estimator {\n",
       "  font-family: monospace;\n",
       "  border: 1px dotted var(--sklearn-color-border-box);\n",
       "  border-radius: 0.25em;\n",
       "  box-sizing: border-box;\n",
       "  margin-bottom: 0.5em;\n",
       "  /* unfitted */\n",
       "  background-color: var(--sklearn-color-unfitted-level-0);\n",
       "}\n",
       "\n",
       "#sk-container-id-1 div.sk-estimator.fitted {\n",
       "  /* fitted */\n",
       "  background-color: var(--sklearn-color-fitted-level-0);\n",
       "}\n",
       "\n",
       "/* on hover */\n",
       "#sk-container-id-1 div.sk-estimator:hover {\n",
       "  /* unfitted */\n",
       "  background-color: var(--sklearn-color-unfitted-level-2);\n",
       "}\n",
       "\n",
       "#sk-container-id-1 div.sk-estimator.fitted:hover {\n",
       "  /* fitted */\n",
       "  background-color: var(--sklearn-color-fitted-level-2);\n",
       "}\n",
       "\n",
       "/* Specification for estimator info (e.g. \"i\" and \"?\") */\n",
       "\n",
       "/* Common style for \"i\" and \"?\" */\n",
       "\n",
       ".sk-estimator-doc-link,\n",
       "a:link.sk-estimator-doc-link,\n",
       "a:visited.sk-estimator-doc-link {\n",
       "  float: right;\n",
       "  font-size: smaller;\n",
       "  line-height: 1em;\n",
       "  font-family: monospace;\n",
       "  background-color: var(--sklearn-color-background);\n",
       "  border-radius: 1em;\n",
       "  height: 1em;\n",
       "  width: 1em;\n",
       "  text-decoration: none !important;\n",
       "  margin-left: 0.5em;\n",
       "  text-align: center;\n",
       "  /* unfitted */\n",
       "  border: var(--sklearn-color-unfitted-level-1) 1pt solid;\n",
       "  color: var(--sklearn-color-unfitted-level-1);\n",
       "}\n",
       "\n",
       ".sk-estimator-doc-link.fitted,\n",
       "a:link.sk-estimator-doc-link.fitted,\n",
       "a:visited.sk-estimator-doc-link.fitted {\n",
       "  /* fitted */\n",
       "  border: var(--sklearn-color-fitted-level-1) 1pt solid;\n",
       "  color: var(--sklearn-color-fitted-level-1);\n",
       "}\n",
       "\n",
       "/* On hover */\n",
       "div.sk-estimator:hover .sk-estimator-doc-link:hover,\n",
       ".sk-estimator-doc-link:hover,\n",
       "div.sk-label-container:hover .sk-estimator-doc-link:hover,\n",
       ".sk-estimator-doc-link:hover {\n",
       "  /* unfitted */\n",
       "  background-color: var(--sklearn-color-unfitted-level-3);\n",
       "  color: var(--sklearn-color-background);\n",
       "  text-decoration: none;\n",
       "}\n",
       "\n",
       "div.sk-estimator.fitted:hover .sk-estimator-doc-link.fitted:hover,\n",
       ".sk-estimator-doc-link.fitted:hover,\n",
       "div.sk-label-container:hover .sk-estimator-doc-link.fitted:hover,\n",
       ".sk-estimator-doc-link.fitted:hover {\n",
       "  /* fitted */\n",
       "  background-color: var(--sklearn-color-fitted-level-3);\n",
       "  color: var(--sklearn-color-background);\n",
       "  text-decoration: none;\n",
       "}\n",
       "\n",
       "/* Span, style for the box shown on hovering the info icon */\n",
       ".sk-estimator-doc-link span {\n",
       "  display: none;\n",
       "  z-index: 9999;\n",
       "  position: relative;\n",
       "  font-weight: normal;\n",
       "  right: .2ex;\n",
       "  padding: .5ex;\n",
       "  margin: .5ex;\n",
       "  width: min-content;\n",
       "  min-width: 20ex;\n",
       "  max-width: 50ex;\n",
       "  color: var(--sklearn-color-text);\n",
       "  box-shadow: 2pt 2pt 4pt #999;\n",
       "  /* unfitted */\n",
       "  background: var(--sklearn-color-unfitted-level-0);\n",
       "  border: .5pt solid var(--sklearn-color-unfitted-level-3);\n",
       "}\n",
       "\n",
       ".sk-estimator-doc-link.fitted span {\n",
       "  /* fitted */\n",
       "  background: var(--sklearn-color-fitted-level-0);\n",
       "  border: var(--sklearn-color-fitted-level-3);\n",
       "}\n",
       "\n",
       ".sk-estimator-doc-link:hover span {\n",
       "  display: block;\n",
       "}\n",
       "\n",
       "/* \"?\"-specific style due to the `<a>` HTML tag */\n",
       "\n",
       "#sk-container-id-1 a.estimator_doc_link {\n",
       "  float: right;\n",
       "  font-size: 1rem;\n",
       "  line-height: 1em;\n",
       "  font-family: monospace;\n",
       "  background-color: var(--sklearn-color-background);\n",
       "  border-radius: 1rem;\n",
       "  height: 1rem;\n",
       "  width: 1rem;\n",
       "  text-decoration: none;\n",
       "  /* unfitted */\n",
       "  color: var(--sklearn-color-unfitted-level-1);\n",
       "  border: var(--sklearn-color-unfitted-level-1) 1pt solid;\n",
       "}\n",
       "\n",
       "#sk-container-id-1 a.estimator_doc_link.fitted {\n",
       "  /* fitted */\n",
       "  border: var(--sklearn-color-fitted-level-1) 1pt solid;\n",
       "  color: var(--sklearn-color-fitted-level-1);\n",
       "}\n",
       "\n",
       "/* On hover */\n",
       "#sk-container-id-1 a.estimator_doc_link:hover {\n",
       "  /* unfitted */\n",
       "  background-color: var(--sklearn-color-unfitted-level-3);\n",
       "  color: var(--sklearn-color-background);\n",
       "  text-decoration: none;\n",
       "}\n",
       "\n",
       "#sk-container-id-1 a.estimator_doc_link.fitted:hover {\n",
       "  /* fitted */\n",
       "  background-color: var(--sklearn-color-fitted-level-3);\n",
       "}\n",
       "</style><div id=\"sk-container-id-1\" class=\"sk-top-container\"><div class=\"sk-text-repr-fallback\"><pre>RandomForestClassifier(class_weight=&#x27;balanced&#x27;, n_jobs=-1, random_state=42)</pre><b>In a Jupyter environment, please rerun this cell to show the HTML representation or trust the notebook. <br />On GitHub, the HTML representation is unable to render, please try loading this page with nbviewer.org.</b></div><div class=\"sk-container\" hidden><div class=\"sk-item\"><div class=\"sk-estimator fitted sk-toggleable\"><input class=\"sk-toggleable__control sk-hidden--visually\" id=\"sk-estimator-id-1\" type=\"checkbox\" checked><label for=\"sk-estimator-id-1\" class=\"sk-toggleable__label fitted sk-toggleable__label-arrow\"><div><div>RandomForestClassifier</div></div><div><a class=\"sk-estimator-doc-link fitted\" rel=\"noreferrer\" target=\"_blank\" href=\"https://scikit-learn.org/1.6/modules/generated/sklearn.ensemble.RandomForestClassifier.html\">?<span>Documentation for RandomForestClassifier</span></a><span class=\"sk-estimator-doc-link fitted\">i<span>Fitted</span></span></div></label><div class=\"sk-toggleable__content fitted\"><pre>RandomForestClassifier(class_weight=&#x27;balanced&#x27;, n_jobs=-1, random_state=42)</pre></div> </div></div></div></div>"
      ],
      "text/plain": [
       "RandomForestClassifier(class_weight='balanced', n_jobs=-1, random_state=42)"
      ]
     },
     "execution_count": 70,
     "metadata": {},
     "output_type": "execute_result"
    }
   ],
   "source": [
    "clf.fit(X_train, y_train)"
   ]
  },
  {
   "cell_type": "code",
   "execution_count": 71,
   "id": "2fb3ca2c-50e6-4174-9557-d87b7ae18755",
   "metadata": {},
   "outputs": [],
   "source": [
    "y_pred = clf.predict(X_test)"
   ]
  },
  {
   "cell_type": "code",
   "execution_count": 72,
   "id": "b6616500-af50-4974-97b5-7907a6c6eeff",
   "metadata": {},
   "outputs": [
    {
     "name": "stdout",
     "output_type": "stream",
     "text": [
      "[[1715    7    0    5    0    3    0    4    1]\n",
      " [ 213   12    0    1    0    3    0    2    0]\n",
      " [ 131    0    0    2    0    0    0    0    0]\n",
      " [ 304    1    1    6    0    0    0    2    0]\n",
      " [  88    0    0    1    1    0    0    1    0]\n",
      " [ 113    2    0    0    0   10    0    1    0]\n",
      " [  50    0    0    0    0    0    1    0    0]\n",
      " [  76    3    0    0    0    0    0   14    0]\n",
      " [  25    0    0    1    0    0    0    0    1]]\n"
     ]
    }
   ],
   "source": [
    "print(confusion_matrix(y_test, y_pred))"
   ]
  },
  {
   "cell_type": "code",
   "execution_count": 73,
   "id": "75f42a56-9a3b-45e6-a3d7-55419dd03e17",
   "metadata": {},
   "outputs": [
    {
     "name": "stdout",
     "output_type": "stream",
     "text": [
      "              precision    recall  f1-score   support\n",
      "\n",
      "          -1       0.63      0.99      0.77      1735\n",
      "           0       0.48      0.05      0.09       231\n",
      "           4       0.00      0.00      0.00       133\n",
      "           6       0.38      0.02      0.04       314\n",
      "           7       1.00      0.01      0.02        91\n",
      "           8       0.62      0.08      0.14       126\n",
      "          10       1.00      0.02      0.04        51\n",
      "          11       0.58      0.15      0.24        93\n",
      "          13       0.50      0.04      0.07        27\n",
      "\n",
      "    accuracy                           0.63      2801\n",
      "   macro avg       0.58      0.15      0.16      2801\n",
      "weighted avg       0.58      0.63      0.51      2801\n",
      "\n"
     ]
    }
   ],
   "source": [
    "print(classification_report(y_test, y_pred, zero_division=0))"
   ]
  },
  {
   "cell_type": "code",
   "execution_count": null,
   "id": "17be0f45-daa5-4dc9-bbf4-f54ccedf7014",
   "metadata": {},
   "outputs": [],
   "source": []
  }
 ],
 "metadata": {
  "kernelspec": {
   "display_name": "Python 3 (ipykernel)",
   "language": "python",
   "name": "python3"
  },
  "language_info": {
   "codemirror_mode": {
    "name": "ipython",
    "version": 3
   },
   "file_extension": ".py",
   "mimetype": "text/x-python",
   "name": "python",
   "nbconvert_exporter": "python",
   "pygments_lexer": "ipython3",
   "version": "3.10.13"
  }
 },
 "nbformat": 4,
 "nbformat_minor": 5
}
