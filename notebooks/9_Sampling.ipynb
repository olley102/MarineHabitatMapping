{
 "cells": [
  {
   "cell_type": "markdown",
   "id": "0f2a9615-ff2e-45b7-becb-f0c104700dcb",
   "metadata": {},
   "source": [
    "# Background sampling\n",
    "\n",
    "This notebooks aims to create a sampling of background points from coastal areas, and an \"other\" class sampling from other types of habitats that likely do not coexist as neighbours to the habitats of interest.\n",
    "\n",
    "Steps:\n",
    "\n",
    "1. Get sub-tiles with no habitat observations. Record these as \"Unknown\" areas to be used for prediction only. &#x2713;\n",
    "2. For all habitat points, compute which sub-tiles they belong to. &#x2713;\n",
    "3. For each UTM tile, compute coastal buffer from Idepix land mask. &#x2713;\n",
    "4. For each sub-tile computed in step 3, computer cluster envelopes. &#x2713;\n",
    "5. Sample background points from outside cluster envelopes, and \"other\" points from other habitat classes. &#x2713;"
   ]
  },
  {
   "cell_type": "markdown",
   "id": "0946502a-5573-4310-b7e2-907b648a3433",
   "metadata": {},
   "source": [
    "## Setup"
   ]
  },
  {
   "cell_type": "markdown",
   "id": "a30d95e4-faff-42a4-824a-5ca272c321fe",
   "metadata": {},
   "source": [
    "Files and system"
   ]
  },
  {
   "cell_type": "code",
   "execution_count": null,
   "id": "7552037c-6c8f-40f1-81a2-6c018a91733b",
   "metadata": {},
   "outputs": [],
   "source": [
    "import os\n",
    "import json"
   ]
  },
  {
   "cell_type": "markdown",
   "id": "9425c93b-9378-4dcd-a375-ae46c1bd3b85",
   "metadata": {},
   "source": [
    "Arrays"
   ]
  },
  {
   "cell_type": "code",
   "execution_count": null,
   "id": "28a94e1a-9fd9-420f-906e-080598cd025f",
   "metadata": {},
   "outputs": [],
   "source": [
    "import numpy as np\n",
    "import xarray as xr\n",
    "import pandas as pd\n",
    "import geopandas as gpd"
   ]
  },
  {
   "cell_type": "markdown",
   "id": "d5e5c1d9-2847-4b8b-91bb-0ab369ff8245",
   "metadata": {},
   "source": [
    "Geometry"
   ]
  },
  {
   "cell_type": "code",
   "execution_count": null,
   "id": "6bd887c1-48d0-486c-a4da-a35d6b3a3ac1",
   "metadata": {},
   "outputs": [],
   "source": [
    "from shapely.geometry import Point, MultiPoint"
   ]
  },
  {
   "cell_type": "markdown",
   "id": "11a61378-ba91-4612-ae31-d822b571333f",
   "metadata": {},
   "source": [
    "Raster operations"
   ]
  },
  {
   "cell_type": "code",
   "execution_count": null,
   "id": "b4e90aaa-7e58-484e-b961-f6e1c3091251",
   "metadata": {},
   "outputs": [],
   "source": [
    "from scipy.ndimage import binary_dilation"
   ]
  },
  {
   "cell_type": "code",
   "execution_count": null,
   "id": "93cd3b35-76f5-436b-9ab2-6e2d625f660d",
   "metadata": {},
   "outputs": [],
   "source": [
    "import rasterio\n",
    "import rioxarray\n",
    "from rasterio.features import rasterize"
   ]
  },
  {
   "cell_type": "markdown",
   "id": "cda708bc-0de6-4c48-bdaf-7e71c23fc7b7",
   "metadata": {},
   "source": [
    "Plotting"
   ]
  },
  {
   "cell_type": "code",
   "execution_count": null,
   "id": "8edd328e-197d-4889-959c-913bbd61b889",
   "metadata": {},
   "outputs": [],
   "source": [
    "import matplotlib.pyplot as plt"
   ]
  },
  {
   "cell_type": "markdown",
   "id": "ffe03e36-b318-4d33-807c-5505dc6c7883",
   "metadata": {},
   "source": [
    "Directories"
   ]
  },
  {
   "cell_type": "code",
   "execution_count": null,
   "id": "d9e64ec3-a60f-4d16-9e5a-676470b9aa16",
   "metadata": {},
   "outputs": [],
   "source": [
    "DATA_DIR = '../data/'\n",
    "FIGURES_DIR = '../saved_figures/'"
   ]
  },
  {
   "cell_type": "markdown",
   "id": "7a3deb63-6c88-4f76-8d57-c8e9c5b72566",
   "metadata": {},
   "source": [
    "Habitat data"
   ]
  },
  {
   "cell_type": "code",
   "execution_count": null,
   "id": "7ee4c03a-cdd8-4fd1-a088-47cac9a0e2f2",
   "metadata": {},
   "outputs": [],
   "source": [
    "habitats_shp = os.path.join(DATA_DIR, 'OSPARHabitats2022_Points_clustered/OSPAR2022Points.shp')\n",
    "habitats_gdf = gpd.read_file(habitats_shp)"
   ]
  },
  {
   "cell_type": "markdown",
   "id": "02b3c2e6-0cbf-4b1d-82f4-ab550b71ed85",
   "metadata": {},
   "source": [
    "Sub-tile grid"
   ]
  },
  {
   "cell_type": "code",
   "execution_count": null,
   "id": "943cce91-b688-45c7-ad75-71c76f9234e1",
   "metadata": {},
   "outputs": [],
   "source": [
    "with open(os.path.join(DATA_DIR, 'tile_buffer_wkt.json'), 'r') as f:\n",
    "    tiles_wkt_dict = json.load(f)"
   ]
  },
  {
   "cell_type": "markdown",
   "id": "8d21fe42-dfe9-4956-b091-911b81b3bec5",
   "metadata": {},
   "source": [
    "## Get sub-tiles"
   ]
  },
  {
   "cell_type": "code",
   "execution_count": null,
   "id": "35ec8a0f-64d6-4b1f-a6b8-6db609da3eeb",
   "metadata": {},
   "outputs": [],
   "source": [
    "habitats_gdf['subtile_index'] = None"
   ]
  },
  {
   "cell_type": "code",
   "execution_count": null,
   "id": "e2b19c14-6158-40ea-87e4-0bd37736d6e7",
   "metadata": {},
   "outputs": [],
   "source": [
    "unknown_subtiles = dict()"
   ]
  },
  {
   "cell_type": "code",
   "execution_count": null,
   "id": "55c549ae-4334-4c66-afe0-0b349b845220",
   "metadata": {},
   "outputs": [],
   "source": [
    "# for tileId in tiles_wkt_dict:\n",
    "#     habitats_sub = habitats_gdf[habitats_gdf['tileId'] == tileId]\n",
    "#     subtiles = gpd.GeoDataFrame(geometry=gpd.GeoSeries.from_wkt(tiles_wkt_dict[tileId]), crs=\"EPSG:4326\")\n",
    "\n",
    "#     # Find polygon that contains each point\n",
    "#     matches = [None]*len(habitats_sub)\n",
    "#     for j, (i, row) in enumerate(habitats_sub.iterrows()):\n",
    "#         point = row.geometry\n",
    "#         matching_idx = subtiles[subtiles.contains(point)].index\n",
    "\n",
    "#         if not matching_idx.empty:\n",
    "#             # habitats_gdf.at[i, 'subtile_index'] = matching_idx[0]\n",
    "#             matches[j] = matching_idx[0]\n",
    "#         else:\n",
    "#             print(f\"No polygon contains point {point}\")\n",
    "\n",
    "#     # Get sub-tile indices containing no points\n",
    "#     used_subtile_indices = set(matches) - {None}\n",
    "#     all_subtile_indices = set(subtiles.index)\n",
    "#     unknown_subtiles[tileId] = all_subtile_indices - used_subtile_indices\n",
    "\n",
    "#     # Update subtile_index column\n",
    "#     habitats_gdf.loc[habitats_sub.index, 'subtile_index'] = matches"
   ]
  },
  {
   "cell_type": "markdown",
   "id": "4ccdaa11-976a-40b8-8bd8-8a3227938d9c",
   "metadata": {},
   "source": [
    "More efficient method"
   ]
  },
  {
   "cell_type": "code",
   "execution_count": null,
   "id": "e23e9da3-841c-4416-bbd1-9d74d5b365ac",
   "metadata": {},
   "outputs": [],
   "source": [
    "for tileId in tiles_wkt_dict:\n",
    "    habitats_sub = habitats_gdf[habitats_gdf['tileId'] == tileId].copy()\n",
    "    subtiles = gpd.GeoDataFrame(\n",
    "        geometry=gpd.GeoSeries.from_wkt(tiles_wkt_dict[tileId]), crs=\"EPSG:4326\"\n",
    "    )\n",
    "    subtiles = subtiles.reset_index().rename(columns={'index': 'subtile_index'})\n",
    "\n",
    "    # Perform spatial join: keep only points that are inside polygons\n",
    "    joined = gpd.sjoin(habitats_sub, subtiles, how='left', predicate='contains')\n",
    "\n",
    "    # Update the main DataFrame with results from spatial join\n",
    "    habitats_gdf.loc[joined.index, 'subtile_index'] = joined['subtile_index'].values\n",
    "\n",
    "    # Find subtiles with no points\n",
    "    used_subtiles = set(joined['subtile_index'].dropna())\n",
    "    all_subtiles = set(subtiles['subtile_index'])\n",
    "    unknown_subtiles[tileId] = list(all_subtiles - used_subtiles)\n"
   ]
  },
  {
   "cell_type": "markdown",
   "id": "df9741d9-a199-4132-ac9e-68247bbb226d",
   "metadata": {},
   "source": [
    "Save habitat data-frame and unknown subtiles."
   ]
  },
  {
   "cell_type": "code",
   "execution_count": null,
   "id": "718f2666-061f-44a9-8c4a-aca744778b98",
   "metadata": {},
   "outputs": [],
   "source": [
    "habitats_gdf.to_file(habitats_shp)"
   ]
  },
  {
   "cell_type": "code",
   "execution_count": null,
   "id": "ee3a1201-a3c3-43b9-a1f8-b373de2d34c0",
   "metadata": {},
   "outputs": [],
   "source": [
    "with open(os.path.join(DATA_DIR, 'unknown_subtiles.json'), 'w') as f:\n",
    "    json.dump(unknown_subtiles, f)"
   ]
  },
  {
   "cell_type": "markdown",
   "id": "be262bc3-71de-4de5-b863-83299a7015db",
   "metadata": {},
   "source": [
    "## Coastal buffer"
   ]
  },
  {
   "cell_type": "code",
   "execution_count": null,
   "id": "f40155fa-1c3b-49a5-9721-2245fbb5911a",
   "metadata": {},
   "outputs": [],
   "source": [
    "def idepix_coastal_buffer(idepix_ds, buffer_pixels=5):\n",
    "    land_mask = idepix_ds['IDEPIX_LAND'].astype(bool)\n",
    "\n",
    "    # Create buffered land mask\n",
    "    buffered_land = binary_dilation(land_mask, iterations=buffer_pixels)\n",
    "\n",
    "    # Coastal buffer = buffered land minus original land\n",
    "    coastal_buffer = buffered_land & ~land_mask\n",
    "\n",
    "    coastal_buffer_da = xr.DataArray(\n",
    "        coastal_buffer,\n",
    "        coords=idepix_ds['IDEPIX_CLEAR_WATER'].coords,\n",
    "        dims=idepix_ds['IDEPIX_CLEAR_WATER'].dims,\n",
    "        name='coastal_buffer'\n",
    "    )\n",
    "\n",
    "    return coastal_buffer_da"
   ]
  },
  {
   "cell_type": "markdown",
   "id": "9e6e57f2-a8fb-4fba-bd91-3d406cfefae3",
   "metadata": {},
   "source": [
    "Example"
   ]
  },
  {
   "cell_type": "code",
   "execution_count": null,
   "id": "1cacbe92-d188-45ab-912d-fbd62cfe75de",
   "metadata": {},
   "outputs": [],
   "source": [
    "idepix_df = os.path.join(DATA_DIR, f's2_processed/{tileId}/idepix-{tileId}.nc')\n",
    "idepix_ds = xr.open_dataset(idepix_df)"
   ]
  },
  {
   "cell_type": "code",
   "execution_count": null,
   "id": "19586d29-c43c-448c-a559-60ea39961bd4",
   "metadata": {},
   "outputs": [],
   "source": [
    "coastal_buffer_da = idepix_coastal_buffer(idepix_ds).astype(bool)"
   ]
  },
  {
   "cell_type": "markdown",
   "id": "eac53fb3-2820-49e3-90f6-2dce37a19cfc",
   "metadata": {},
   "source": [
    "Save"
   ]
  },
  {
   "cell_type": "code",
   "execution_count": null,
   "id": "2c103ca4-30d9-433a-b1af-0dd60db577ae",
   "metadata": {},
   "outputs": [],
   "source": [
    "# coastal_buffer_da.to_file(..."
   ]
  },
  {
   "cell_type": "markdown",
   "id": "30101f1e-25f3-4522-9cdf-7c4e5fa1bbea",
   "metadata": {},
   "source": [
    "## Cluster envelopes"
   ]
  },
  {
   "cell_type": "code",
   "execution_count": null,
   "id": "9b2c52f0-cbeb-4389-a0cd-c7029151eaa1",
   "metadata": {},
   "outputs": [],
   "source": [
    "def cluster_convex_hulls(gdf, template_da, burn_value=1):\n",
    "    hull_geoms = []\n",
    "\n",
    "    for cluster_id in gdf['Cluster'].unique():\n",
    "        cluster_points = gdf.loc[gdf['Cluster'] == cluster_id, 'geometry']\n",
    "        multipoint = MultiPoint(cluster_points.to_list())\n",
    "        hull = multipoint.convex_hull\n",
    "        hull_geoms.append((hull, burn_value))\n",
    "\n",
    "    # Get transform and shape from template raster\n",
    "    transform = template_da.rio.transform()\n",
    "    out_shape = template_da.shape\n",
    "\n",
    "    # Rasterize convex hulls\n",
    "    mask_array = rasterize(\n",
    "        hull_geoms,\n",
    "        out_shape=out_shape,\n",
    "        transform=transform,\n",
    "        fill=0,\n",
    "        dtype='uint8'\n",
    "    )\n",
    "\n",
    "    # Wrap in a DataArray\n",
    "    mask_da = xr.DataArray(\n",
    "        mask_array,\n",
    "        coords=template_da.coords,\n",
    "        dims=template_da.dims,\n",
    "        name='cluster_convex_hull_mask'\n",
    "    )\n",
    "\n",
    "    return mask_da"
   ]
  },
  {
   "cell_type": "markdown",
   "id": "3759d0da-9521-41f1-b0b2-8143e4a329d5",
   "metadata": {},
   "source": [
    "Example"
   ]
  },
  {
   "cell_type": "code",
   "execution_count": null,
   "id": "a6bf3367-89ee-4b69-ab98-4916434db4ce",
   "metadata": {},
   "outputs": [],
   "source": [
    "cluster_mask = cluster_convex_hulls(gdf, idepix_ds['IDEPIX_CLEAR_WATER']).astype(bool)"
   ]
  },
  {
   "cell_type": "code",
   "execution_count": null,
   "id": "b8ee02a6-9f6d-418f-a0b6-44d859d4bb21",
   "metadata": {},
   "outputs": [],
   "source": [
    "background_mask = coastal_buffer_bin & ~cluster_mask_bin\n",
    "background_mask.name = 'background_mask'"
   ]
  },
  {
   "cell_type": "markdown",
   "id": "d56e0081-2fcb-48c2-a98c-6b5483f90adc",
   "metadata": {},
   "source": [
    "## Sample background"
   ]
  },
  {
   "cell_type": "code",
   "execution_count": null,
   "id": "c983cdcb-d687-48c4-b060-a95a8120e391",
   "metadata": {},
   "outputs": [],
   "source": [
    "def sample_pixels_from_mask(mask_da, n_samples, seed=None):\n",
    "    valid_y, valid_x = np.where(mask_da.samples == 1)\n",
    "\n",
    "    if len(valid_x) < n_samples:\n",
    "        raise ValueError(f\"Requested {n_samples} samples, but only {len(valid_x)} valid pixels available.\")\n",
    "\n",
    "    rng = np.random.default_rng(seed)\n",
    "    sampled_indices = rng.choice(len(valid_x), size=n_samples, replace=False)\n",
    "\n",
    "    rows = valid_y[sampled_indices]\n",
    "    cols = valid_x[sampled_indices]\n",
    "\n",
    "    return rows, cols"
   ]
  },
  {
   "cell_type": "markdown",
   "id": "3be66338-173f-40e1-bf5f-67b9389650e1",
   "metadata": {},
   "source": [
    "Example"
   ]
  },
  {
   "cell_type": "code",
   "execution_count": null,
   "id": "c380e49a-ec6d-4382-8b19-74641c92d29e",
   "metadata": {},
   "outputs": [],
   "source": [
    "sampled_points = sample_pixels_from_mask(background_mask, n_samples=100, seed=42)"
   ]
  },
  {
   "cell_type": "markdown",
   "id": "f40b61c2-2446-476c-bf30-0fef68272f16",
   "metadata": {},
   "source": [
    "Save"
   ]
  },
  {
   "cell_type": "code",
   "execution_count": null,
   "id": "61107ec3-40df-4c51-89d1-81204dbbd339",
   "metadata": {},
   "outputs": [],
   "source": [
    "# sampled_points_gdf = ..."
   ]
  },
  {
   "cell_type": "code",
   "execution_count": null,
   "id": "a6a9de45-0eba-4fb1-94e7-b66ebe61586b",
   "metadata": {},
   "outputs": [],
   "source": [
    "# sampled_points_gdf.to_file(..."
   ]
  },
  {
   "cell_type": "markdown",
   "id": "0d16d6b6-e60a-4f2a-a483-c86da1860164",
   "metadata": {},
   "source": [
    "## Sample other points"
   ]
  },
  {
   "cell_type": "code",
   "execution_count": null,
   "id": "73299357-5ee4-493d-9d03-e08e4c2c325b",
   "metadata": {},
   "outputs": [],
   "source": [
    "def sample_point_pixels(gdf, coords_tree, n_samples, seed=None):\n",
    "    if n_samples > len(gdf):\n",
    "        raise ValueError(\"Requested more samples than available in gdf.\")\n",
    "    \n",
    "    rng = np.random.default_rng(seed)\n",
    "\n",
    "    # sample randomly\n",
    "    sampled_indices = rng.choice(len(gdf), size=n_samples, replace=False)\n",
    "\n",
    "    # find pixel locations\n",
    "    geoms = gdf.loc[sampled_indices, 'geometry']\n",
    "    _, pixel_locs = coords_tree.query(np.column_stack((geoms.values.x, geoms.values.y)))\n",
    "\n",
    "    return pixel_locs"
   ]
  },
  {
   "cell_type": "markdown",
   "id": "bd370e4a-41e6-4b01-a1c0-e3dd46b09290",
   "metadata": {},
   "source": [
    "Example"
   ]
  },
  {
   "cell_type": "code",
   "execution_count": null,
   "id": "63318cab-9890-4278-852b-a29dc1f2bc96",
   "metadata": {},
   "outputs": [],
   "source": [
    "hab_of_interest = ['Zostera beds', 'Kelp forests']"
   ]
  },
  {
   "cell_type": "code",
   "execution_count": null,
   "id": "e99fdad2-7c03-4a78-ac71-6287fa8eb869",
   "metadata": {},
   "outputs": [],
   "source": [
    "other_gdf = gdf[~gdf['HabType'].isin(hab_of_interest)]"
   ]
  },
  {
   "cell_type": "code",
   "execution_count": null,
   "id": "cee2788d-20a7-497e-a614-b81b063897f7",
   "metadata": {},
   "outputs": [],
   "source": [
    "tile_gdf = other_gdf[other_gdf['tileId'] == tileId]"
   ]
  },
  {
   "cell_type": "code",
   "execution_count": null,
   "id": "d3ed204c-a60e-46db-a4c6-3445367453a5",
   "metadata": {},
   "outputs": [],
   "source": [
    "subtile_gdf = tile_gdf[tile_gdf['subtile_index'] == subtile_idx]"
   ]
  },
  {
   "cell_type": "code",
   "execution_count": null,
   "id": "44897482-bdce-4db2-9483-736f1e1449d2",
   "metadata": {},
   "outputs": [],
   "source": [
    "latitudes = template_da['lat'].values.ravel()\n",
    "longitudes = template_da['lon'].values.ravel()\n",
    "\n",
    "coords_tree = cKDTree(np.column_stack((latitudes, longitudes)))\n",
    "\n",
    "other_samples = sample_point_pixels(subtile_gdf, coords_tree, 100, seed=42)"
   ]
  },
  {
   "cell_type": "code",
   "execution_count": null,
   "id": "b6819815-0d0a-47ef-b1fe-3a99d8498dd9",
   "metadata": {},
   "outputs": [],
   "source": [
    "# for tileId in ...\n",
    "# for subtile_idx in ..."
   ]
  },
  {
   "cell_type": "markdown",
   "id": "30f5dfbc-bf9a-4ae3-bacf-de812f26a65c",
   "metadata": {},
   "source": [
    "## Loop over tiles and subtiles"
   ]
  },
  {
   "cell_type": "code",
   "execution_count": null,
   "id": "e7ce1808-fea9-4fef-b858-24e620514f25",
   "metadata": {},
   "outputs": [],
   "source": [
    "for tileId in tiles_wkt_dict:\n",
    "    idepix_df = os.path.join(DATA_DIR, f's2_processed/{tileId}/idepix-{tileId}.nc')\n",
    "    idepix_ds = xr.open_dataset(idepix_df)\n",
    "    coastal_buffer_da = idepix_coastal_buffer(idepix_ds).astype(bool)\n",
    "\n",
    "    tile_habitats_gdf = habitats_gdf[habitats_gdf['utm_tile'] == tileId]\n",
    "\n",
    "    "
   ]
  }
 ],
 "metadata": {
  "kernelspec": {
   "display_name": "Python 3 (ipykernel)",
   "language": "python",
   "name": "python3"
  },
  "language_info": {
   "codemirror_mode": {
    "name": "ipython",
    "version": 3
   },
   "file_extension": ".py",
   "mimetype": "text/x-python",
   "name": "python",
   "nbconvert_exporter": "python",
   "pygments_lexer": "ipython3",
   "version": "3.12.9"
  }
 },
 "nbformat": 4,
 "nbformat_minor": 5
}
