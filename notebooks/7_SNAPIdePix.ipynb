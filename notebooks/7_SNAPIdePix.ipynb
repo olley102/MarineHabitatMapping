{
 "cells": [
  {
   "cell_type": "markdown",
   "id": "fd00fd55-7a4e-4a98-b692-7720bb1a6ca6",
   "metadata": {},
   "source": [
    "# SNAP IdePix\n",
    "\n",
    "IdePix will be used to produce a land/water mask for S2 images. The `subprocess` package allows SNAP to be accessed via CLI."
   ]
  },
  {
   "cell_type": "markdown",
   "id": "4351b338-d0cf-4d05-b89e-d2eed0fb3b0e",
   "metadata": {},
   "source": [
    "## Setup"
   ]
  },
  {
   "cell_type": "code",
   "execution_count": 95,
   "id": "9330aac6-5b90-4e24-8221-9e63fdc55692",
   "metadata": {},
   "outputs": [],
   "source": [
    "import os\n",
    "import numpy as np\n",
    "import pandas as pd"
   ]
  },
  {
   "cell_type": "code",
   "execution_count": 96,
   "id": "a39df272-1f58-41b0-886b-bf87711432fe",
   "metadata": {},
   "outputs": [],
   "source": [
    "import matplotlib.pyplot as plt"
   ]
  },
  {
   "cell_type": "code",
   "execution_count": 97,
   "id": "1709dd23-6258-4e01-a307-c9677835d0c6",
   "metadata": {},
   "outputs": [],
   "source": [
    "import json"
   ]
  },
  {
   "cell_type": "code",
   "execution_count": 98,
   "id": "ccd1dd68-b41c-4309-a6c5-6b60f7bfed10",
   "metadata": {},
   "outputs": [],
   "source": [
    "import geopandas as gpd"
   ]
  },
  {
   "cell_type": "code",
   "execution_count": 131,
   "id": "fd3ee468-6c93-466b-bc6b-500e55eb5c62",
   "metadata": {},
   "outputs": [],
   "source": [
    "from shapely.geometry import box"
   ]
  },
  {
   "cell_type": "code",
   "execution_count": 100,
   "id": "544c4c65-e92a-47ca-8b1c-cd1a54d7bc65",
   "metadata": {},
   "outputs": [],
   "source": [
    "from pathlib import Path"
   ]
  },
  {
   "cell_type": "code",
   "execution_count": 101,
   "id": "3bd721dd-c9ad-42f9-b635-a48797826048",
   "metadata": {},
   "outputs": [],
   "source": [
    "import subprocess"
   ]
  },
  {
   "cell_type": "code",
   "execution_count": 102,
   "id": "0173ef37-0df0-4629-bd11-a47d591ac7b3",
   "metadata": {},
   "outputs": [],
   "source": [
    "DATA_DIR = '../data/'\n",
    "FIGURES_DIR = '../saved_figures/'\n",
    "GRAPHS_DIR = '../graphs/'"
   ]
  },
  {
   "cell_type": "code",
   "execution_count": 161,
   "id": "c9eb917c-fe54-4a0c-9470-bd61eb9cf8e3",
   "metadata": {},
   "outputs": [],
   "source": [
    "with open(os.path.join(GRAPHS_DIR, 's2_subset.xml'), 'r') as f:\n",
    "    subset_template = f.read()"
   ]
  },
  {
   "cell_type": "code",
   "execution_count": 158,
   "id": "4d697087-0ca9-4eb8-b36d-04eaad7253b3",
   "metadata": {},
   "outputs": [],
   "source": [
    "with open(os.path.join(GRAPHS_DIR, 'idepix_landwater.xml'), 'r') as f:\n",
    "    idepix_template = f.read()"
   ]
  },
  {
   "cell_type": "code",
   "execution_count": 159,
   "id": "896d28ba-66c4-43ab-a08f-83f9ed15e240",
   "metadata": {},
   "outputs": [],
   "source": [
    "with open(os.path.join(DATA_DIR, 'tile_buffer_wkt.json'), 'r') as f:\n",
    "    tiles_wkt_dict = json.load(f)"
   ]
  },
  {
   "cell_type": "markdown",
   "id": "deb5dd0b-849c-4128-ac98-5dfcedbecd11",
   "metadata": {},
   "source": [
    "## Functions to interact with SNAP"
   ]
  },
  {
   "cell_type": "code",
   "execution_count": 153,
   "id": "3a74d39b-6c9d-45aa-b66f-870bf6dee81e",
   "metadata": {},
   "outputs": [],
   "source": [
    "def run_snap_gpt(graph_path, output_log=\"gpt_output.log\", memory=\"4G\"):\n",
    "    gpt_executable = str(Path.home() / \"esa-snap\" / \"bin\" / \"gpt\")\n",
    "\n",
    "    cmd = [gpt_executable, graph_path, \"-c\", memory]\n",
    "\n",
    "    try:\n",
    "        with open(output_log, 'w') as log_file:\n",
    "            process = subprocess.run(cmd, stdout=log_file, stderr=subprocess.STDOUT, check=True)\n",
    "        print(f\"SNAP processing complete. Output logged to {output_log}\")\n",
    "    except subprocess.CalledProcessError as e:\n",
    "        print(f\"Error: SNAP GPT failed. See log: {output_log}\")\n",
    "        raise"
   ]
  },
  {
   "cell_type": "code",
   "execution_count": 154,
   "id": "d05210bb-77a8-4cf0-955a-aec3a21ec417",
   "metadata": {},
   "outputs": [],
   "source": [
    "def create_graph_file(template, output_path=\"graph.xml\", **kwargs):\n",
    "    content = template.format(**kwargs)\n",
    "    with open(output_path, \"w\") as f:\n",
    "        f.write(content)\n",
    "    return output_path"
   ]
  },
  {
   "cell_type": "code",
   "execution_count": 155,
   "id": "e970363b-95c5-426c-bb96-baaaefde65ef",
   "metadata": {},
   "outputs": [],
   "source": [
    "def total_bounds_to_wkt(gdf):\n",
    "    minx, miny, maxx, maxy = gdf.total_bounds\n",
    "    bbox_geom = box(minx, miny, maxx, maxy)\n",
    "    return bbox_geom.wkt"
   ]
  },
  {
   "cell_type": "markdown",
   "id": "0a901d03-7ce3-469c-b5ce-840f3b46cc19",
   "metadata": {},
   "source": [
    "## Processing workflow - broken"
   ]
  },
  {
   "cell_type": "code",
   "execution_count": 140,
   "id": "8a46265d-066b-44f5-9bbb-536d22f2ab5d",
   "metadata": {},
   "outputs": [],
   "source": [
    "download_dir = os.path.join(DATA_DIR, \"s2_downloads\")"
   ]
  },
  {
   "cell_type": "code",
   "execution_count": 141,
   "id": "7d798f50-22fd-4a47-bf31-fe74807f9c81",
   "metadata": {},
   "outputs": [],
   "source": [
    "results_dir = os.path.join(DATA_DIR, \"s2_processed\")"
   ]
  },
  {
   "cell_type": "code",
   "execution_count": 142,
   "id": "b25c03d4-67a4-4477-95e8-55b95ed6fe77",
   "metadata": {},
   "outputs": [],
   "source": [
    "dir_content = os.listdir(download_dir)"
   ]
  },
  {
   "cell_type": "code",
   "execution_count": 162,
   "id": "3abb0b1b-a075-447b-9957-43b4d2b2e4f8",
   "metadata": {
    "scrolled": true
   },
   "outputs": [
    {
     "name": "stdout",
     "output_type": "stream",
     "text": [
      "[30VWL] Running subset graph...\n",
      "Error: SNAP GPT failed. See log: ../data/s2_processed/30VWL/log-subset-30VWL.log\n",
      "[30VWL] Error processing: Command '['/home/chanon/esa-snap/bin/gpt', 'graph.xml', '-c', '4G']' returned non-zero exit status 1.\n",
      "[32UNG] Running subset graph...\n"
     ]
    },
    {
     "ename": "KeyboardInterrupt",
     "evalue": "",
     "output_type": "error",
     "traceback": [
      "\u001b[0;31m---------------------------------------------------------------------------\u001b[0m",
      "\u001b[0;31mKeyboardInterrupt\u001b[0m                         Traceback (most recent call last)",
      "Cell \u001b[0;32mIn[162], line 29\u001b[0m\n\u001b[1;32m     24\u001b[0m     graph_path \u001b[38;5;241m=\u001b[39m create_graph_file(subset_template,\n\u001b[1;32m     25\u001b[0m                                    input_file\u001b[38;5;241m=\u001b[39msafe_fp,\n\u001b[1;32m     26\u001b[0m                                    output_file\u001b[38;5;241m=\u001b[39msubset_output_fp,\n\u001b[1;32m     27\u001b[0m                                    subset_region\u001b[38;5;241m=\u001b[39msubset_region)\n\u001b[1;32m     28\u001b[0m     output_log \u001b[38;5;241m=\u001b[39m os\u001b[38;5;241m.\u001b[39mpath\u001b[38;5;241m.\u001b[39mjoin(results_fp, \u001b[38;5;124mf\u001b[39m\u001b[38;5;124m'\u001b[39m\u001b[38;5;124mlog-subset-\u001b[39m\u001b[38;5;132;01m{\u001b[39;00mfn\u001b[38;5;132;01m}\u001b[39;00m\u001b[38;5;124m.log\u001b[39m\u001b[38;5;124m'\u001b[39m)\n\u001b[0;32m---> 29\u001b[0m     \u001b[43mrun_snap_gpt\u001b[49m\u001b[43m(\u001b[49m\u001b[43mgraph_path\u001b[49m\u001b[43m,\u001b[49m\u001b[43m \u001b[49m\u001b[43moutput_log\u001b[49m\u001b[43m)\u001b[49m\n\u001b[1;32m     31\u001b[0m     \u001b[38;5;66;03m# # Run IdePix process\u001b[39;00m\n\u001b[1;32m     32\u001b[0m     \u001b[38;5;66;03m# print(f\"[{fn}] Running Idepix...\")\u001b[39;00m\n\u001b[1;32m     33\u001b[0m     \n\u001b[0;32m   (...)\u001b[0m\n\u001b[1;32m     38\u001b[0m     \u001b[38;5;66;03m# output_log = os.path.join(results_fp, f'log-idepix-{fn}.log')\u001b[39;00m\n\u001b[1;32m     39\u001b[0m     \u001b[38;5;66;03m# run_snap_gpt(graph_path, output_log)\u001b[39;00m\n\u001b[1;32m     41\u001b[0m \u001b[38;5;28;01mexcept\u001b[39;00m \u001b[38;5;167;01mException\u001b[39;00m \u001b[38;5;28;01mas\u001b[39;00m e:\n",
      "Cell \u001b[0;32mIn[153], line 8\u001b[0m, in \u001b[0;36mrun_snap_gpt\u001b[0;34m(graph_path, output_log, memory)\u001b[0m\n\u001b[1;32m      6\u001b[0m \u001b[38;5;28;01mtry\u001b[39;00m:\n\u001b[1;32m      7\u001b[0m     \u001b[38;5;28;01mwith\u001b[39;00m \u001b[38;5;28mopen\u001b[39m(output_log, \u001b[38;5;124m'\u001b[39m\u001b[38;5;124mw\u001b[39m\u001b[38;5;124m'\u001b[39m) \u001b[38;5;28;01mas\u001b[39;00m log_file:\n\u001b[0;32m----> 8\u001b[0m         process \u001b[38;5;241m=\u001b[39m \u001b[43msubprocess\u001b[49m\u001b[38;5;241;43m.\u001b[39;49m\u001b[43mrun\u001b[49m\u001b[43m(\u001b[49m\u001b[43mcmd\u001b[49m\u001b[43m,\u001b[49m\u001b[43m \u001b[49m\u001b[43mstdout\u001b[49m\u001b[38;5;241;43m=\u001b[39;49m\u001b[43mlog_file\u001b[49m\u001b[43m,\u001b[49m\u001b[43m \u001b[49m\u001b[43mstderr\u001b[49m\u001b[38;5;241;43m=\u001b[39;49m\u001b[43msubprocess\u001b[49m\u001b[38;5;241;43m.\u001b[39;49m\u001b[43mSTDOUT\u001b[49m\u001b[43m,\u001b[49m\u001b[43m \u001b[49m\u001b[43mcheck\u001b[49m\u001b[38;5;241;43m=\u001b[39;49m\u001b[38;5;28;43;01mTrue\u001b[39;49;00m\u001b[43m)\u001b[49m\n\u001b[1;32m      9\u001b[0m     \u001b[38;5;28mprint\u001b[39m(\u001b[38;5;124mf\u001b[39m\u001b[38;5;124m\"\u001b[39m\u001b[38;5;124mSNAP processing complete. Output logged to \u001b[39m\u001b[38;5;132;01m{\u001b[39;00moutput_log\u001b[38;5;132;01m}\u001b[39;00m\u001b[38;5;124m\"\u001b[39m)\n\u001b[1;32m     10\u001b[0m \u001b[38;5;28;01mexcept\u001b[39;00m subprocess\u001b[38;5;241m.\u001b[39mCalledProcessError \u001b[38;5;28;01mas\u001b[39;00m e:\n",
      "File \u001b[0;32m~/miniconda3/envs/geomlenv/lib/python3.10/subprocess.py:505\u001b[0m, in \u001b[0;36mrun\u001b[0;34m(input, capture_output, timeout, check, *popenargs, **kwargs)\u001b[0m\n\u001b[1;32m    503\u001b[0m \u001b[38;5;28;01mwith\u001b[39;00m Popen(\u001b[38;5;241m*\u001b[39mpopenargs, \u001b[38;5;241m*\u001b[39m\u001b[38;5;241m*\u001b[39mkwargs) \u001b[38;5;28;01mas\u001b[39;00m process:\n\u001b[1;32m    504\u001b[0m     \u001b[38;5;28;01mtry\u001b[39;00m:\n\u001b[0;32m--> 505\u001b[0m         stdout, stderr \u001b[38;5;241m=\u001b[39m \u001b[43mprocess\u001b[49m\u001b[38;5;241;43m.\u001b[39;49m\u001b[43mcommunicate\u001b[49m\u001b[43m(\u001b[49m\u001b[38;5;28;43minput\u001b[39;49m\u001b[43m,\u001b[49m\u001b[43m \u001b[49m\u001b[43mtimeout\u001b[49m\u001b[38;5;241;43m=\u001b[39;49m\u001b[43mtimeout\u001b[49m\u001b[43m)\u001b[49m\n\u001b[1;32m    506\u001b[0m     \u001b[38;5;28;01mexcept\u001b[39;00m TimeoutExpired \u001b[38;5;28;01mas\u001b[39;00m exc:\n\u001b[1;32m    507\u001b[0m         process\u001b[38;5;241m.\u001b[39mkill()\n",
      "File \u001b[0;32m~/miniconda3/envs/geomlenv/lib/python3.10/subprocess.py:1146\u001b[0m, in \u001b[0;36mPopen.communicate\u001b[0;34m(self, input, timeout)\u001b[0m\n\u001b[1;32m   1144\u001b[0m         stderr \u001b[38;5;241m=\u001b[39m \u001b[38;5;28mself\u001b[39m\u001b[38;5;241m.\u001b[39mstderr\u001b[38;5;241m.\u001b[39mread()\n\u001b[1;32m   1145\u001b[0m         \u001b[38;5;28mself\u001b[39m\u001b[38;5;241m.\u001b[39mstderr\u001b[38;5;241m.\u001b[39mclose()\n\u001b[0;32m-> 1146\u001b[0m     \u001b[38;5;28;43mself\u001b[39;49m\u001b[38;5;241;43m.\u001b[39;49m\u001b[43mwait\u001b[49m\u001b[43m(\u001b[49m\u001b[43m)\u001b[49m\n\u001b[1;32m   1147\u001b[0m \u001b[38;5;28;01melse\u001b[39;00m:\n\u001b[1;32m   1148\u001b[0m     \u001b[38;5;28;01mif\u001b[39;00m timeout \u001b[38;5;129;01mis\u001b[39;00m \u001b[38;5;129;01mnot\u001b[39;00m \u001b[38;5;28;01mNone\u001b[39;00m:\n",
      "File \u001b[0;32m~/miniconda3/envs/geomlenv/lib/python3.10/subprocess.py:1209\u001b[0m, in \u001b[0;36mPopen.wait\u001b[0;34m(self, timeout)\u001b[0m\n\u001b[1;32m   1207\u001b[0m     endtime \u001b[38;5;241m=\u001b[39m _time() \u001b[38;5;241m+\u001b[39m timeout\n\u001b[1;32m   1208\u001b[0m \u001b[38;5;28;01mtry\u001b[39;00m:\n\u001b[0;32m-> 1209\u001b[0m     \u001b[38;5;28;01mreturn\u001b[39;00m \u001b[38;5;28;43mself\u001b[39;49m\u001b[38;5;241;43m.\u001b[39;49m\u001b[43m_wait\u001b[49m\u001b[43m(\u001b[49m\u001b[43mtimeout\u001b[49m\u001b[38;5;241;43m=\u001b[39;49m\u001b[43mtimeout\u001b[49m\u001b[43m)\u001b[49m\n\u001b[1;32m   1210\u001b[0m \u001b[38;5;28;01mexcept\u001b[39;00m \u001b[38;5;167;01mKeyboardInterrupt\u001b[39;00m:\n\u001b[1;32m   1211\u001b[0m     \u001b[38;5;66;03m# https://bugs.python.org/issue25942\u001b[39;00m\n\u001b[1;32m   1212\u001b[0m     \u001b[38;5;66;03m# The first keyboard interrupt waits briefly for the child to\u001b[39;00m\n\u001b[1;32m   1213\u001b[0m     \u001b[38;5;66;03m# exit under the common assumption that it also received the ^C\u001b[39;00m\n\u001b[1;32m   1214\u001b[0m     \u001b[38;5;66;03m# generated SIGINT and will exit rapidly.\u001b[39;00m\n\u001b[1;32m   1215\u001b[0m     \u001b[38;5;28;01mif\u001b[39;00m timeout \u001b[38;5;129;01mis\u001b[39;00m \u001b[38;5;129;01mnot\u001b[39;00m \u001b[38;5;28;01mNone\u001b[39;00m:\n",
      "File \u001b[0;32m~/miniconda3/envs/geomlenv/lib/python3.10/subprocess.py:1959\u001b[0m, in \u001b[0;36mPopen._wait\u001b[0;34m(self, timeout)\u001b[0m\n\u001b[1;32m   1957\u001b[0m \u001b[38;5;28;01mif\u001b[39;00m \u001b[38;5;28mself\u001b[39m\u001b[38;5;241m.\u001b[39mreturncode \u001b[38;5;129;01mis\u001b[39;00m \u001b[38;5;129;01mnot\u001b[39;00m \u001b[38;5;28;01mNone\u001b[39;00m:\n\u001b[1;32m   1958\u001b[0m     \u001b[38;5;28;01mbreak\u001b[39;00m  \u001b[38;5;66;03m# Another thread waited.\u001b[39;00m\n\u001b[0;32m-> 1959\u001b[0m (pid, sts) \u001b[38;5;241m=\u001b[39m \u001b[38;5;28;43mself\u001b[39;49m\u001b[38;5;241;43m.\u001b[39;49m\u001b[43m_try_wait\u001b[49m\u001b[43m(\u001b[49m\u001b[38;5;241;43m0\u001b[39;49m\u001b[43m)\u001b[49m\n\u001b[1;32m   1960\u001b[0m \u001b[38;5;66;03m# Check the pid and loop as waitpid has been known to\u001b[39;00m\n\u001b[1;32m   1961\u001b[0m \u001b[38;5;66;03m# return 0 even without WNOHANG in odd situations.\u001b[39;00m\n\u001b[1;32m   1962\u001b[0m \u001b[38;5;66;03m# http://bugs.python.org/issue14396.\u001b[39;00m\n\u001b[1;32m   1963\u001b[0m \u001b[38;5;28;01mif\u001b[39;00m pid \u001b[38;5;241m==\u001b[39m \u001b[38;5;28mself\u001b[39m\u001b[38;5;241m.\u001b[39mpid:\n",
      "File \u001b[0;32m~/miniconda3/envs/geomlenv/lib/python3.10/subprocess.py:1917\u001b[0m, in \u001b[0;36mPopen._try_wait\u001b[0;34m(self, wait_flags)\u001b[0m\n\u001b[1;32m   1915\u001b[0m \u001b[38;5;250m\u001b[39m\u001b[38;5;124;03m\"\"\"All callers to this function MUST hold self._waitpid_lock.\"\"\"\u001b[39;00m\n\u001b[1;32m   1916\u001b[0m \u001b[38;5;28;01mtry\u001b[39;00m:\n\u001b[0;32m-> 1917\u001b[0m     (pid, sts) \u001b[38;5;241m=\u001b[39m \u001b[43mos\u001b[49m\u001b[38;5;241;43m.\u001b[39;49m\u001b[43mwaitpid\u001b[49m\u001b[43m(\u001b[49m\u001b[38;5;28;43mself\u001b[39;49m\u001b[38;5;241;43m.\u001b[39;49m\u001b[43mpid\u001b[49m\u001b[43m,\u001b[49m\u001b[43m \u001b[49m\u001b[43mwait_flags\u001b[49m\u001b[43m)\u001b[49m\n\u001b[1;32m   1918\u001b[0m \u001b[38;5;28;01mexcept\u001b[39;00m \u001b[38;5;167;01mChildProcessError\u001b[39;00m:\n\u001b[1;32m   1919\u001b[0m     \u001b[38;5;66;03m# This happens if SIGCLD is set to be ignored or waiting\u001b[39;00m\n\u001b[1;32m   1920\u001b[0m     \u001b[38;5;66;03m# for child processes has otherwise been disabled for our\u001b[39;00m\n\u001b[1;32m   1921\u001b[0m     \u001b[38;5;66;03m# process.  This child is dead, we can't get the status.\u001b[39;00m\n\u001b[1;32m   1922\u001b[0m     pid \u001b[38;5;241m=\u001b[39m \u001b[38;5;28mself\u001b[39m\u001b[38;5;241m.\u001b[39mpid\n",
      "\u001b[0;31mKeyboardInterrupt\u001b[0m: "
     ]
    }
   ],
   "source": [
    "for fn in dir_content:\n",
    "    fp = os.path.join(download_dir, fn)  # fn is a tileId\n",
    "\n",
    "    if os.path.isdir(fp):\n",
    "        # Processing results directory\n",
    "        results_fp = os.path.join(results_dir, fn)\n",
    "        os.makedirs(results_fp, exist_ok=True)\n",
    "        \n",
    "        safe_dirs = [x for x in os.listdir(fp) if x.endswith('.SAFE')]\n",
    "        if len(safe_dirs) != 1:  # explicit check, should be only one SAFE file\n",
    "            raise ValueError(f\"Expected exactly one .SAFE file in {fp}, found {len(safe_dirs)}\")\n",
    "        safe_fn = safe_dirs[0]\n",
    "        safe_fp = os.path.join(fp, safe_fn)\n",
    "\n",
    "        # Get subset region\n",
    "        gdf = gpd.GeoDataFrame(geometry=gpd.GeoSeries.from_wkt(tiles_wkt_dict[fn]), crs=\"EPSG:4326\")\n",
    "        subset_region = total_bounds_to_wkt(gdf)\n",
    "        \n",
    "        try:\n",
    "            # Run subset process\n",
    "            print(f\"[{fn}] Running subset graph...\")\n",
    "            \n",
    "            subset_output_fp = os.path.join(results_fp, f'subset-{fn}.nc')\n",
    "            graph_path = create_graph_file(subset_template,\n",
    "                                           input_file=safe_fp,\n",
    "                                           output_file=subset_output_fp,\n",
    "                                           subset_region=subset_region)\n",
    "            output_log = os.path.join(results_fp, f'log-subset-{fn}.log')\n",
    "            run_snap_gpt(graph_path, output_log)\n",
    "            \n",
    "            # # Run IdePix process\n",
    "            # print(f\"[{fn}] Running Idepix...\")\n",
    "            \n",
    "            # idepix_output_fp = os.path.join(results_fp, f'idepix-{fn}.nc')\n",
    "            # graph_path = create_graph_file(idepix_template,\n",
    "            #                                input_file=subset_output_fp,\n",
    "            #                                output_file=idepix_output_fp)\n",
    "            # output_log = os.path.join(results_fp, f'log-idepix-{fn}.log')\n",
    "            # run_snap_gpt(graph_path, output_log)\n",
    "\n",
    "        except Exception as e:\n",
    "            print(f\"[{fn}] Error processing: {e}\")"
   ]
  },
  {
   "cell_type": "code",
   "execution_count": null,
   "id": "f27d3ceb-2b50-41aa-b4ee-b7457cccb6e5",
   "metadata": {},
   "outputs": [],
   "source": []
  }
 ],
 "metadata": {
  "kernelspec": {
   "display_name": "Python 3 (ipykernel)",
   "language": "python",
   "name": "python3"
  },
  "language_info": {
   "codemirror_mode": {
    "name": "ipython",
    "version": 3
   },
   "file_extension": ".py",
   "mimetype": "text/x-python",
   "name": "python",
   "nbconvert_exporter": "python",
   "pygments_lexer": "ipython3",
   "version": "3.10.16"
  }
 },
 "nbformat": 4,
 "nbformat_minor": 5
}
