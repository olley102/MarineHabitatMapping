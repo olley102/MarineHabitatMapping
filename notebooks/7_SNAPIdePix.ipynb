{
 "cells": [
  {
   "cell_type": "markdown",
   "id": "fd00fd55-7a4e-4a98-b692-7720bb1a6ca6",
   "metadata": {},
   "source": [
    "# SNAP IdePix\n",
    "\n",
    "IdePix will be used to produce a land/water mask for S2 images. The `subprocess` package allows SNAP to be accessed via CLI."
   ]
  },
  {
   "cell_type": "markdown",
   "id": "4351b338-d0cf-4d05-b89e-d2eed0fb3b0e",
   "metadata": {},
   "source": [
    "## Setup"
   ]
  },
  {
   "cell_type": "code",
   "execution_count": 1,
   "id": "9330aac6-5b90-4e24-8221-9e63fdc55692",
   "metadata": {},
   "outputs": [],
   "source": [
    "import os\n",
    "import numpy as np\n",
    "import pandas as pd"
   ]
  },
  {
   "cell_type": "code",
   "execution_count": 2,
   "id": "a39df272-1f58-41b0-886b-bf87711432fe",
   "metadata": {},
   "outputs": [],
   "source": [
    "import matplotlib.pyplot as plt"
   ]
  },
  {
   "cell_type": "code",
   "execution_count": 3,
   "id": "1709dd23-6258-4e01-a307-c9677835d0c6",
   "metadata": {},
   "outputs": [],
   "source": [
    "import json"
   ]
  },
  {
   "cell_type": "code",
   "execution_count": 4,
   "id": "ccd1dd68-b41c-4309-a6c5-6b60f7bfed10",
   "metadata": {},
   "outputs": [],
   "source": [
    "import geopandas as gpd"
   ]
  },
  {
   "cell_type": "code",
   "execution_count": 5,
   "id": "fd3ee468-6c93-466b-bc6b-500e55eb5c62",
   "metadata": {},
   "outputs": [],
   "source": [
    "from shapely.geometry import box"
   ]
  },
  {
   "cell_type": "code",
   "execution_count": 6,
   "id": "544c4c65-e92a-47ca-8b1c-cd1a54d7bc65",
   "metadata": {},
   "outputs": [],
   "source": [
    "from pathlib import Path"
   ]
  },
  {
   "cell_type": "code",
   "execution_count": 7,
   "id": "3bd721dd-c9ad-42f9-b635-a48797826048",
   "metadata": {},
   "outputs": [],
   "source": [
    "import subprocess"
   ]
  },
  {
   "cell_type": "code",
   "execution_count": 8,
   "id": "0173ef37-0df0-4629-bd11-a47d591ac7b3",
   "metadata": {},
   "outputs": [],
   "source": [
    "DATA_DIR = '../data/'\n",
    "FIGURES_DIR = '../saved_figures/'\n",
    "GRAPHS_DIR = '../graphs/'"
   ]
  },
  {
   "cell_type": "code",
   "execution_count": 9,
   "id": "c9eb917c-fe54-4a0c-9470-bd61eb9cf8e3",
   "metadata": {},
   "outputs": [],
   "source": [
    "with open(os.path.join(GRAPHS_DIR, 's2_subset.xml'), 'r') as f:\n",
    "    subset_template = f.read()"
   ]
  },
  {
   "cell_type": "code",
   "execution_count": 10,
   "id": "4d697087-0ca9-4eb8-b36d-04eaad7253b3",
   "metadata": {},
   "outputs": [],
   "source": [
    "with open(os.path.join(GRAPHS_DIR, 'idepix_landwater.xml'), 'r') as f:\n",
    "    idepix_template = f.read()"
   ]
  },
  {
   "cell_type": "code",
   "execution_count": 11,
   "id": "896d28ba-66c4-43ab-a08f-83f9ed15e240",
   "metadata": {},
   "outputs": [],
   "source": [
    "with open(os.path.join(DATA_DIR, 'tile_buffer_wkt.json'), 'r') as f:\n",
    "    tiles_wkt_dict = json.load(f)"
   ]
  },
  {
   "cell_type": "markdown",
   "id": "deb5dd0b-849c-4128-ac98-5dfcedbecd11",
   "metadata": {},
   "source": [
    "## Functions to interact with SNAP"
   ]
  },
  {
   "cell_type": "code",
   "execution_count": 12,
   "id": "3a74d39b-6c9d-45aa-b66f-870bf6dee81e",
   "metadata": {},
   "outputs": [],
   "source": [
    "def run_snap_gpt(graph_path, output_log=\"gpt_output.log\", memory=\"6G\"):\n",
    "    gpt_executable = str(Path.home() / \"esa-snap\" / \"bin\" / \"gpt\")\n",
    "\n",
    "    cmd = [gpt_executable, graph_path, \"-c\", memory]\n",
    "\n",
    "    try:\n",
    "        with open(output_log, 'w') as log_file:\n",
    "            process = subprocess.run(cmd, stdout=log_file, stderr=subprocess.STDOUT, check=True)\n",
    "        print(f\"SNAP processing complete. Output logged to {output_log}\")\n",
    "    except subprocess.CalledProcessError as e:\n",
    "        print(f\"Error: SNAP GPT failed. See log: {output_log}\")\n",
    "        raise"
   ]
  },
  {
   "cell_type": "code",
   "execution_count": 13,
   "id": "d05210bb-77a8-4cf0-955a-aec3a21ec417",
   "metadata": {},
   "outputs": [],
   "source": [
    "def create_graph_file(template, output_path=\"graph.xml\", **kwargs):\n",
    "    content = template.format(**kwargs)\n",
    "    with open(output_path, \"w\") as f:\n",
    "        f.write(content)\n",
    "    return output_path"
   ]
  },
  {
   "cell_type": "code",
   "execution_count": 14,
   "id": "e970363b-95c5-426c-bb96-baaaefde65ef",
   "metadata": {},
   "outputs": [],
   "source": [
    "def total_bounds_to_wkt(gdf):\n",
    "    minx, miny, maxx, maxy = gdf.total_bounds\n",
    "    bbox_geom = box(minx, miny, maxx, maxy)\n",
    "    return bbox_geom.wkt"
   ]
  },
  {
   "cell_type": "markdown",
   "id": "0a901d03-7ce3-469c-b5ce-840f3b46cc19",
   "metadata": {},
   "source": [
    "## Processing workflow"
   ]
  },
  {
   "cell_type": "code",
   "execution_count": 15,
   "id": "8a46265d-066b-44f5-9bbb-536d22f2ab5d",
   "metadata": {},
   "outputs": [],
   "source": [
    "download_dir = os.path.join(DATA_DIR, \"s2_downloads\")"
   ]
  },
  {
   "cell_type": "code",
   "execution_count": 16,
   "id": "7d798f50-22fd-4a47-bf31-fe74807f9c81",
   "metadata": {},
   "outputs": [],
   "source": [
    "results_dir = os.path.join(DATA_DIR, \"s2_processed\")"
   ]
  },
  {
   "cell_type": "code",
   "execution_count": 17,
   "id": "b25c03d4-67a4-4477-95e8-55b95ed6fe77",
   "metadata": {},
   "outputs": [],
   "source": [
    "dir_content = os.listdir(download_dir)"
   ]
  },
  {
   "cell_type": "code",
   "execution_count": null,
   "id": "3abb0b1b-a075-447b-9957-43b4d2b2e4f8",
   "metadata": {
    "scrolled": true
   },
   "outputs": [
    {
     "name": "stdout",
     "output_type": "stream",
     "text": [
      "[30VWL] Running subset graph...\n",
      "Skipping subset graph. Result already exists.\n",
      "[30VWL] Running Idepix...\n",
      "Skipping Idepix graph. Result already exists.\n",
      "[32UNG] Running subset graph...\n",
      "Skipping subset graph. Result already exists.\n",
      "[32UNG] Running Idepix...\n",
      "Skipping Idepix graph. Result already exists.\n",
      "[30UUA] Running subset graph...\n",
      "Skipping subset graph. Result already exists.\n",
      "[30UUA] Running Idepix...\n",
      "Skipping Idepix graph. Result already exists.\n",
      "[32UPF] Running subset graph...\n",
      "Skipping subset graph. Result already exists.\n",
      "[32UPF] Running Idepix...\n",
      "Skipping Idepix graph. Result already exists.\n",
      "[30UUF] Running subset graph...\n",
      "Skipping subset graph. Result already exists.\n",
      "[30UUF] Running Idepix...\n",
      "Skipping Idepix graph. Result already exists.\n",
      "[30UUD] Running subset graph...\n",
      "Skipping subset graph. Result already exists.\n",
      "[30UUD] Running Idepix...\n",
      "Skipping Idepix graph. Result already exists.\n",
      "[32UPG] Running subset graph...\n",
      "Skipping subset graph. Result already exists.\n",
      "[32UPG] Running Idepix...\n",
      "Skipping Idepix graph. Result already exists.\n",
      "[32UMF] Running subset graph...\n",
      "Skipping subset graph. Result already exists.\n",
      "[32UMF] Running Idepix...\n",
      "Skipping Idepix graph. Result already exists.\n",
      "[30UWB] Running subset graph...\n",
      "Skipping subset graph. Result already exists.\n",
      "[30UWB] Running Idepix...\n",
      "Skipping Idepix graph. Result already exists.\n",
      "[30VUH] Running subset graph...\n",
      "Error: SNAP GPT failed. See log: ../data/s2_processed/30VUH/log-subset-30VUH.log\n",
      "[30VUH] Error processing: Command '['/home/chanon/esa-snap/bin/gpt', 'graph.xml', '-c', '6G']' returned non-zero exit status 1.\n",
      "[30VVL] Running subset graph...\n",
      "Skipping subset graph. Result already exists.\n",
      "[30VVL] Running Idepix...\n",
      "Skipping Idepix graph. Result already exists.\n",
      "[30UVC] Running subset graph...\n",
      "Skipping subset graph. Result already exists.\n",
      "[30UVC] Running Idepix...\n",
      "Skipping Idepix graph. Result already exists.\n",
      "[30UVE] Running subset graph...\n",
      "Skipping subset graph. Result already exists.\n",
      "[30UVE] Running Idepix...\n",
      "Skipping Idepix graph. Result already exists.\n",
      "[30VUJ] Running subset graph...\n",
      "Error: SNAP GPT failed. See log: ../data/s2_processed/30VUJ/log-subset-30VUJ.log\n",
      "[30VUJ] Error processing: Command '['/home/chanon/esa-snap/bin/gpt', 'graph.xml', '-c', '6G']' returned non-zero exit status 1.\n",
      "[32VPK] Running subset graph...\n",
      "Skipping subset graph. Result already exists.\n",
      "[32VPK] Running Idepix...\n",
      "Skipping Idepix graph. Result already exists.\n",
      "[30VUK] Running subset graph...\n",
      "Skipping subset graph. Result already exists.\n",
      "[30VUK] Running Idepix...\n",
      "Skipping Idepix graph. Result already exists.\n",
      "[30VVK] Running subset graph...\n",
      "Skipping subset graph. Result already exists.\n",
      "[30VVK] Running Idepix...\n",
      "Skipping Idepix graph. Result already exists.\n",
      "[29UPB] Running subset graph...\n",
      "Skipping subset graph. Result already exists.\n",
      "[29UPB] Running Idepix...\n",
      "Skipping Idepix graph. Result already exists.\n",
      "[29VPD] Running subset graph...\n",
      "Error: SNAP GPT failed. See log: ../data/s2_processed/29VPD/log-subset-29VPD.log\n",
      "[29VPD] Error processing: Command '['/home/chanon/esa-snap/bin/gpt', 'graph.xml', '-c', '6G']' returned non-zero exit status 1.\n",
      "[30UUC] Running subset graph...\n",
      "Skipping subset graph. Result already exists.\n",
      "[30UUC] Running Idepix...\n",
      "Skipping Idepix graph. Result already exists.\n",
      "[30UUG] Running subset graph...\n",
      "Skipping subset graph. Result already exists.\n",
      "[30UUG] Running Idepix...\n",
      "Skipping Idepix graph. Result already exists.\n",
      "[30UVF] Running subset graph...\n",
      "Skipping subset graph. Result already exists.\n",
      "[30UVF] Running Idepix...\n",
      "Skipping Idepix graph. Result already exists.\n",
      "[29VPC] Running subset graph...\n",
      "Error: SNAP GPT failed. See log: ../data/s2_processed/29VPC/log-subset-29VPC.log\n",
      "[29VPC] Error processing: Command '['/home/chanon/esa-snap/bin/gpt', 'graph.xml', '-c', '6G']' returned non-zero exit status 1.\n",
      "[30UVA] Running subset graph...\n",
      "Skipping subset graph. Result already exists.\n",
      "[30UVA] Running Idepix...\n",
      "Skipping Idepix graph. Result already exists.\n",
      "[29VPE] Running subset graph...\n",
      "Error: SNAP GPT failed. See log: ../data/s2_processed/29VPE/log-subset-29VPE.log\n",
      "[29VPE] Error processing: Command '['/home/chanon/esa-snap/bin/gpt', 'graph.xml', '-c', '6G']' returned non-zero exit status 1.\n",
      "[30UXA] Running subset graph...\n"
     ]
    }
   ],
   "source": [
    "for fn in dir_content:\n",
    "    fp = os.path.join(download_dir, fn)  # fn is a tileId\n",
    "\n",
    "    if fn != '.ipynb_checkpoints' and os.path.isdir(fp):\n",
    "        # Processing results directory\n",
    "        results_fp = os.path.join(results_dir, fn)\n",
    "        os.makedirs(results_fp, exist_ok=True)\n",
    "        \n",
    "        safe_dirs = [x for x in os.listdir(fp) if x.endswith('.SAFE')]\n",
    "        if len(safe_dirs) != 1:  # explicit check, should be only one SAFE file\n",
    "            raise ValueError(f\"Expected exactly one .SAFE file in {fp}, found {len(safe_dirs)}\")\n",
    "        safe_fn = safe_dirs[0]\n",
    "        safe_fp = os.path.join(fp, safe_fn)\n",
    "\n",
    "        # Get subset region\n",
    "        gdf = gpd.GeoDataFrame(geometry=gpd.GeoSeries.from_wkt(tiles_wkt_dict[fn]), crs=\"EPSG:4326\")\n",
    "        subset_region = total_bounds_to_wkt(gdf)\n",
    "        \n",
    "        try:\n",
    "            # Run subset process\n",
    "            print(f\"[{fn}] Running subset graph...\")\n",
    "            \n",
    "            subset_output_fp = os.path.join(results_fp, f'subset-{fn}.nc')\n",
    "\n",
    "            if os.path.exists(subset_output_fp):\n",
    "                print(\"Skipping subset graph. Result already exists.\")\n",
    "            else:\n",
    "                graph_path = create_graph_file(subset_template,\n",
    "                                               input_file=safe_fp,\n",
    "                                               output_file=subset_output_fp,\n",
    "                                               subset_region=subset_region)\n",
    "                output_log = os.path.join(results_fp, f'log-subset-{fn}.log')\n",
    "                run_snap_gpt(graph_path, output_log)\n",
    "            \n",
    "            # Run IdePix process\n",
    "            print(f\"[{fn}] Running Idepix...\")\n",
    "\n",
    "            idepix_output_fp = os.path.join(results_fp, f'idepix-{fn}.nc')\n",
    "            \n",
    "            if os.path.exists(idepix_output_fp):\n",
    "                print(\"Skipping Idepix graph. Result already exists.\")\n",
    "            else:\n",
    "                graph_path = create_graph_file(idepix_template,\n",
    "                                               input_file=subset_output_fp,\n",
    "                                               output_file=idepix_output_fp)\n",
    "                output_log = os.path.join(results_fp, f'log-idepix-{fn}.log')\n",
    "                run_snap_gpt(graph_path, output_log)\n",
    "\n",
    "        except Exception as e:\n",
    "            print(f\"[{fn}] Error processing: {e}\")"
   ]
  },
  {
   "cell_type": "markdown",
   "id": "d2ce461b-9fcb-4790-9bb3-260021fbaa51",
   "metadata": {},
   "source": [
    "Errors"
   ]
  },
  {
   "cell_type": "code",
   "execution_count": null,
   "id": "c9d9c15d-18fb-481d-91c4-b5896e5b26c8",
   "metadata": {},
   "outputs": [],
   "source": [
    "err_tiles = ['30VUH', '30VUJ', '29VPD', '29VPC', '29VPE']"
   ]
  }
 ],
 "metadata": {
  "kernelspec": {
   "display_name": "Python 3 (ipykernel)",
   "language": "python",
   "name": "python3"
  },
  "language_info": {
   "codemirror_mode": {
    "name": "ipython",
    "version": 3
   },
   "file_extension": ".py",
   "mimetype": "text/x-python",
   "name": "python",
   "nbconvert_exporter": "python",
   "pygments_lexer": "ipython3",
   "version": "3.10.16"
  }
 },
 "nbformat": 4,
 "nbformat_minor": 5
}
