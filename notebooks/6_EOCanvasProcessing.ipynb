{
 "cells": [
  {
   "cell_type": "markdown",
   "id": "d00828d9-9315-4d89-91a2-2ff4f582aab0",
   "metadata": {},
   "source": [
    "# EOCanvas Processing"
   ]
  },
  {
   "cell_type": "markdown",
   "id": "72232b56-0011-4ba2-84b0-854bf99e25bf",
   "metadata": {},
   "source": [
    "## Setup"
   ]
  },
  {
   "cell_type": "code",
   "execution_count": 59,
   "id": "aa79c10a-a01c-42d3-bc79-80a54c166f51",
   "metadata": {},
   "outputs": [],
   "source": [
    "import os\n",
    "import numpy as np\n",
    "import pandas as pd"
   ]
  },
  {
   "cell_type": "code",
   "execution_count": 60,
   "id": "7e9ea779-9c53-41a5-9055-b35418e4e99a",
   "metadata": {},
   "outputs": [],
   "source": [
    "import matplotlib.pyplot as plt"
   ]
  },
  {
   "cell_type": "code",
   "execution_count": 61,
   "id": "94a6d978-0b8e-4613-8543-065770ffd4e6",
   "metadata": {},
   "outputs": [],
   "source": [
    "import geopandas as gpd\n",
    "import contextily as cx"
   ]
  },
  {
   "cell_type": "code",
   "execution_count": 65,
   "id": "eb4e9407-c119-4af1-b7de-4a9579da7b36",
   "metadata": {},
   "outputs": [],
   "source": [
    "from eocanvas import API, Credentials\n",
    "from eocanvas.api import Input, Config, ConfigOption\n",
    "from eocanvas.processes import SnapProcess\n",
    "from eocanvas.snap.graph import Graph"
   ]
  },
  {
   "cell_type": "code",
   "execution_count": 66,
   "id": "9b57ce95-b8eb-45ab-b6b5-972fdc117c6e",
   "metadata": {},
   "outputs": [],
   "source": [
    "from hda import Client"
   ]
  },
  {
   "cell_type": "code",
   "execution_count": 67,
   "id": "de35bba5-40ab-482a-ae38-090cf2e5d0dd",
   "metadata": {},
   "outputs": [],
   "source": [
    "DATA_DIR = '../data/'\n",
    "FIGURES_DIR = '../saved_figures/'\n",
    "GRAPHS_DIR = '../graphs/'"
   ]
  },
  {
   "cell_type": "code",
   "execution_count": 68,
   "id": "a4994525-e625-444e-97f3-34430ccab82c",
   "metadata": {},
   "outputs": [],
   "source": [
    "c = Credentials.load()\n",
    "c = Client()"
   ]
  },
  {
   "cell_type": "markdown",
   "id": "e2968d35-61f0-4bf9-b7aa-61c3b4ef7699",
   "metadata": {},
   "source": [
    "## Subset rectangles"
   ]
  },
  {
   "cell_type": "code",
   "execution_count": null,
   "id": "3512d586-aa67-4163-b2ed-aad7434b41f5",
   "metadata": {},
   "outputs": [],
   "source": []
  },
  {
   "cell_type": "markdown",
   "id": "fe709511-cbbd-4842-b3c2-823fc2731d3d",
   "metadata": {},
   "source": [
    "## EOCanvas SNAP"
   ]
  },
  {
   "cell_type": "code",
   "execution_count": 76,
   "id": "e64f8069-6fcc-4445-8b6c-1b5a404c6c4b",
   "metadata": {},
   "outputs": [],
   "source": [
    "q = {\n",
    "    \"dataset_id\": \"EO:ESA:DAT:SENTINEL-2\",\n",
    "    \"startdate\": \"2020-06-23T00:00:00.000Z\",\n",
    "    \"enddate\": \"2020-06-24T00:00:00.000Z\",\n",
    "    \"processingLevel\": \"S2MSI1C\",\n",
    "    \"tileId\": \"30UUA\"\n",
    "}"
   ]
  },
  {
   "cell_type": "code",
   "execution_count": 77,
   "id": "a9ea7206-e4f9-47fd-aa9f-cc4ecf3ebed1",
   "metadata": {},
   "outputs": [],
   "source": [
    "r = c.search(q)"
   ]
  },
  {
   "cell_type": "code",
   "execution_count": 78,
   "id": "494e02f3-8843-4ca7-b1b1-73642d76844e",
   "metadata": {},
   "outputs": [],
   "source": [
    "url = r.get_download_urls()[0]\n",
    "inputs = Input(key=\"img1\", url=url)"
   ]
  },
  {
   "cell_type": "code",
   "execution_count": 79,
   "id": "56e6df56-bcc2-4f9a-9d30-e4714609c954",
   "metadata": {},
   "outputs": [],
   "source": [
    "graph_fp = os.path.join(GRAPHS_DIR, 's2_c2rcc.xml')"
   ]
  },
  {
   "cell_type": "code",
   "execution_count": 80,
   "id": "ff3e0b37-72b2-4ea4-a6a9-23285a00d112",
   "metadata": {},
   "outputs": [],
   "source": [
    "with open(graph_fp, 'r') as f:\n",
    "    graph_txt = f.read()"
   ]
  },
  {
   "cell_type": "code",
   "execution_count": 81,
   "id": "726f925a-1a86-404e-9207-2d47ce7a436e",
   "metadata": {},
   "outputs": [],
   "source": [
    "graph_txt = graph_txt.replace('$polygon', str(poly))"
   ]
  },
  {
   "cell_type": "code",
   "execution_count": 82,
   "id": "b38ea7e0-a22d-4530-9137-15c4ce6d47fe",
   "metadata": {},
   "outputs": [],
   "source": [
    "graph = Graph.from_text(graph_txt)"
   ]
  },
  {
   "cell_type": "code",
   "execution_count": 83,
   "id": "44ddce80-582d-44b2-9e29-928320e26d95",
   "metadata": {},
   "outputs": [],
   "source": [
    "config = Config(key=\"img1\", options=ConfigOption(uncompress=False, sub_path=\"\"))\n",
    "process = SnapProcess(snap_graph=graph, eo_config=config, eo_input=inputs)\n",
    "_ = process.prepare_inputs()"
   ]
  },
  {
   "cell_type": "code",
   "execution_count": 84,
   "id": "3dfcd005-b30d-42d5-a448-a29a6cb95856",
   "metadata": {},
   "outputs": [
    {
     "name": "stdout",
     "output_type": "stream",
     "text": [
      "Job: 68e44e66-3e10-5d46-a6d3-30bb9ac2b5ff - Status: accepted at 2025-04-03T15:18:41.853257\n",
      "Job: 68e44e66-3e10-5d46-a6d3-30bb9ac2b5ff - Status: running at 2025-04-03T15:18:52.111895\n",
      "Job: 68e44e66-3e10-5d46-a6d3-30bb9ac2b5ff - Status: running at 2025-04-03T15:19:03.377061\n"
     ]
    },
    {
     "ename": "KeyboardInterrupt",
     "evalue": "",
     "output_type": "error",
     "traceback": [
      "\u001b[0;31m---------------------------------------------------------------------------\u001b[0m",
      "\u001b[0;31mKeyboardInterrupt\u001b[0m                         Traceback (most recent call last)",
      "Cell \u001b[0;32mIn[84], line 1\u001b[0m\n\u001b[0;32m----> 1\u001b[0m \u001b[43mprocess\u001b[49m\u001b[38;5;241;43m.\u001b[39;49m\u001b[43mrun\u001b[49m\u001b[43m(\u001b[49m\u001b[43mdownload_dir\u001b[49m\u001b[38;5;241;43m=\u001b[39;49m\u001b[38;5;124;43m\"\u001b[39;49m\u001b[38;5;124;43mresult\u001b[39;49m\u001b[38;5;124;43m\"\u001b[39;49m\u001b[43m)\u001b[49m\n",
      "File \u001b[0;32m~/miniconda3/envs/geomlenv/lib/python3.10/site-packages/eocanvas/api.py:493\u001b[0m, in \u001b[0;36mProcess.run\u001b[0;34m(self, job, download_dir, download)\u001b[0m\n\u001b[1;32m    491\u001b[0m \u001b[38;5;28;01mif\u001b[39;00m job \u001b[38;5;129;01mis\u001b[39;00m \u001b[38;5;28;01mNone\u001b[39;00m:\n\u001b[1;32m    492\u001b[0m     job \u001b[38;5;241m=\u001b[39m \u001b[38;5;28mself\u001b[39m\u001b[38;5;241m.\u001b[39msubmit()\n\u001b[0;32m--> 493\u001b[0m \u001b[38;5;28;01mreturn\u001b[39;00m \u001b[43mJobRunner\u001b[49m\u001b[43m(\u001b[49m\u001b[43mjob\u001b[49m\u001b[43m,\u001b[49m\u001b[43m \u001b[49m\u001b[43mdownload\u001b[49m\u001b[43m)\u001b[49m\u001b[38;5;241;43m.\u001b[39;49m\u001b[43mrun\u001b[49m\u001b[43m(\u001b[49m\u001b[43mdownload_dir\u001b[49m\u001b[43m)\u001b[49m\n",
      "File \u001b[0;32m~/miniconda3/envs/geomlenv/lib/python3.10/site-packages/eocanvas/api.py:512\u001b[0m, in \u001b[0;36mJobRunner.run\u001b[0;34m(self, download_dir)\u001b[0m\n\u001b[1;32m    508\u001b[0m     \u001b[38;5;28;01mraise\u001b[39;00m JobFailed(\n\u001b[1;32m    509\u001b[0m         \u001b[38;5;124mf\u001b[39m\u001b[38;5;124m\"\u001b[39m\u001b[38;5;124mJob \u001b[39m\u001b[38;5;132;01m{\u001b[39;00m\u001b[38;5;28mself\u001b[39m\u001b[38;5;241m.\u001b[39mjob\u001b[38;5;241m.\u001b[39mjob_id\u001b[38;5;132;01m}\u001b[39;00m\u001b[38;5;124m failed. Try checking the logs for more info.\u001b[39m\u001b[38;5;124m\"\u001b[39m\n\u001b[1;32m    510\u001b[0m     )\n\u001b[1;32m    511\u001b[0m \u001b[38;5;28;01massert\u001b[39;00m status \u001b[38;5;129;01min\u001b[39;00m [\u001b[38;5;124m\"\u001b[39m\u001b[38;5;124maccepted\u001b[39m\u001b[38;5;124m\"\u001b[39m, \u001b[38;5;124m\"\u001b[39m\u001b[38;5;124mrunning\u001b[39m\u001b[38;5;124m\"\u001b[39m]\n\u001b[0;32m--> 512\u001b[0m \u001b[43mtime\u001b[49m\u001b[38;5;241;43m.\u001b[39;49m\u001b[43msleep\u001b[49m\u001b[43m(\u001b[49m\u001b[43msleep\u001b[49m\u001b[43m)\u001b[49m\n\u001b[1;32m    513\u001b[0m sleep \u001b[38;5;241m=\u001b[39m sleep \u001b[38;5;241m*\u001b[39m \u001b[38;5;241m1.1\u001b[39m\n\u001b[1;32m    514\u001b[0m \u001b[38;5;28mself\u001b[39m\u001b[38;5;241m.\u001b[39mjob\u001b[38;5;241m.\u001b[39mrefresh_from_api()\n",
      "\u001b[0;31mKeyboardInterrupt\u001b[0m: "
     ]
    }
   ],
   "source": [
    "process.run(download_dir=\"result\")"
   ]
  },
  {
   "cell_type": "code",
   "execution_count": 91,
   "id": "cc6f3488-eb7e-4d57-9861-ad43cd0bf34f",
   "metadata": {},
   "outputs": [],
   "source": [
    "api = API()"
   ]
  },
  {
   "cell_type": "code",
   "execution_count": 92,
   "id": "809b06f6-bbce-42c4-9ca6-0fd01b73aac9",
   "metadata": {},
   "outputs": [],
   "source": [
    "jobs = api.get_jobs()"
   ]
  },
  {
   "cell_type": "code",
   "execution_count": 93,
   "id": "b787dba1-933b-4c22-9d98-65920e62c82f",
   "metadata": {},
   "outputs": [
    {
     "data": {
      "text/plain": [
       "[Job(api=<eocanvas.api.API object at 0x7ce5a4937c70>, job_id='a70fe49a-9a87-5682-976a-6760bca81093', status='failed', started='2025-04-01 16:53:45', created='2025-04-01 16:53:45', updated='2025-04-01 17:00:04', finished='2025-04-01 17:00:04'),\n",
       " Job(api=<eocanvas.api.API object at 0x7ce5a4937c70>, job_id='b7e4e026-badc-5634-8a16-f0b958ba6638', status='successful', started='2025-04-01 16:49:36', created='2025-04-01 16:49:36', updated='2025-04-01 16:54:57', finished='2025-04-01 16:54:56'),\n",
       " Job(api=<eocanvas.api.API object at 0x7ce5a4937c70>, job_id='a0b798dc-8a56-5512-975a-09d7bf7b88f6', status='failed', started='2025-04-01 16:30:26', created='2025-04-01 16:30:26', updated='2025-04-01 16:35:16', finished='2025-04-01 16:35:15'),\n",
       " Job(api=<eocanvas.api.API object at 0x7ce5a4937c70>, job_id='f750bebb-b4b8-541f-ab96-44da5c509548', status='failed', started='2025-04-01 16:22:25', created='2025-04-01 16:22:25', updated='2025-04-01 16:24:02', finished='2025-04-01 16:24:01'),\n",
       " Job(api=<eocanvas.api.API object at 0x7ce5a4937c70>, job_id='62f792a9-a555-5b97-b83d-86061041dc3c', status='failed', started='2025-04-01 16:17:34', created='2025-04-01 16:17:34', updated='2025-04-01 16:19:03', finished='2025-04-01 16:19:03'),\n",
       " Job(api=<eocanvas.api.API object at 0x7ce5a4937c70>, job_id='39b0d1b0-48cf-584e-8a06-5e2d813ea171', status='successful', started='2025-02-27 17:26:43', created='2025-02-27 17:26:43', updated='2025-02-27 17:35:04', finished='2025-02-27 17:35:03'),\n",
       " Job(api=<eocanvas.api.API object at 0x7ce5a4937c70>, job_id='dec77ffd-58db-5e7e-8ace-276ccbbb2755', status='successful', started='2025-02-27 17:20:18', created='2025-02-27 17:20:18', updated='2025-02-27 17:26:02', finished='2025-02-27 17:26:00'),\n",
       " Job(api=<eocanvas.api.API object at 0x7ce5a4937c70>, job_id='8287116b-5c53-590e-8cfc-8a1423d4e6e9', status='successful', started='2025-02-27 17:11:06', created='2025-02-27 17:11:06', updated='2025-02-27 17:19:07', finished='2025-02-27 17:19:06'),\n",
       " Job(api=<eocanvas.api.API object at 0x7ce5a4937c70>, job_id='16ba4aad-d24b-5a34-b01a-b3e5e94ced26', status='successful', started='2025-02-27 17:10:36', created='2025-02-27 17:10:36', updated='2025-02-27 17:16:51', finished='2025-02-27 17:16:50'),\n",
       " Job(api=<eocanvas.api.API object at 0x7ce5a4937c70>, job_id='2ffe7b03-a14f-518f-a40d-9ff972aa0723', status='failed', started='2025-02-27 17:10:24', created='2025-02-27 17:10:24', updated='2025-02-27 17:11:48', finished='2025-02-27 17:11:47')]"
      ]
     },
     "execution_count": 93,
     "metadata": {},
     "output_type": "execute_result"
    }
   ],
   "source": [
    "jobs"
   ]
  },
  {
   "cell_type": "code",
   "execution_count": 100,
   "id": "7a2484b0-c166-4816-8851-dcfb7767f50d",
   "metadata": {},
   "outputs": [],
   "source": [
    "job = 'b7e4e026-badc-5634-8a16-f0b958ba6638'"
   ]
  },
  {
   "cell_type": "code",
   "execution_count": 101,
   "id": "d6642c45-198e-4405-9b73-dd0ee7662bbc",
   "metadata": {},
   "outputs": [
    {
     "data": {
      "text/plain": [
       "[LogEntry(timestamp=datetime.datetime(2025, 4, 1, 16, 49, 53, 798265, tzinfo=datetime.timezone.utc), message='time=\"2025-04-01T16:49:53.796Z\" level=info msg=\"Starting Workflow Executor\" version=v3.5.7'),\n",
       " LogEntry(timestamp=datetime.datetime(2025, 4, 1, 16, 49, 53, 801704, tzinfo=datetime.timezone.utc), message='time=\"2025-04-01T16:49:53.801Z\" level=info msg=\"Using executor retry strategy\" Duration=1s Factor=1.6 Jitter=0.5 Steps=5'),\n",
       " LogEntry(timestamp=datetime.datetime(2025, 4, 1, 16, 49, 53, 801750, tzinfo=datetime.timezone.utc), message='time=\"2025-04-01T16:49:53.801Z\" level=info msg=\"Executor initialized\" deadline=\"0001-01-01 00:00:00 +0000 UTC\" includeScriptOutput=false namespace=ws-serverless podName=workflow-xvt8n-stage-in-3105547291 templateName=stage-in version=\"&Version{Version:v3.5.7,BuildDate:2024-05-27T06:18:59Z,GitCommit:503eef1357ebc9facc3f463708031441072ef7c2,GitTag:v3.5.7,GitTreeState:clean,GoVersion:go1.21.10,Compiler:gc,Platform:linux/amd64,}\"'),\n",
       " LogEntry(timestamp=datetime.datetime(2025, 4, 1, 16, 49, 53, 966028, tzinfo=datetime.timezone.utc), message='time=\"2025-04-01T16:49:53.965Z\" level=info msg=\"Start loading input artifacts...\"'),\n",
       " LogEntry(timestamp=datetime.datetime(2025, 4, 1, 16, 49, 53, 966069, tzinfo=datetime.timezone.utc), message='time=\"2025-04-01T16:49:53.966Z\" level=info msg=\"Alloc=7640 TotalAlloc=13473 Sys=25957 NumGC=4 Goroutines=4\"'),\n",
       " LogEntry(timestamp=datetime.datetime(2025, 4, 1, 16, 49, 56, 416449, tzinfo=datetime.timezone.utc), message='SLF4J(W): Class path contains multiple SLF4J providers.'),\n",
       " LogEntry(timestamp=datetime.datetime(2025, 4, 1, 16, 49, 56, 416496, tzinfo=datetime.timezone.utc), message='SLF4J(W): Found provider [ch.qos.logback.classic.spi.LogbackServiceProvider@3567135c]'),\n",
       " LogEntry(timestamp=datetime.datetime(2025, 4, 1, 16, 49, 56, 416533, tzinfo=datetime.timezone.utc), message='SLF4J(W): Found provider [org.slf4j.reload4j.Reload4jServiceProvider@327471b5]'),\n",
       " LogEntry(timestamp=datetime.datetime(2025, 4, 1, 16, 49, 56, 416549, tzinfo=datetime.timezone.utc), message='SLF4J(W): See https://www.slf4j.org/codes.html#multiple_bindings for an explanation.'),\n",
       " LogEntry(timestamp=datetime.datetime(2025, 4, 1, 16, 49, 56, 509311, tzinfo=datetime.timezone.utc), message='SLF4J(I): Actual provider is of type [ch.qos.logback.classic.spi.LogbackServiceProvider@3567135c]'),\n",
       " LogEntry(timestamp=datetime.datetime(2025, 4, 1, 16, 49, 56, 550473, tzinfo=datetime.timezone.utc), message='Standard Commons Logging discovery in action with spring-jcl: please remove commons-logging.jar from classpath in order to avoid potential conflicts'),\n",
       " LogEntry(timestamp=datetime.datetime(2025, 4, 1, 16, 49, 57, 121715, tzinfo=datetime.timezone.utc), message=''),\n",
       " LogEntry(timestamp=datetime.datetime(2025, 4, 1, 16, 49, 57, 121772, tzinfo=datetime.timezone.utc), message='  .   ____          _            __ _ _'),\n",
       " LogEntry(timestamp=datetime.datetime(2025, 4, 1, 16, 49, 57, 121807, tzinfo=datetime.timezone.utc), message=\" /\\\\\\\\ / ___'_ __ _ _(_)_ __  __ _ \\\\ \\\\ \\\\ \\\\\"),\n",
       " LogEntry(timestamp=datetime.datetime(2025, 4, 1, 16, 49, 57, 121812, tzinfo=datetime.timezone.utc), message=\"( ( )\\\\___ | '_ | '_| | '_ \\\\/ _` | \\\\ \\\\ \\\\ \\\\\"),\n",
       " LogEntry(timestamp=datetime.datetime(2025, 4, 1, 16, 49, 57, 121816, tzinfo=datetime.timezone.utc), message=' \\\\\\\\/  ___)| |_)| | | | | || (_| |  ) ) ) )'),\n",
       " LogEntry(timestamp=datetime.datetime(2025, 4, 1, 16, 49, 57, 121820, tzinfo=datetime.timezone.utc), message=\"  '  |____| .__|_| |_|_| |_\\\\__, | / / / /\"),\n",
       " LogEntry(timestamp=datetime.datetime(2025, 4, 1, 16, 49, 57, 121824, tzinfo=datetime.timezone.utc), message=' =========|_|==============|___/=/_/_/_/'),\n",
       " LogEntry(timestamp=datetime.datetime(2025, 4, 1, 16, 49, 57, 121827, tzinfo=datetime.timezone.utc), message=''),\n",
       " LogEntry(timestamp=datetime.datetime(2025, 4, 1, 16, 49, 57, 122935, tzinfo=datetime.timezone.utc), message=' :: Spring Boot ::                (v3.3.1)'),\n",
       " LogEntry(timestamp=datetime.datetime(2025, 4, 1, 16, 49, 57, 122946, tzinfo=datetime.timezone.utc), message=''),\n",
       " LogEntry(timestamp=datetime.datetime(2025, 4, 1, 16, 49, 57, 374474, tzinfo=datetime.timezone.utc), message='2025-04-01T16:49:57.335Z  INFO 27 --- [stagein] [           main] o.e.w.s.stagein.StageInApplication       : Starting StageInApplication v1.3.7 using Java 17.0.13 with PID 27 (/app.jar started by root in /)'),\n",
       " LogEntry(timestamp=datetime.datetime(2025, 4, 1, 16, 49, 57, 376532, tzinfo=datetime.timezone.utc), message='2025-04-01T16:49:57.376Z  INFO 27 --- [stagein] [           main] o.e.w.s.stagein.StageInApplication       : No active profile set, falling back to 1 default profile: \"default\"'),\n",
       " LogEntry(timestamp=datetime.datetime(2025, 4, 1, 16, 49, 58, 854763, tzinfo=datetime.timezone.utc), message='2025-04-01T16:49:58.854Z  INFO 27 --- [stagein] [           main] o.s.b.w.embedded.tomcat.TomcatWebServer  : Tomcat initialized with port 8080 (http)'),\n",
       " LogEntry(timestamp=datetime.datetime(2025, 4, 1, 16, 49, 58, 868571, tzinfo=datetime.timezone.utc), message='2025-04-01T16:49:58.868Z  INFO 27 --- [stagein] [           main] o.apache.catalina.core.StandardService   : Starting service [Tomcat]'),\n",
       " LogEntry(timestamp=datetime.datetime(2025, 4, 1, 16, 49, 58, 868738, tzinfo=datetime.timezone.utc), message='2025-04-01T16:49:58.868Z  INFO 27 --- [stagein] [           main] o.apache.catalina.core.StandardEngine    : Starting Servlet engine: [Apache Tomcat/10.1.25]'),\n",
       " LogEntry(timestamp=datetime.datetime(2025, 4, 1, 16, 49, 58, 916363, tzinfo=datetime.timezone.utc), message='2025-04-01T16:49:58.916Z  INFO 27 --- [stagein] [           main] o.a.c.c.C.[Tomcat].[localhost].[/]       : Initializing Spring embedded WebApplicationContext'),\n",
       " LogEntry(timestamp=datetime.datetime(2025, 4, 1, 16, 49, 58, 917756, tzinfo=datetime.timezone.utc), message='2025-04-01T16:49:58.917Z  INFO 27 --- [stagein] [           main] w.s.c.ServletWebServerApplicationContext : Root WebApplicationContext: initialization completed in 1325 ms'),\n",
       " LogEntry(timestamp=datetime.datetime(2025, 4, 1, 16, 49, 58, 920269, tzinfo=datetime.timezone.utc), message='Standard Commons Logging discovery in action with spring-jcl: please remove commons-logging.jar from classpath in order to avoid potential conflicts'),\n",
       " LogEntry(timestamp=datetime.datetime(2025, 4, 1, 16, 49, 59, 843768, tzinfo=datetime.timezone.utc), message='2025-04-01T16:49:59.843Z  WARN 27 --- [stagein] [           main] .s.s.UserDetailsServiceAutoConfiguration : '),\n",
       " LogEntry(timestamp=datetime.datetime(2025, 4, 1, 16, 49, 59, 843794, tzinfo=datetime.timezone.utc), message=''),\n",
       " LogEntry(timestamp=datetime.datetime(2025, 4, 1, 16, 49, 59, 843800, tzinfo=datetime.timezone.utc), message='Using generated security password: d07db19a-9da2-4e14-b631-1c9924147dc7'),\n",
       " LogEntry(timestamp=datetime.datetime(2025, 4, 1, 16, 49, 59, 843805, tzinfo=datetime.timezone.utc), message=''),\n",
       " LogEntry(timestamp=datetime.datetime(2025, 4, 1, 16, 49, 59, 843811, tzinfo=datetime.timezone.utc), message='This generated password is for development use only. Your security configuration must be updated before running your application in production.'),\n",
       " LogEntry(timestamp=datetime.datetime(2025, 4, 1, 16, 49, 59, 843816, tzinfo=datetime.timezone.utc), message=''),\n",
       " LogEntry(timestamp=datetime.datetime(2025, 4, 1, 16, 49, 59, 865170, tzinfo=datetime.timezone.utc), message='2025-04-01T16:49:59.864Z  INFO 27 --- [stagein] [           main] r$InitializeUserDetailsManagerConfigurer : Global AuthenticationManager configured with UserDetailsService bean with name inMemoryUserDetailsManager'),\n",
       " LogEntry(timestamp=datetime.datetime(2025, 4, 1, 16, 50, 0, 36196, tzinfo=datetime.timezone.utc), message=\"2025-04-01T16:50:00.035Z  INFO 27 --- [stagein] [           main] o.s.b.w.embedded.tomcat.TomcatWebServer  : Tomcat started on port 8080 (http) with context path '/'\"),\n",
       " LogEntry(timestamp=datetime.datetime(2025, 4, 1, 16, 50, 0, 59707, tzinfo=datetime.timezone.utc), message='2025-04-01T16:50:00.059Z  INFO 27 --- [stagein] [           main] o.e.w.s.stagein.StageInApplication       : Started StageInApplication in 3.335 seconds (process running for 3.978)'),\n",
       " LogEntry(timestamp=datetime.datetime(2025, 4, 1, 16, 50, 0, 83663, tzinfo=datetime.timezone.utc), message='2025-04-01T16:50:00.083Z  INFO 27 --- [stagein] [           main] o.e.w.s.logger.MetricsLogger             : [METRICS][b7e4e026-badc-5634-8a16-f0b958ba6638][START] {\"phase\":\"STAGE-IN\",\"user\":\"co429\",\"timestamp\":\"2025-04-01T16:50:00.063579764\"}'),\n",
       " LogEntry(timestamp=datetime.datetime(2025, 4, 1, 16, 50, 0, 177623, tzinfo=datetime.timezone.utc), message='2025-04-01T16:50:00.174Z  INFO 27 --- [stagein] [           main] o.e.w.s.s.downloader.EnvironmentService  : Created job configuration file for job b7e4e026-badc-5634-8a16-f0b958ba6638 in location: /home/worker/workDir/function.properties'),\n",
       " LogEntry(timestamp=datetime.datetime(2025, 4, 1, 16, 50, 0, 178230, tzinfo=datetime.timezone.utc), message='2025-04-01T16:50:00.177Z  INFO 27 --- [stagein] [           main] o.e.w.s.s.d.DownloaderServiceImpl        : InputDir /home/worker/workDir/inDir and inputs to Download {eo_input=[{\"img1\": \"https://gateway.prod.wekeo2.eu/hda-broker/api/v1/dataaccess/download/67ec1898997593bdeed31f8a\"}]} '),\n",
       " LogEntry(timestamp=datetime.datetime(2025, 4, 1, 16, 50, 0, 192582, tzinfo=datetime.timezone.utc), message='2025-04-01T16:50:00.192Z  INFO 27 --- [stagein] [           main] o.e.w.s.s.d.wekeo.WekEODownloader        : Requesting download of product at URI https://gateway.prod.wekeo2.eu/hda-broker/api/v1/dataaccess/download/67ec1898997593bdeed31f8a to /home/worker/workDir/tmp/dl9219870344227048373'),\n",
       " LogEntry(timestamp=datetime.datetime(2025, 4, 1, 16, 50, 0, 192673, tzinfo=datetime.timezone.utc), message='2025-04-01T16:50:00.192Z  INFO 27 --- [stagein] [           main] o.e.w.s.s.d.wekeo.WekEODownloader        : Requested download of product at URI https://gateway.prod.wekeo2.eu/hda-broker/api/v1/dataaccess/download/67ec1898997593bdeed31f8a download ID is 67ec1898997593bdeed31f8a'),\n",
       " LogEntry(timestamp=datetime.datetime(2025, 4, 1, 16, 50, 1, 104427, tzinfo=datetime.timezone.utc), message='2025-04-01T16:50:01.104Z  INFO 27 --- [stagein] [           main] o.e.w.s.s.d.wekeo.WekEODownloader        : Downloading https://gateway.prod.wekeo2.eu/hda-broker/api/v1/dataaccess/download/67ec1898997593bdeed31f8a in /home/worker/workDir/tmp/dl9219870344227048373'),\n",
       " LogEntry(timestamp=datetime.datetime(2025, 4, 1, 16, 50, 8, 79745, tzinfo=datetime.timezone.utc), message='time=\"2025-04-01T16:50:08.079Z\" level=debug msg=\"ignore signal urgent I/O condition\" argo=true'),\n",
       " LogEntry(timestamp=datetime.datetime(2025, 4, 1, 16, 50, 10, 79755, tzinfo=datetime.timezone.utc), message='time=\"2025-04-01T16:50:10.079Z\" level=debug msg=\"ignore signal urgent I/O condition\" argo=true'),\n",
       " LogEntry(timestamp=datetime.datetime(2025, 4, 1, 16, 50, 12, 174806, tzinfo=datetime.timezone.utc), message='2025-04-01T16:50:12.174Z  INFO 27 --- [stagein] [           main] o.e.w.s.s.d.wekeo.WekEODownloader        : Successfully downloaded product from URL https://gateway.prod.wekeo2.eu/hda-broker/api/v1/dataaccess/download/67ec1898997593bdeed31f8a to /home/worker/workDir/tmp/dl9219870344227048373/S2B_MSIL1C_20200623T112119_N0500_R037_T30UUA_20230427T164710.zip (667249914 bytes)'),\n",
       " LogEntry(timestamp=datetime.datetime(2025, 4, 1, 16, 50, 12, 176738, tzinfo=datetime.timezone.utc), message='2025-04-01T16:50:12.176Z  INFO 27 --- [stagein] [           main] o.e.w.s.logger.MetricsLogger             : [METRICS][b7e4e026-badc-5634-8a16-f0b958ba6638][FILE] {\"phase\":\"STAGE-IN\",\"file\":\"/home/worker/workDir/inDir/eo_input/img1/S2B_MSIL1C_20200623T112119_N0500_R037_T30UUA_20230427T164710.zip\",\"size\":667249914 }'),\n",
       " LogEntry(timestamp=datetime.datetime(2025, 4, 1, 16, 50, 12, 177574, tzinfo=datetime.timezone.utc), message='2025-04-01T16:50:12.177Z  INFO 27 --- [stagein] [           main] o.e.w.s.logger.MetricsLogger             : [METRICS][b7e4e026-badc-5634-8a16-f0b958ba6638][END] {\"phase\":\"STAGE-IN\",\"user\":\"co429\",\"timestamp\":\"2025-04-01T16:50:00.063579764\",\"duration\":\"12\"}'),\n",
       " LogEntry(timestamp=datetime.datetime(2025, 4, 1, 16, 50, 12, 177652, tzinfo=datetime.timezone.utc), message='2025-04-01T16:50:12.177Z  INFO 27 --- [stagein] [           main] o.e.w.s.stagein.StageInApplication       : shutdown...'),\n",
       " LogEntry(timestamp=datetime.datetime(2025, 4, 1, 16, 50, 12, 577828, tzinfo=datetime.timezone.utc), message='time=\"2025-04-01T16:50:12.577Z\" level=debug msg=\"ignore signal child exited\" argo=true'),\n",
       " LogEntry(timestamp=datetime.datetime(2025, 4, 1, 16, 50, 12, 577881, tzinfo=datetime.timezone.utc), message='time=\"2025-04-01T16:50:12.577Z\" level=debug msg=\"ignore signal urgent I/O condition\" argo=true'),\n",
       " LogEntry(timestamp=datetime.datetime(2025, 4, 1, 16, 50, 13, 81210, tzinfo=datetime.timezone.utc), message='time=\"2025-04-01T16:50:13.081Z\" level=info msg=\"sub-process exited\" argo=true error=\"<nil>\"'),\n",
       " LogEntry(timestamp=datetime.datetime(2025, 4, 1, 16, 50, 36, 145501, tzinfo=datetime.timezone.utc), message='time=\"2025-04-01T16:50:36.145Z\" level=info msg=\"Starting Workflow Executor\" version=v3.5.7'),\n",
       " LogEntry(timestamp=datetime.datetime(2025, 4, 1, 16, 50, 36, 149181, tzinfo=datetime.timezone.utc), message='time=\"2025-04-01T16:50:36.149Z\" level=info msg=\"Using executor retry strategy\" Duration=1s Factor=1.6 Jitter=0.5 Steps=5'),\n",
       " LogEntry(timestamp=datetime.datetime(2025, 4, 1, 16, 50, 36, 149510, tzinfo=datetime.timezone.utc), message='time=\"2025-04-01T16:50:36.149Z\" level=info msg=\"Executor initialized\" deadline=\"0001-01-01 00:00:00 +0000 UTC\" includeScriptOutput=false namespace=ws-serverless podName=workflow-xvt8n-function-4222428886 templateName=function version=\"&Version{Version:v3.5.7,BuildDate:2024-05-27T06:18:59Z,GitCommit:503eef1357ebc9facc3f463708031441072ef7c2,GitTag:v3.5.7,GitTreeState:clean,GoVersion:go1.21.10,Compiler:gc,Platform:linux/amd64,}\"'),\n",
       " LogEntry(timestamp=datetime.datetime(2025, 4, 1, 16, 50, 36, 305019, tzinfo=datetime.timezone.utc), message='time=\"2025-04-01T16:50:36.304Z\" level=info msg=\"Start loading input artifacts...\"'),\n",
       " LogEntry(timestamp=datetime.datetime(2025, 4, 1, 16, 50, 36, 305040, tzinfo=datetime.timezone.utc), message='time=\"2025-04-01T16:50:36.304Z\" level=info msg=\"Alloc=7368 TotalAlloc=13354 Sys=24933 NumGC=4 Goroutines=4\"'),\n",
       " LogEntry(timestamp=datetime.datetime(2025, 4, 1, 16, 50, 39, 673074, tzinfo=datetime.timezone.utc), message='[METRICS][b7e4e026-badc-5634-8a16-f0b958ba6638][START] {\"phase\":\"prepare_environments\", \"user\":\"co429\", \"timestamp\":\"2025/04/01 16:50:39\"}'),\n",
       " LogEntry(timestamp=datetime.datetime(2025, 4, 1, 16, 50, 39, 705108, tzinfo=datetime.timezone.utc), message='[2025-04-01T16:50:39+0000] [INFO] - Preparing input: img1'),\n",
       " LogEntry(timestamp=datetime.datetime(2025, 4, 1, 16, 50, 39, 726264, tzinfo=datetime.timezone.utc), message='[2025-04-01T16:50:39+0000] [INFO] - Input img1 is ready. Input location: /home/worker/workDir/inDir/eo_input/img1/S2B_MSIL1C_20200623T112119_N0500_R037_T30UUA_20230427T164710.zip'),\n",
       " LogEntry(timestamp=datetime.datetime(2025, 4, 1, 16, 50, 39, 743289, tzinfo=datetime.timezone.utc), message='[METRICS][b7e4e026-badc-5634-8a16-f0b958ba6638][END] {\"phase\":\"prepare_env\", \"seconds\":\"0\", \"user\":\"co429\", \"timestamp\":\"2025/04/01 16:50:39\"}'),\n",
       " LogEntry(timestamp=datetime.datetime(2025, 4, 1, 16, 50, 39, 754055, tzinfo=datetime.timezone.utc), message='[METRICS][b7e4e026-badc-5634-8a16-f0b958ba6638][START] {\"phase\":\"launch_snap\", \"user\":\"co429\", \"timestamp\":\"2025/04/01 16:50:39\"}'),\n",
       " LogEntry(timestamp=datetime.datetime(2025, 4, 1, 16, 50, 39, 755528, tzinfo=datetime.timezone.utc), message='[2025-04-01T16:50:39+0000] [INFO] - /usr/local/snap/bin/gpt /home/worker/workDir/graph.xml -Pimg1=/home/worker/workDir/inDir/eo_input/img1/S2B_MSIL1C_20200623T112119_N0500_R037_T30UUA_20230427T164710.zip -Poutput=/home/worker/workDir/outDir/output/71453f54-0f19-11f0-9831-662f84628545'),\n",
       " LogEntry(timestamp=datetime.datetime(2025, 4, 1, 16, 50, 40, 257581, tzinfo=datetime.timezone.utc), message='WARNING: An illegal reflective access operation has occurred'),\n",
       " LogEntry(timestamp=datetime.datetime(2025, 4, 1, 16, 50, 40, 257601, tzinfo=datetime.timezone.utc), message='WARNING: Illegal reflective access by org.esa.snap.runtime.Engine (file:/usr/local/snap/snap/modules/ext/org.esa.snap.snap-core/org-esa-snap/snap-runtime.jar) to method java.lang.ClassLoader.initializePath(java.lang.String)'),\n",
       " LogEntry(timestamp=datetime.datetime(2025, 4, 1, 16, 50, 40, 257606, tzinfo=datetime.timezone.utc), message='WARNING: Please consider reporting this to the maintainers of org.esa.snap.runtime.Engine'),\n",
       " LogEntry(timestamp=datetime.datetime(2025, 4, 1, 16, 50, 40, 257611, tzinfo=datetime.timezone.utc), message='WARNING: Use --illegal-access=warn to enable warnings of further illegal reflective access operations'),\n",
       " LogEntry(timestamp=datetime.datetime(2025, 4, 1, 16, 50, 40, 257614, tzinfo=datetime.timezone.utc), message='WARNING: All illegal access operations will be denied in a future release'),\n",
       " LogEntry(timestamp=datetime.datetime(2025, 4, 1, 16, 50, 41, 294372, tzinfo=datetime.timezone.utc), message='WARNING: org.esa.snap.core.util.ServiceLoader: org.esa.snap.core.gpf.OperatorSpi: Provider eu.esa.opt.meris.sdr.aerosol.AerosolMergerOp$Spi not found'),\n",
       " LogEntry(timestamp=datetime.datetime(2025, 4, 1, 16, 50, 41, 295138, tzinfo=datetime.timezone.utc), message='WARNING: org.esa.snap.core.util.ServiceLoader: org.esa.snap.core.gpf.OperatorSpi: Provider eu.esa.opt.meris.sdr.aerosol.ModisAerosolOp$Spi not found'),\n",
       " LogEntry(timestamp=datetime.datetime(2025, 4, 1, 16, 50, 41, 511185, tzinfo=datetime.timezone.utc), message='INFO: org.esa.snap.core.gpf.operators.tooladapter.ToolAdapterIO: Initializing external tool adapters'),\n",
       " LogEntry(timestamp=datetime.datetime(2025, 4, 1, 16, 50, 41, 645768, tzinfo=datetime.timezone.utc), message='INFO: org.esa.snap.core.util.EngineVersionCheckActivator: Please check regularly for new updates for the best SNAP experience.'),\n",
       " LogEntry(timestamp=datetime.datetime(2025, 4, 1, 16, 50, 41, 778314, tzinfo=datetime.timezone.utc), message='WARNING: org.esa.snap.core.util.EngineVersionCheckActivator: A new SNAP version is available for download.'),\n",
       " LogEntry(timestamp=datetime.datetime(2025, 4, 1, 16, 50, 41, 778329, tzinfo=datetime.timezone.utc), message='Currently installed 10.0.0, available is 11.0.0.'),\n",
       " LogEntry(timestamp=datetime.datetime(2025, 4, 1, 16, 50, 41, 778335, tzinfo=datetime.timezone.utc), message='Please visit http://step.esa.int'),\n",
       " LogEntry(timestamp=datetime.datetime(2025, 4, 1, 16, 50, 41, 778340, tzinfo=datetime.timezone.utc), message=''),\n",
       " LogEntry(timestamp=datetime.datetime(2025, 4, 1, 16, 50, 42, 689504, tzinfo=datetime.timezone.utc), message='Executing processing graph'),\n",
       " LogEntry(timestamp=datetime.datetime(2025, 4, 1, 16, 50, 43, 1133, tzinfo=datetime.timezone.utc), message='INFO: eu.esa.opt.dataio.s2.ortho.S2OrthoProductReaderPlugIn: Building product reader - EPSG:32630'),\n",
       " LogEntry(timestamp=datetime.datetime(2025, 4, 1, 16, 50, 44, 498441, tzinfo=datetime.timezone.utc), message='WARNING: org.esa.snap.core.metadata.GenericXmlMetadata: Metadata: the path to element [metadata_level] does not exist'),\n",
       " LogEntry(timestamp=datetime.datetime(2025, 4, 1, 16, 50, 44, 500432, tzinfo=datetime.timezone.utc), message='WARNING: org.esa.snap.core.metadata.GenericXmlMetadata: Metadata: the path to element [granuleidentifier] does not exist'),\n",
       " LogEntry(timestamp=datetime.datetime(2025, 4, 1, 16, 50, 46, 46628, tzinfo=datetime.timezone.utc), message='WARNING: org.esa.snap.core.metadata.GenericXmlMetadata: Metadata: the path to element [bandid] does not exist'),\n",
       " LogEntry(timestamp=datetime.datetime(2025, 4, 1, 16, 50, 49, 145017, tzinfo=datetime.timezone.utc), message='ERROR 1: libpq.so.5: cannot open shared object file: No such file or directory'),\n",
       " LogEntry(timestamp=datetime.datetime(2025, 4, 1, 16, 50, 49, 145052, tzinfo=datetime.timezone.utc), message='ERROR 1: libpq.so.5: cannot open shared object file: No such file or directory'),\n",
       " LogEntry(timestamp=datetime.datetime(2025, 4, 1, 16, 50, 49, 149980, tzinfo=datetime.timezone.utc), message='ERROR 1: libpq.so.5: cannot open shared object file: No such file or directory'),\n",
       " LogEntry(timestamp=datetime.datetime(2025, 4, 1, 16, 50, 49, 150000, tzinfo=datetime.timezone.utc), message='ERROR 1: libpq.so.5: cannot open shared object file: No such file or directory'),\n",
       " LogEntry(timestamp=datetime.datetime(2025, 4, 1, 16, 51, 0, 362766, tzinfo=datetime.timezone.utc), message=\"INFO: eu.esa.opt.c2rcc.ancillary.AtmosphericAuxdataBuilder: Atmospheric auxdata product can't be used. At least one is not specified. Using constant values for ozone (330.0) and surface pressure (1000.0).\"),\n",
       " LogEntry(timestamp=datetime.datetime(2025, 4, 1, 16, 51, 2, 28769, tzinfo=datetime.timezone.utc), message=\"20483 [main] INFO serverStartup - Nc4Iosp: NetCDF-4 C library loaded (jna_path='/root/.snap/auxdata/netcdf_natives/10.0.0/amd64', libname='netcdf').\"),\n",
       " LogEntry(timestamp=datetime.datetime(2025, 4, 1, 16, 51, 2, 32535, tzinfo=datetime.timezone.utc), message='20487 [main] INFO serverStartup - NetcdfLoader: set log level: old=0 new=0'),\n",
       " LogEntry(timestamp=datetime.datetime(2025, 4, 1, 16, 51, 2, 32557, tzinfo=datetime.timezone.utc), message='20487 [main] INFO serverStartup - Nc4Iosp: set log level: old=0 new=0'),\n",
       " LogEntry(timestamp=datetime.datetime(2025, 4, 1, 16, 51, 3, 665602, tzinfo=datetime.timezone.utc), message='time=\"2025-04-01T16:51:03.665Z\" level=debug msg=\"ignore signal urgent I/O condition\" argo=true'),\n",
       " LogEntry(timestamp=datetime.datetime(2025, 4, 1, 16, 51, 9, 624357, tzinfo=datetime.timezone.utc), message='time=\"2025-04-01T16:51:09.624Z\" level=debug msg=\"ignore signal urgent I/O condition\" argo=true'),\n",
       " LogEntry(timestamp=datetime.datetime(2025, 4, 1, 16, 51, 13, 703187, tzinfo=datetime.timezone.utc), message='time=\"2025-04-01T16:51:13.703Z\" level=debug msg=\"ignore signal urgent I/O condition\" argo=true'),\n",
       " LogEntry(timestamp=datetime.datetime(2025, 4, 1, 16, 51, 17, 699938, tzinfo=datetime.timezone.utc), message='time=\"2025-04-01T16:51:17.699Z\" level=debug msg=\"ignore signal urgent I/O condition\" argo=true'),\n",
       " LogEntry(timestamp=datetime.datetime(2025, 4, 1, 16, 51, 19, 700535, tzinfo=datetime.timezone.utc), message='time=\"2025-04-01T16:51:19.700Z\" level=debug msg=\"ignore signal urgent I/O condition\" argo=true'),\n",
       " LogEntry(timestamp=datetime.datetime(2025, 4, 1, 16, 51, 21, 10497, tzinfo=datetime.timezone.utc), message='INFO: org.esa.snap.core.dataop.dem.ElevationFile: http retrieving http://step.esa.int/auxdata/dem/GETASSE30/45N015W.zip'),\n",
       " LogEntry(timestamp=datetime.datetime(2025, 4, 1, 16, 51, 27, 704815, tzinfo=datetime.timezone.utc), message='time=\"2025-04-01T16:51:27.704Z\" level=debug msg=\"ignore signal urgent I/O condition\" argo=true'),\n",
       " LogEntry(timestamp=datetime.datetime(2025, 4, 1, 16, 51, 33, 703652, tzinfo=datetime.timezone.utc), message='time=\"2025-04-01T16:51:33.703Z\" level=debug msg=\"ignore signal urgent I/O condition\" argo=true'),\n",
       " LogEntry(timestamp=datetime.datetime(2025, 4, 1, 16, 51, 45, 705878, tzinfo=datetime.timezone.utc), message='time=\"2025-04-01T16:51:45.705Z\" level=debug msg=\"ignore signal urgent I/O condition\" argo=true'),\n",
       " LogEntry(timestamp=datetime.datetime(2025, 4, 1, 16, 52, 13, 712800, tzinfo=datetime.timezone.utc), message='time=\"2025-04-01T16:52:13.712Z\" level=debug msg=\"ignore signal urgent I/O condition\" argo=true'),\n",
       " LogEntry(timestamp=datetime.datetime(2025, 4, 1, 16, 52, 17, 713817, tzinfo=datetime.timezone.utc), message='time=\"2025-04-01T16:52:17.713Z\" level=debug msg=\"ignore signal urgent I/O condition\" argo=true'),\n",
       " LogEntry(timestamp=datetime.datetime(2025, 4, 1, 16, 52, 27, 716425, tzinfo=datetime.timezone.utc), message='time=\"2025-04-01T16:52:27.716Z\" level=debug msg=\"ignore signal urgent I/O condition\" argo=true'),\n",
       " LogEntry(timestamp=datetime.datetime(2025, 4, 1, 16, 52, 27, 716448, tzinfo=datetime.timezone.utc), message='time=\"2025-04-01T16:52:27.716Z\" level=debug msg=\"ignore signal urgent I/O condition\" argo=true'),\n",
       " LogEntry(timestamp=datetime.datetime(2025, 4, 1, 16, 52, 39, 719857, tzinfo=datetime.timezone.utc), message='time=\"2025-04-01T16:52:39.719Z\" level=debug msg=\"ignore signal urgent I/O condition\" argo=true'),\n",
       " LogEntry(timestamp=datetime.datetime(2025, 4, 1, 16, 52, 39, 719896, tzinfo=datetime.timezone.utc), message='time=\"2025-04-01T16:52:39.719Z\" level=debug msg=\"ignore signal urgent I/O condition\" argo=true'),\n",
       " LogEntry(timestamp=datetime.datetime(2025, 4, 1, 16, 52, 41, 720562, tzinfo=datetime.timezone.utc), message='time=\"2025-04-01T16:52:41.720Z\" level=debug msg=\"ignore signal urgent I/O condition\" argo=true'),\n",
       " LogEntry(timestamp=datetime.datetime(2025, 4, 1, 16, 53, 49, 624828, tzinfo=datetime.timezone.utc), message='time=\"2025-04-01T16:53:49.624Z\" level=debug msg=\"ignore signal urgent I/O condition\" argo=true'),\n",
       " LogEntry(timestamp=datetime.datetime(2025, 4, 1, 16, 53, 49, 730133, tzinfo=datetime.timezone.utc), message='time=\"2025-04-01T16:53:49.729Z\" level=debug msg=\"ignore signal urgent I/O condition\" argo=true'),\n",
       " LogEntry(timestamp=datetime.datetime(2025, 4, 1, 16, 53, 59, 624390, tzinfo=datetime.timezone.utc), message='time=\"2025-04-01T16:53:59.624Z\" level=debug msg=\"ignore signal urgent I/O condition\" argo=true'),\n",
       " LogEntry(timestamp=datetime.datetime(2025, 4, 1, 16, 54, 7, 733008, tzinfo=datetime.timezone.utc), message='time=\"2025-04-01T16:54:07.732Z\" level=debug msg=\"ignore signal urgent I/O condition\" argo=true'),\n",
       " LogEntry(timestamp=datetime.datetime(2025, 4, 1, 16, 54, 8, 830884, tzinfo=datetime.timezone.utc), message='....11%...23%...33%...43%...54%...64%...74%...84%.. done.'),\n",
       " LogEntry(timestamp=datetime.datetime(2025, 4, 1, 16, 54, 9, 228660, tzinfo=datetime.timezone.utc), message='[2025-04-01T16:54:09+0000] [INFO] - SNAP execution completed successfully'),\n",
       " LogEntry(timestamp=datetime.datetime(2025, 4, 1, 16, 54, 9, 245517, tzinfo=datetime.timezone.utc), message='[METRICS][b7e4e026-badc-5634-8a16-f0b958ba6638][END] {\"phase\":\"launch_snap\", \"seconds\":\"210\", \"user\":\"co429\", \"timestamp\":\"2025/04/01 16:54:09\"}'),\n",
       " LogEntry(timestamp=datetime.datetime(2025, 4, 1, 16, 54, 9, 246041, tzinfo=datetime.timezone.utc), message='time=\"2025-04-01T16:54:09.245Z\" level=debug msg=\"ignore signal child exited\" argo=true'),\n",
       " LogEntry(timestamp=datetime.datetime(2025, 4, 1, 16, 54, 9, 759188, tzinfo=datetime.timezone.utc), message='time=\"2025-04-01T16:54:09.758Z\" level=info msg=\"sub-process exited\" argo=true error=\"<nil>\"'),\n",
       " LogEntry(timestamp=datetime.datetime(2025, 4, 1, 16, 54, 31, 842403, tzinfo=datetime.timezone.utc), message='time=\"2025-04-01T16:54:31.842Z\" level=info msg=\"Starting Workflow Executor\" version=v3.5.7'),\n",
       " LogEntry(timestamp=datetime.datetime(2025, 4, 1, 16, 54, 31, 845613, tzinfo=datetime.timezone.utc), message='time=\"2025-04-01T16:54:31.845Z\" level=info msg=\"Using executor retry strategy\" Duration=1s Factor=1.6 Jitter=0.5 Steps=5'),\n",
       " LogEntry(timestamp=datetime.datetime(2025, 4, 1, 16, 54, 31, 845625, tzinfo=datetime.timezone.utc), message='time=\"2025-04-01T16:54:31.845Z\" level=info msg=\"Executor initialized\" deadline=\"0001-01-01 00:00:00 +0000 UTC\" includeScriptOutput=false namespace=ws-serverless podName=workflow-xvt8n-stage-out-2858107518 templateName=stage-out version=\"&Version{Version:v3.5.7,BuildDate:2024-05-27T06:18:59Z,GitCommit:503eef1357ebc9facc3f463708031441072ef7c2,GitTag:v3.5.7,GitTreeState:clean,GoVersion:go1.21.10,Compiler:gc,Platform:linux/amd64,}\"'),\n",
       " LogEntry(timestamp=datetime.datetime(2025, 4, 1, 16, 54, 31, 998686, tzinfo=datetime.timezone.utc), message='time=\"2025-04-01T16:54:31.998Z\" level=info msg=\"Start loading input artifacts...\"'),\n",
       " LogEntry(timestamp=datetime.datetime(2025, 4, 1, 16, 54, 31, 998799, tzinfo=datetime.timezone.utc), message='time=\"2025-04-01T16:54:31.998Z\" level=info msg=\"Alloc=9894 TotalAlloc=13333 Sys=24421 NumGC=3 Goroutines=4\"'),\n",
       " LogEntry(timestamp=datetime.datetime(2025, 4, 1, 16, 54, 35, 399620, tzinfo=datetime.timezone.utc), message='SLF4J(W): Class path contains multiple SLF4J providers.'),\n",
       " LogEntry(timestamp=datetime.datetime(2025, 4, 1, 16, 54, 35, 399667, tzinfo=datetime.timezone.utc), message='SLF4J(W): Found provider [ch.qos.logback.classic.spi.LogbackServiceProvider@13969fbe]'),\n",
       " LogEntry(timestamp=datetime.datetime(2025, 4, 1, 16, 54, 35, 399695, tzinfo=datetime.timezone.utc), message='SLF4J(W): Found provider [org.slf4j.reload4j.Reload4jServiceProvider@6aaa5eb0]'),\n",
       " LogEntry(timestamp=datetime.datetime(2025, 4, 1, 16, 54, 35, 399740, tzinfo=datetime.timezone.utc), message='SLF4J(W): See https://www.slf4j.org/codes.html#multiple_bindings for an explanation.'),\n",
       " LogEntry(timestamp=datetime.datetime(2025, 4, 1, 16, 54, 35, 475553, tzinfo=datetime.timezone.utc), message='SLF4J(I): Actual provider is of type [ch.qos.logback.classic.spi.LogbackServiceProvider@13969fbe]'),\n",
       " LogEntry(timestamp=datetime.datetime(2025, 4, 1, 16, 54, 35, 514189, tzinfo=datetime.timezone.utc), message='Standard Commons Logging discovery in action with spring-jcl: please remove commons-logging.jar from classpath in order to avoid potential conflicts'),\n",
       " LogEntry(timestamp=datetime.datetime(2025, 4, 1, 16, 54, 36, 46879, tzinfo=datetime.timezone.utc), message='    _    _                _                               ___     _                                    ____               _    '),\n",
       " LogEntry(timestamp=datetime.datetime(2025, 4, 1, 16, 54, 36, 46897, tzinfo=datetime.timezone.utc), message='   F L  J J     ____     FJ __      ____      ____       F __\".  FJ_      ____     ___ _     ____     F __ ]    _    _   FJ_   '),\n",
       " LogEntry(timestamp=datetime.datetime(2025, 4, 1, 16, 54, 36, 46921, tzinfo=datetime.timezone.utc), message='  J J .. L L   F __ J   J |/ /L    F __ J    F __ J     J (___| J  _|    F __ J   F __` L   F __ J   J |--| L  J |  | L J  _|  '),\n",
       " LogEntry(timestamp=datetime.datetime(2025, 4, 1, 16, 54, 36, 46926, tzinfo=datetime.timezone.utc), message=\"  | |/  \\\\| |  | _____J  |    \\\\    | _____J  | |--| |    J\\\\___ \\\\ | |-'   | _____J | |--| |  | _____J  | |  | |  | |  | | | |-'  \"),\n",
       " LogEntry(timestamp=datetime.datetime(2025, 4, 1, 16, 54, 36, 46930, tzinfo=datetime.timezone.utc), message='  F   /\\\\   J  F L___--. F L:\\\\ J   F L___--. F L__J J   .--___) \\\\F |__-. F L___--.F L__J J  F L___--. F L__J J  F L__J J F |__-.'),\n",
       " LogEntry(timestamp=datetime.datetime(2025, 4, 1, 16, 54, 36, 46933, tzinfo=datetime.timezone.utc), message=' J___//\\\\\\\\___LJ\\\\______/FJ__L \\\\\\\\_J.J\\\\______/FJ\\\\______/F  J\\\\______J\\\\_____/J\\\\______/F)-____  LJ\\\\______/FJ\\\\______/FJ\\\\____,__L\\\\_____/'),\n",
       " LogEntry(timestamp=datetime.datetime(2025, 4, 1, 16, 54, 36, 46937, tzinfo=datetime.timezone.utc), message=' |___/  \\\\___| J______F |__L  \\\\L_| J______F  J______F    J______FJ_____F J______FJ\\\\______/F J______F  J______F  J____,__FJ_____F'),\n",
       " LogEntry(timestamp=datetime.datetime(2025, 4, 1, 16, 54, 36, 46941, tzinfo=datetime.timezone.utc), message='                                                                                 J______F                                      '),\n",
       " LogEntry(timestamp=datetime.datetime(2025, 4, 1, 16, 54, 36, 46945, tzinfo=datetime.timezone.utc), message='\"TITLE\" \"VERSION\"'),\n",
       " LogEntry(timestamp=datetime.datetime(2025, 4, 1, 16, 54, 36, 46948, tzinfo=datetime.timezone.utc), message='Powered by Spring Boot 3.3.1'),\n",
       " LogEntry(timestamp=datetime.datetime(2025, 4, 1, 16, 54, 36, 238489, tzinfo=datetime.timezone.utc), message='2025-04-01T16:54:36.229Z  INFO 25 --- [stageout] [           main] o.e.w.s.stageout.StageOutApplication     : Starting StageOutApplication v1.3.7 using Java 17.0.13 with PID 25 (/app.jar started by root in /)'),\n",
       " LogEntry(timestamp=datetime.datetime(2025, 4, 1, 16, 54, 36, 239917, tzinfo=datetime.timezone.utc), message='2025-04-01T16:54:36.239Z  INFO 25 --- [stageout] [           main] o.e.w.s.stageout.StageOutApplication     : No active profile set, falling back to 1 default profile: \"default\"'),\n",
       " LogEntry(timestamp=datetime.datetime(2025, 4, 1, 16, 54, 37, 611475, tzinfo=datetime.timezone.utc), message='2025-04-01T16:54:37.611Z  INFO 25 --- [stageout] [           main] o.s.b.w.embedded.tomcat.TomcatWebServer  : Tomcat initialized with port 8080 (http)'),\n",
       " LogEntry(timestamp=datetime.datetime(2025, 4, 1, 16, 54, 37, 625448, tzinfo=datetime.timezone.utc), message='2025-04-01T16:54:37.625Z  INFO 25 --- [stageout] [           main] o.apache.catalina.core.StandardService   : Starting service [Tomcat]'),\n",
       " LogEntry(timestamp=datetime.datetime(2025, 4, 1, 16, 54, 37, 625779, tzinfo=datetime.timezone.utc), message='2025-04-01T16:54:37.625Z  INFO 25 --- [stageout] [           main] o.apache.catalina.core.StandardEngine    : Starting Servlet engine: [Apache Tomcat/10.1.25]'),\n",
       " LogEntry(timestamp=datetime.datetime(2025, 4, 1, 16, 54, 37, 668237, tzinfo=datetime.timezone.utc), message='2025-04-01T16:54:37.667Z  INFO 25 --- [stageout] [           main] o.a.c.c.C.[Tomcat].[localhost].[/]       : Initializing Spring embedded WebApplicationContext'),\n",
       " LogEntry(timestamp=datetime.datetime(2025, 4, 1, 16, 54, 37, 669564, tzinfo=datetime.timezone.utc), message='2025-04-01T16:54:37.669Z  INFO 25 --- [stageout] [           main] w.s.c.ServletWebServerApplicationContext : Root WebApplicationContext: initialization completed in 1237 ms'),\n",
       " LogEntry(timestamp=datetime.datetime(2025, 4, 1, 16, 54, 37, 671891, tzinfo=datetime.timezone.utc), message='Standard Commons Logging discovery in action with spring-jcl: please remove commons-logging.jar from classpath in order to avoid potential conflicts'),\n",
       " LogEntry(timestamp=datetime.datetime(2025, 4, 1, 16, 54, 38, 973922, tzinfo=datetime.timezone.utc), message='2025-04-01T16:54:38.973Z  WARN 25 --- [stageout] [           main] .s.s.UserDetailsServiceAutoConfiguration : '),\n",
       " LogEntry(timestamp=datetime.datetime(2025, 4, 1, 16, 54, 38, 973945, tzinfo=datetime.timezone.utc), message=''),\n",
       " LogEntry(timestamp=datetime.datetime(2025, 4, 1, 16, 54, 38, 973950, tzinfo=datetime.timezone.utc), message='Using generated security password: 4432fd0e-e0db-4745-bbc4-f193c1206250'),\n",
       " LogEntry(timestamp=datetime.datetime(2025, 4, 1, 16, 54, 38, 973965, tzinfo=datetime.timezone.utc), message=''),\n",
       " LogEntry(timestamp=datetime.datetime(2025, 4, 1, 16, 54, 38, 973969, tzinfo=datetime.timezone.utc), message='This generated password is for development use only. Your security configuration must be updated before running your application in production.'),\n",
       " LogEntry(timestamp=datetime.datetime(2025, 4, 1, 16, 54, 38, 973973, tzinfo=datetime.timezone.utc), message=''),\n",
       " LogEntry(timestamp=datetime.datetime(2025, 4, 1, 16, 54, 38, 998012, tzinfo=datetime.timezone.utc), message='2025-04-01T16:54:38.997Z  INFO 25 --- [stageout] [           main] r$InitializeUserDetailsManagerConfigurer : Global AuthenticationManager configured with UserDetailsService bean with name inMemoryUserDetailsManager'),\n",
       " LogEntry(timestamp=datetime.datetime(2025, 4, 1, 16, 54, 39, 184855, tzinfo=datetime.timezone.utc), message=\"2025-04-01T16:54:39.184Z  INFO 25 --- [stageout] [           main] o.s.b.w.embedded.tomcat.TomcatWebServer  : Tomcat started on port 8080 (http) with context path '/'\"),\n",
       " LogEntry(timestamp=datetime.datetime(2025, 4, 1, 16, 54, 39, 203589, tzinfo=datetime.timezone.utc), message='2025-04-01T16:54:39.203Z  INFO 25 --- [stageout] [           main] o.e.w.s.stageout.StageOutApplication     : Started StageOutApplication in 3.529 seconds (process running for 4.153)'),\n",
       " LogEntry(timestamp=datetime.datetime(2025, 4, 1, 16, 54, 39, 229795, tzinfo=datetime.timezone.utc), message='2025-04-01T16:54:39.229Z  INFO 25 --- [stageout] [           main] o.e.w.s.logger.MetricsLogger             : [METRICS][b7e4e026-badc-5634-8a16-f0b958ba6638][START] {\"phase\":\"STAGE-OUT\",\"user\":\"co429\",\"timestamp\":\"2025-04-01T16:54:39.209384332\"}'),\n",
       " LogEntry(timestamp=datetime.datetime(2025, 4, 1, 16, 54, 39, 236666, tzinfo=datetime.timezone.utc), message='2025-04-01T16:54:39.234Z  INFO 25 --- [stageout] [           main] o.e.w.s.logger.MetricsLogger             : [METRICS][b7e4e026-badc-5634-8a16-f0b958ba6638][FILE] {\"phase\":\"STAGE-OUT\",\"file\":\"/home/worker/workDir/outDir/output/71453f54-0f19-11f0-9831-662f84628545.nc\",\"size\":475902430 }'),\n",
       " LogEntry(timestamp=datetime.datetime(2025, 4, 1, 16, 54, 39, 245291, tzinfo=datetime.timezone.utc), message='2025-04-01T16:54:39.245Z  INFO 25 --- [stageout] [           main] o.e.w.s.s.s.impl.ImportServiceImpl       : outputConfigs: []'),\n",
       " LogEntry(timestamp=datetime.datetime(2025, 4, 1, 16, 54, 39, 245366, tzinfo=datetime.timezone.utc), message='2025-04-01T16:54:39.245Z  INFO 25 --- [stageout] [           main] o.e.w.s.s.s.impl.ImportServiceImpl       : outputIds: []'),\n",
       " LogEntry(timestamp=datetime.datetime(2025, 4, 1, 16, 54, 39, 247777, tzinfo=datetime.timezone.utc), message='2025-04-01T16:54:39.246Z  INFO 25 --- [stageout] [           main] o.e.w.s.s.s.impl.ImportServiceImpl       : outputConfigs: [OutputConfig(outputsId=output, schema=null)]'),\n",
       " LogEntry(timestamp=datetime.datetime(2025, 4, 1, 16, 54, 39, 248094, tzinfo=datetime.timezone.utc), message='2025-04-01T16:54:39.247Z  INFO 25 --- [stageout] [           main] o.e.w.s.s.s.impl.ImportServiceImpl       : outputIdsDefinitions: []'),\n",
       " LogEntry(timestamp=datetime.datetime(2025, 4, 1, 16, 54, 39, 248548, tzinfo=datetime.timezone.utc), message='2025-04-01T16:54:39.248Z  INFO 25 --- [stageout] [           main] o.e.w.s.s.s.impl.ImportServiceImpl       : outputs ids [OutputConfig(outputsId=output, schema=null)]'),\n",
       " LogEntry(timestamp=datetime.datetime(2025, 4, 1, 16, 54, 39, 249020, tzinfo=datetime.timezone.utc), message='2025-04-01T16:54:39.248Z  INFO 25 --- [stageout] [           main] o.e.w.s.s.s.impl.ImportServiceImpl       : fileUris start pushFiles: []'),\n",
       " LogEntry(timestamp=datetime.datetime(2025, 4, 1, 16, 54, 39, 249064, tzinfo=datetime.timezone.utc), message='2025-04-01T16:54:39.248Z  INFO 25 --- [stageout] [           main] o.e.w.s.s.s.impl.ImportServiceImpl       : outputConfig working: OutputConfig(outputsId=output, schema=null)'),\n",
       " LogEntry(timestamp=datetime.datetime(2025, 4, 1, 16, 54, 39, 249403, tzinfo=datetime.timezone.utc), message='2025-04-01T16:54:39.249Z  INFO 25 --- [stageout] [           main] o.e.w.s.s.s.impl.ImportServiceImpl       : resultListOf: [/home/worker/workDir/outDir/output/71453f54-0f19-11f0-9831-662f84628545.nc]'),\n",
       " LogEntry(timestamp=datetime.datetime(2025, 4, 1, 16, 54, 45, 49204, tzinfo=datetime.timezone.utc), message='time=\"2025-04-01T16:54:45.049Z\" level=debug msg=\"ignore signal urgent I/O condition\" argo=true'),\n",
       " LogEntry(timestamp=datetime.datetime(2025, 4, 1, 16, 54, 45, 792672, tzinfo=datetime.timezone.utc), message='2025-04-01T16:54:45.792Z  INFO 25 --- [stageout] [           main] o.e.w.s.s.s.impl.ImportServiceImpl       : filesToIngest: [wks3:///b7e4e026-badc-5634-8a16-f0b958ba6638/output/71453f54-0f19-11f0-9831-662f84628545.nc]'),\n",
       " LogEntry(timestamp=datetime.datetime(2025, 4, 1, 16, 54, 45, 792702, tzinfo=datetime.timezone.utc), message='2025-04-01T16:54:45.792Z  INFO 25 --- [stageout] [           main] o.e.w.s.s.s.impl.ImportServiceImpl       : fileUris added [wks3:///b7e4e026-badc-5634-8a16-f0b958ba6638/output/71453f54-0f19-11f0-9831-662f84628545.nc]'),\n",
       " LogEntry(timestamp=datetime.datetime(2025, 4, 1, 16, 54, 45, 793047, tzinfo=datetime.timezone.utc), message='2025-04-01T16:54:45.792Z  INFO 25 --- [stageout] [           main] o.e.w.s.s.s.impl.ImportServiceImpl       : pushFiles results: ResultsCollection(results=[wks3:///b7e4e026-badc-5634-8a16-f0b958ba6638/output/71453f54-0f19-11f0-9831-662f84628545.nc])'),\n",
       " LogEntry(timestamp=datetime.datetime(2025, 4, 1, 16, 54, 45, 793238, tzinfo=datetime.timezone.utc), message='2025-04-01T16:54:45.792Z  INFO 25 --- [stageout] [           main] o.e.w.s.s.s.impl.ImportServiceImpl       : ResultsCollection pushed: ResultsCollection(results=[wks3:///b7e4e026-badc-5634-8a16-f0b958ba6638/output/71453f54-0f19-11f0-9831-662f84628545.nc])'),\n",
       " LogEntry(timestamp=datetime.datetime(2025, 4, 1, 16, 54, 45, 838753, tzinfo=datetime.timezone.utc), message='2025-04-01T16:54:45.838Z  INFO 25 --- [stageout] [           main] o.e.w.s.s.s.i.HttpIngestRequestService   : Request{method=POST, url=http://importer.ws-serverless.svc.cluster.local:8080/import/8404/results, headers=[Content-Type:application/json; charset=utf-8]}'),\n",
       " LogEntry(timestamp=datetime.datetime(2025, 4, 1, 16, 54, 45, 897678, tzinfo=datetime.timezone.utc), message='2025-04-01T16:54:45.897Z  INFO 25 --- [stageout] [           main] o.e.w.s.logger.MetricsLogger             : [METRICS][b7e4e026-badc-5634-8a16-f0b958ba6638][END] {\"phase\":\"STAGE-OUT\",\"user\":\"co429\",\"timestamp\":\"2025-04-01T16:54:39.209384332\",\"duration\":\"6\"}'),\n",
       " LogEntry(timestamp=datetime.datetime(2025, 4, 1, 16, 54, 45, 897735, tzinfo=datetime.timezone.utc), message='2025-04-01T16:54:45.897Z  INFO 25 --- [stageout] [           main] o.e.w.s.stageout.StageOutApplication     : importResults: true'),\n",
       " LogEntry(timestamp=datetime.datetime(2025, 4, 1, 16, 54, 45, 897836, tzinfo=datetime.timezone.utc), message='2025-04-01T16:54:45.897Z  INFO 25 --- [stageout] [           main] o.e.w.s.stageout.StageOutApplication     : shutdown...'),\n",
       " LogEntry(timestamp=datetime.datetime(2025, 4, 1, 16, 54, 45, 910250, tzinfo=datetime.timezone.utc), message=\"2025-04-01T16:54:45.909Z  WARN 25 --- [stageout] [           main] o.s.b.f.support.DisposableBeanAdapter    : Invocation of close method failed on bean with name 'fileSystem': java.lang.UnsupportedOperationException\"),\n",
       " LogEntry(timestamp=datetime.datetime(2025, 4, 1, 16, 54, 45, 969242, tzinfo=datetime.timezone.utc), message='time=\"2025-04-01T16:54:45.969Z\" level=debug msg=\"ignore signal child exited\" argo=true'),\n",
       " LogEntry(timestamp=datetime.datetime(2025, 4, 1, 16, 54, 46, 49387, tzinfo=datetime.timezone.utc), message='time=\"2025-04-01T16:54:46.049Z\" level=info msg=\"sub-process exited\" argo=true error=\"<nil>\"')]"
      ]
     },
     "execution_count": 101,
     "metadata": {},
     "output_type": "execute_result"
    }
   ],
   "source": [
    "api.get_job_logs(job=job)"
   ]
  },
  {
   "cell_type": "code",
   "execution_count": null,
   "id": "44f09f62-4e24-4a6b-8ef9-f34593288125",
   "metadata": {},
   "outputs": [],
   "source": []
  }
 ],
 "metadata": {
  "kernelspec": {
   "display_name": "Python 3 (ipykernel)",
   "language": "python",
   "name": "python3"
  },
  "language_info": {
   "codemirror_mode": {
    "name": "ipython",
    "version": 3
   },
   "file_extension": ".py",
   "mimetype": "text/x-python",
   "name": "python",
   "nbconvert_exporter": "python",
   "pygments_lexer": "ipython3",
   "version": "3.10.16"
  }
 },
 "nbformat": 4,
 "nbformat_minor": 5
}
