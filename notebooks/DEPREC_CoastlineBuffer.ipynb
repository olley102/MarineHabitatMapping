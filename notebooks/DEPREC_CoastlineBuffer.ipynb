{
 "cells": [
  {
   "cell_type": "code",
   "execution_count": null,
   "id": "d94487c9-add9-410f-bf0f-762dbea3bcbf",
   "metadata": {},
   "outputs": [],
   "source": [
    "def coastal_buffer(tileId, land_mask, res=20, original_crs=\"EPSG:4326\", metric_crs=\"EPSG:32630\"):\n",
    "    buffer_wkt_fp = os.path.join(DATA_DIR, f'coastline_buffer/Buffered_Coastline_{tileId}.wkt')\n",
    "    with open(buffer_wkt_fp, 'r') as f:\n",
    "        buffer_wkt = f.read()\n",
    "\n",
    "    buffer_poly = from_wkt(buffer_wkt)\n",
    "\n",
    "    # Get transform and shape from template raster\n",
    "    reproj = pyproj.Transformer.from_crs(original_crs, metric_crs, always_xy=True).transform\n",
    "    lat_origin = land_mask['lat'].values[0, 0]\n",
    "    lon_origin = land_mask['lon'].values[0, 0]\n",
    "    x_origin, y_origin = reproj(lon_origin, lat_origin)\n",
    "    transform = from_origin(x_origin, y_origin, res, res)\n",
    "    out_shape = land_mask.shape\n",
    "\n",
    "    # Rasterize\n",
    "    buffer_raster = rasterize(\n",
    "        [shapely_transform(reproj, geom) for geom in buffer_poly.geoms],\n",
    "        out_shape=out_shape,\n",
    "        transform=transform,\n",
    "        fill=0,\n",
    "        dtype='uint8'\n",
    "    )\n",
    "\n",
    "    # Mask land\n",
    "    masked_raster = buffer_raster & ~land_mask\n",
    "\n",
    "    # Convert to DataArray\n",
    "    buffer_da = xr.DataArray(\n",
    "        masked_raster,\n",
    "        coords=land_mask.coords,\n",
    "        dims=land_mask.dims,\n",
    "        name='coastal_buffer'\n",
    "    )\n",
    "\n",
    "    return buffer_da"
   ]
  }
 ],
 "metadata": {
  "kernelspec": {
   "display_name": "Python 3 (ipykernel)",
   "language": "python",
   "name": "python3"
  },
  "language_info": {
   "codemirror_mode": {
    "name": "ipython",
    "version": 3
   },
   "file_extension": ".py",
   "mimetype": "text/x-python",
   "name": "python",
   "nbconvert_exporter": "python",
   "pygments_lexer": "ipython3",
   "version": "3.10.13"
  }
 },
 "nbformat": 4,
 "nbformat_minor": 5
}
